{
 "cells": [
  {
   "cell_type": "code",
   "execution_count": 1,
   "metadata": {},
   "outputs": [],
   "source": [
    "# imports\n",
    "from sophisticated.spread import SophisticatedSpreadModule\n",
    "import numpy as np\n",
    "import math\n",
    "import plotly.graph_objects as go"
   ]
  },
  {
   "cell_type": "code",
   "execution_count": 2,
   "metadata": {},
   "outputs": [],
   "source": [
    "# graph methods\n",
    "\n",
    "def graph_pdf(pdf, bid, ask):\n",
    "    fig = go.Figure(data=[go.Scatter(x=np.arange(101), y=pdf)])\n",
    "    # add the bid and ask as vertical bars\n",
    "    fig.add_vline(x=bid, line_width=3, line_dash=\"dash\", line_color=\"green\")\n",
    "    fig.add_vline(x=ask, line_width=3, line_dash=\"dash\", line_color=\"red\")\n",
    "    fig.update_layout(title=\"Probability Density Function\", xaxis_title=\"Price\", yaxis_title=\"Probability\")\n",
    "    fig.show()"
   ]
  },
  {
   "cell_type": "code",
   "execution_count": 3,
   "metadata": {},
   "outputs": [],
   "source": [
    "# Experiment parameters\n",
    "\n",
    "M = 1\n",
    "N = 10000\n",
    "T = 10\n",
    "ALPHA = 0.3\n",
    "SIGMA_W = 2\n",
    "ETA = 0.25\n",
    "SIGMA_J = 10\n",
    "P_J = 0.01\n",
    "V_T0 = 50  # initial true value"
   ]
  },
  {
   "cell_type": "code",
   "execution_count": 4,
   "metadata": {},
   "outputs": [],
   "source": [
    "# Sophisticated NMM\n",
    "from sophisticated.util import calculate_expected_value\n",
    "\n",
    "config = {\n",
    "    \"i_max\": 10,  # max inventory adjustment\n",
    "    \"i_a\": 0.5,  # inventory control scaling factor\n",
    "    \"initial_true_value\": V_T0,\n",
    "    \"initial_std_dev\": 10,\n",
    "    \"min_price\": 0,\n",
    "    \"max_price\": 100,\n",
    "    \"alpha\": ALPHA,\n",
    "    \"eta\": ETA,\n",
    "    \"sigma_W\": SIGMA_W\n",
    "}\n",
    "\n",
    "sophisticated_nmm = SophisticatedSpreadModule(config)"
   ]
  },
  {
   "cell_type": "code",
   "execution_count": 5,
   "metadata": {},
   "outputs": [
    {
     "data": {
      "application/vnd.plotly.v1+json": {
       "config": {
        "plotlyServerURL": "https://plot.ly"
       },
       "data": [
        {
         "type": "scatter",
         "x": [
          0,
          1,
          2,
          3,
          4,
          5,
          6,
          7,
          8,
          9,
          10,
          11,
          12,
          13,
          14,
          15,
          16,
          17,
          18,
          19,
          20,
          21,
          22,
          23,
          24,
          25,
          26,
          27,
          28,
          29,
          30,
          31,
          32,
          33,
          34,
          35,
          36,
          37,
          38,
          39,
          40,
          41,
          42,
          43,
          44,
          45,
          46,
          47,
          48,
          49,
          50,
          51,
          52,
          53,
          54,
          55,
          56,
          57,
          58,
          59,
          60,
          61,
          62,
          63,
          64,
          65,
          66,
          67,
          68,
          69,
          70,
          71,
          72,
          73,
          74,
          75,
          76,
          77,
          78,
          79,
          80,
          81,
          82,
          83,
          84,
          85,
          86,
          87,
          88,
          89,
          90,
          91,
          92,
          93,
          94,
          95,
          96,
          97,
          98,
          99,
          100
         ],
         "y": [
          1.4867201643942653e-7,
          2.438961811659385e-7,
          3.961300822022631e-7,
          6.369827962324479e-7,
          0.0000010140856496790416,
          0.0000015983748091408353,
          0.00000249424821893018,
          0.0000038535213581023066,
          0.000005894309351321494,
          0.000008926169618228806,
          0.000013383028424541198,
          0.000019865555820034187,
          0.000029194705336510713,
          0.000042478045616931235,
          0.00006119021974999091,
          0.00008726830763866962,
          0.00012322197069225774,
          0.00017225696917740632,
          0.0002384089243252917,
          0.00032668204837197305,
          0.00044318503485470763,
          0.0005952535020886541,
          0.0007915455041838191,
          0.0010420939368115541,
          0.001358297516911006,
          0.001752830815300599,
          0.0022394540080703435,
          0.0028327050119821987,
          0.003547460834775852,
          0.004398361520017998,
          0.005399099010591635,
          0.0065615843447178485,
          0.007895019280017715,
          0.00940491184740273,
          0.011092088314914008,
          0.012951765226190475,
          0.014972753106297544,
          0.01713686669316794,
          0.019418613983775677,
          0.02178522722286093,
          0.024197083025441588,
          0.026608536617148355,
          0.028969167934958687,
          0.03122540698140724,
          0.03332247485027791,
          0.035206548060821324,
          0.036827030122834316,
          0.03813879821176463,
          0.03910428648515232,
          0.039695272093554015,
          0.039894245472942555,
          0.039695272093554015,
          0.03910428648515232,
          0.03813879821176463,
          0.036827030122834316,
          0.035206548060821324,
          0.03332247485027791,
          0.03122540698140724,
          0.028969167934958687,
          0.026608536617148355,
          0.024197083025441588,
          0.02178522722286093,
          0.019418613983775677,
          0.01713686669316794,
          0.014972753106297544,
          0.012951765226190475,
          0.011092088314914008,
          0.00940491184740273,
          0.007895019280017715,
          0.0065615843447178485,
          0.005399099010591635,
          0.004398361520017998,
          0.003547460834775852,
          0.0028327050119821987,
          0.0022394540080703435,
          0.001752830815300599,
          0.001358297516911006,
          0.0010420939368115541,
          0.0007915455041838191,
          0.0005952535020886541,
          0.00044318503485470763,
          0.00032668204837197305,
          0.0002384089243252917,
          0.00017225696917740632,
          0.00012322197069225774,
          0.00008726830763866962,
          0.00006119021974999091,
          0.000042478045616931235,
          0.000029194705336510713,
          0.000019865555820034187,
          0.000013383028424541198,
          0.000008926169618228806,
          0.000005894309351321494,
          0.0000038535213581023066,
          0.00000249424821893018,
          0.0000015983748091408353,
          0.0000010140856496790416,
          6.369827962324479e-7,
          3.961300822022631e-7,
          2.438961811659385e-7,
          1.4867201643942653e-7
         ]
        }
       ],
       "layout": {
        "shapes": [
         {
          "line": {
           "color": "green",
           "dash": "dash",
           "width": 3
          },
          "type": "line",
          "x0": 49,
          "x1": 49,
          "xref": "x",
          "y0": 0,
          "y1": 1,
          "yref": "y domain"
         },
         {
          "line": {
           "color": "red",
           "dash": "dash",
           "width": 3
          },
          "type": "line",
          "x0": 51,
          "x1": 51,
          "xref": "x",
          "y0": 0,
          "y1": 1,
          "yref": "y domain"
         }
        ],
        "template": {
         "data": {
          "bar": [
           {
            "error_x": {
             "color": "#2a3f5f"
            },
            "error_y": {
             "color": "#2a3f5f"
            },
            "marker": {
             "line": {
              "color": "#E5ECF6",
              "width": 0.5
             },
             "pattern": {
              "fillmode": "overlay",
              "size": 10,
              "solidity": 0.2
             }
            },
            "type": "bar"
           }
          ],
          "barpolar": [
           {
            "marker": {
             "line": {
              "color": "#E5ECF6",
              "width": 0.5
             },
             "pattern": {
              "fillmode": "overlay",
              "size": 10,
              "solidity": 0.2
             }
            },
            "type": "barpolar"
           }
          ],
          "carpet": [
           {
            "aaxis": {
             "endlinecolor": "#2a3f5f",
             "gridcolor": "white",
             "linecolor": "white",
             "minorgridcolor": "white",
             "startlinecolor": "#2a3f5f"
            },
            "baxis": {
             "endlinecolor": "#2a3f5f",
             "gridcolor": "white",
             "linecolor": "white",
             "minorgridcolor": "white",
             "startlinecolor": "#2a3f5f"
            },
            "type": "carpet"
           }
          ],
          "choropleth": [
           {
            "colorbar": {
             "outlinewidth": 0,
             "ticks": ""
            },
            "type": "choropleth"
           }
          ],
          "contour": [
           {
            "colorbar": {
             "outlinewidth": 0,
             "ticks": ""
            },
            "colorscale": [
             [
              0,
              "#0d0887"
             ],
             [
              0.1111111111111111,
              "#46039f"
             ],
             [
              0.2222222222222222,
              "#7201a8"
             ],
             [
              0.3333333333333333,
              "#9c179e"
             ],
             [
              0.4444444444444444,
              "#bd3786"
             ],
             [
              0.5555555555555556,
              "#d8576b"
             ],
             [
              0.6666666666666666,
              "#ed7953"
             ],
             [
              0.7777777777777778,
              "#fb9f3a"
             ],
             [
              0.8888888888888888,
              "#fdca26"
             ],
             [
              1,
              "#f0f921"
             ]
            ],
            "type": "contour"
           }
          ],
          "contourcarpet": [
           {
            "colorbar": {
             "outlinewidth": 0,
             "ticks": ""
            },
            "type": "contourcarpet"
           }
          ],
          "heatmap": [
           {
            "colorbar": {
             "outlinewidth": 0,
             "ticks": ""
            },
            "colorscale": [
             [
              0,
              "#0d0887"
             ],
             [
              0.1111111111111111,
              "#46039f"
             ],
             [
              0.2222222222222222,
              "#7201a8"
             ],
             [
              0.3333333333333333,
              "#9c179e"
             ],
             [
              0.4444444444444444,
              "#bd3786"
             ],
             [
              0.5555555555555556,
              "#d8576b"
             ],
             [
              0.6666666666666666,
              "#ed7953"
             ],
             [
              0.7777777777777778,
              "#fb9f3a"
             ],
             [
              0.8888888888888888,
              "#fdca26"
             ],
             [
              1,
              "#f0f921"
             ]
            ],
            "type": "heatmap"
           }
          ],
          "heatmapgl": [
           {
            "colorbar": {
             "outlinewidth": 0,
             "ticks": ""
            },
            "colorscale": [
             [
              0,
              "#0d0887"
             ],
             [
              0.1111111111111111,
              "#46039f"
             ],
             [
              0.2222222222222222,
              "#7201a8"
             ],
             [
              0.3333333333333333,
              "#9c179e"
             ],
             [
              0.4444444444444444,
              "#bd3786"
             ],
             [
              0.5555555555555556,
              "#d8576b"
             ],
             [
              0.6666666666666666,
              "#ed7953"
             ],
             [
              0.7777777777777778,
              "#fb9f3a"
             ],
             [
              0.8888888888888888,
              "#fdca26"
             ],
             [
              1,
              "#f0f921"
             ]
            ],
            "type": "heatmapgl"
           }
          ],
          "histogram": [
           {
            "marker": {
             "pattern": {
              "fillmode": "overlay",
              "size": 10,
              "solidity": 0.2
             }
            },
            "type": "histogram"
           }
          ],
          "histogram2d": [
           {
            "colorbar": {
             "outlinewidth": 0,
             "ticks": ""
            },
            "colorscale": [
             [
              0,
              "#0d0887"
             ],
             [
              0.1111111111111111,
              "#46039f"
             ],
             [
              0.2222222222222222,
              "#7201a8"
             ],
             [
              0.3333333333333333,
              "#9c179e"
             ],
             [
              0.4444444444444444,
              "#bd3786"
             ],
             [
              0.5555555555555556,
              "#d8576b"
             ],
             [
              0.6666666666666666,
              "#ed7953"
             ],
             [
              0.7777777777777778,
              "#fb9f3a"
             ],
             [
              0.8888888888888888,
              "#fdca26"
             ],
             [
              1,
              "#f0f921"
             ]
            ],
            "type": "histogram2d"
           }
          ],
          "histogram2dcontour": [
           {
            "colorbar": {
             "outlinewidth": 0,
             "ticks": ""
            },
            "colorscale": [
             [
              0,
              "#0d0887"
             ],
             [
              0.1111111111111111,
              "#46039f"
             ],
             [
              0.2222222222222222,
              "#7201a8"
             ],
             [
              0.3333333333333333,
              "#9c179e"
             ],
             [
              0.4444444444444444,
              "#bd3786"
             ],
             [
              0.5555555555555556,
              "#d8576b"
             ],
             [
              0.6666666666666666,
              "#ed7953"
             ],
             [
              0.7777777777777778,
              "#fb9f3a"
             ],
             [
              0.8888888888888888,
              "#fdca26"
             ],
             [
              1,
              "#f0f921"
             ]
            ],
            "type": "histogram2dcontour"
           }
          ],
          "mesh3d": [
           {
            "colorbar": {
             "outlinewidth": 0,
             "ticks": ""
            },
            "type": "mesh3d"
           }
          ],
          "parcoords": [
           {
            "line": {
             "colorbar": {
              "outlinewidth": 0,
              "ticks": ""
             }
            },
            "type": "parcoords"
           }
          ],
          "pie": [
           {
            "automargin": true,
            "type": "pie"
           }
          ],
          "scatter": [
           {
            "fillpattern": {
             "fillmode": "overlay",
             "size": 10,
             "solidity": 0.2
            },
            "type": "scatter"
           }
          ],
          "scatter3d": [
           {
            "line": {
             "colorbar": {
              "outlinewidth": 0,
              "ticks": ""
             }
            },
            "marker": {
             "colorbar": {
              "outlinewidth": 0,
              "ticks": ""
             }
            },
            "type": "scatter3d"
           }
          ],
          "scattercarpet": [
           {
            "marker": {
             "colorbar": {
              "outlinewidth": 0,
              "ticks": ""
             }
            },
            "type": "scattercarpet"
           }
          ],
          "scattergeo": [
           {
            "marker": {
             "colorbar": {
              "outlinewidth": 0,
              "ticks": ""
             }
            },
            "type": "scattergeo"
           }
          ],
          "scattergl": [
           {
            "marker": {
             "colorbar": {
              "outlinewidth": 0,
              "ticks": ""
             }
            },
            "type": "scattergl"
           }
          ],
          "scattermapbox": [
           {
            "marker": {
             "colorbar": {
              "outlinewidth": 0,
              "ticks": ""
             }
            },
            "type": "scattermapbox"
           }
          ],
          "scatterpolar": [
           {
            "marker": {
             "colorbar": {
              "outlinewidth": 0,
              "ticks": ""
             }
            },
            "type": "scatterpolar"
           }
          ],
          "scatterpolargl": [
           {
            "marker": {
             "colorbar": {
              "outlinewidth": 0,
              "ticks": ""
             }
            },
            "type": "scatterpolargl"
           }
          ],
          "scatterternary": [
           {
            "marker": {
             "colorbar": {
              "outlinewidth": 0,
              "ticks": ""
             }
            },
            "type": "scatterternary"
           }
          ],
          "surface": [
           {
            "colorbar": {
             "outlinewidth": 0,
             "ticks": ""
            },
            "colorscale": [
             [
              0,
              "#0d0887"
             ],
             [
              0.1111111111111111,
              "#46039f"
             ],
             [
              0.2222222222222222,
              "#7201a8"
             ],
             [
              0.3333333333333333,
              "#9c179e"
             ],
             [
              0.4444444444444444,
              "#bd3786"
             ],
             [
              0.5555555555555556,
              "#d8576b"
             ],
             [
              0.6666666666666666,
              "#ed7953"
             ],
             [
              0.7777777777777778,
              "#fb9f3a"
             ],
             [
              0.8888888888888888,
              "#fdca26"
             ],
             [
              1,
              "#f0f921"
             ]
            ],
            "type": "surface"
           }
          ],
          "table": [
           {
            "cells": {
             "fill": {
              "color": "#EBF0F8"
             },
             "line": {
              "color": "white"
             }
            },
            "header": {
             "fill": {
              "color": "#C8D4E3"
             },
             "line": {
              "color": "white"
             }
            },
            "type": "table"
           }
          ]
         },
         "layout": {
          "annotationdefaults": {
           "arrowcolor": "#2a3f5f",
           "arrowhead": 0,
           "arrowwidth": 1
          },
          "autotypenumbers": "strict",
          "coloraxis": {
           "colorbar": {
            "outlinewidth": 0,
            "ticks": ""
           }
          },
          "colorscale": {
           "diverging": [
            [
             0,
             "#8e0152"
            ],
            [
             0.1,
             "#c51b7d"
            ],
            [
             0.2,
             "#de77ae"
            ],
            [
             0.3,
             "#f1b6da"
            ],
            [
             0.4,
             "#fde0ef"
            ],
            [
             0.5,
             "#f7f7f7"
            ],
            [
             0.6,
             "#e6f5d0"
            ],
            [
             0.7,
             "#b8e186"
            ],
            [
             0.8,
             "#7fbc41"
            ],
            [
             0.9,
             "#4d9221"
            ],
            [
             1,
             "#276419"
            ]
           ],
           "sequential": [
            [
             0,
             "#0d0887"
            ],
            [
             0.1111111111111111,
             "#46039f"
            ],
            [
             0.2222222222222222,
             "#7201a8"
            ],
            [
             0.3333333333333333,
             "#9c179e"
            ],
            [
             0.4444444444444444,
             "#bd3786"
            ],
            [
             0.5555555555555556,
             "#d8576b"
            ],
            [
             0.6666666666666666,
             "#ed7953"
            ],
            [
             0.7777777777777778,
             "#fb9f3a"
            ],
            [
             0.8888888888888888,
             "#fdca26"
            ],
            [
             1,
             "#f0f921"
            ]
           ],
           "sequentialminus": [
            [
             0,
             "#0d0887"
            ],
            [
             0.1111111111111111,
             "#46039f"
            ],
            [
             0.2222222222222222,
             "#7201a8"
            ],
            [
             0.3333333333333333,
             "#9c179e"
            ],
            [
             0.4444444444444444,
             "#bd3786"
            ],
            [
             0.5555555555555556,
             "#d8576b"
            ],
            [
             0.6666666666666666,
             "#ed7953"
            ],
            [
             0.7777777777777778,
             "#fb9f3a"
            ],
            [
             0.8888888888888888,
             "#fdca26"
            ],
            [
             1,
             "#f0f921"
            ]
           ]
          },
          "colorway": [
           "#636efa",
           "#EF553B",
           "#00cc96",
           "#ab63fa",
           "#FFA15A",
           "#19d3f3",
           "#FF6692",
           "#B6E880",
           "#FF97FF",
           "#FECB52"
          ],
          "font": {
           "color": "#2a3f5f"
          },
          "geo": {
           "bgcolor": "white",
           "lakecolor": "white",
           "landcolor": "#E5ECF6",
           "showlakes": true,
           "showland": true,
           "subunitcolor": "white"
          },
          "hoverlabel": {
           "align": "left"
          },
          "hovermode": "closest",
          "mapbox": {
           "style": "light"
          },
          "paper_bgcolor": "white",
          "plot_bgcolor": "#E5ECF6",
          "polar": {
           "angularaxis": {
            "gridcolor": "white",
            "linecolor": "white",
            "ticks": ""
           },
           "bgcolor": "#E5ECF6",
           "radialaxis": {
            "gridcolor": "white",
            "linecolor": "white",
            "ticks": ""
           }
          },
          "scene": {
           "xaxis": {
            "backgroundcolor": "#E5ECF6",
            "gridcolor": "white",
            "gridwidth": 2,
            "linecolor": "white",
            "showbackground": true,
            "ticks": "",
            "zerolinecolor": "white"
           },
           "yaxis": {
            "backgroundcolor": "#E5ECF6",
            "gridcolor": "white",
            "gridwidth": 2,
            "linecolor": "white",
            "showbackground": true,
            "ticks": "",
            "zerolinecolor": "white"
           },
           "zaxis": {
            "backgroundcolor": "#E5ECF6",
            "gridcolor": "white",
            "gridwidth": 2,
            "linecolor": "white",
            "showbackground": true,
            "ticks": "",
            "zerolinecolor": "white"
           }
          },
          "shapedefaults": {
           "line": {
            "color": "#2a3f5f"
           }
          },
          "ternary": {
           "aaxis": {
            "gridcolor": "white",
            "linecolor": "white",
            "ticks": ""
           },
           "baxis": {
            "gridcolor": "white",
            "linecolor": "white",
            "ticks": ""
           },
           "bgcolor": "#E5ECF6",
           "caxis": {
            "gridcolor": "white",
            "linecolor": "white",
            "ticks": ""
           }
          },
          "title": {
           "x": 0.05
          },
          "xaxis": {
           "automargin": true,
           "gridcolor": "white",
           "linecolor": "white",
           "ticks": "",
           "title": {
            "standoff": 15
           },
           "zerolinecolor": "white",
           "zerolinewidth": 2
          },
          "yaxis": {
           "automargin": true,
           "gridcolor": "white",
           "linecolor": "white",
           "ticks": "",
           "title": {
            "standoff": 15
           },
           "zerolinecolor": "white",
           "zerolinewidth": 2
          }
         }
        },
        "title": {
         "text": "Probability Density Function"
        },
        "xaxis": {
         "title": {
          "text": "Price"
         }
        },
        "yaxis": {
         "title": {
          "text": "Probability"
         }
        }
       }
      }
     },
     "metadata": {},
     "output_type": "display_data"
    }
   ],
   "source": [
    "# graph the initial pdf\n",
    "bid, ask = sophisticated_nmm.get_spread(cur_inv=0)\n",
    "graph_pdf(sophisticated_nmm.pdf, bid, ask)"
   ]
  },
  {
   "cell_type": "code",
   "execution_count": 6,
   "metadata": {},
   "outputs": [
    {
     "name": "stdout",
     "output_type": "stream",
     "text": [
      "Bid before buy:  49\n",
      "Ask before buy:  51\n",
      "Bid after buy:  53\n",
      "Ask after buy:  55\n",
      "Bid before buy:  53\n",
      "Ask before buy:  55\n",
      "Bid after buy:  57\n",
      "Ask after buy:  58\n",
      "Bid before buy:  57\n",
      "Ask before buy:  58\n",
      "Bid after buy:  59\n",
      "Ask after buy:  61\n",
      "Bid before buy:  59\n",
      "Ask before buy:  61\n",
      "Bid after buy:  62\n",
      "Ask after buy:  63\n",
      "Bid before buy:  62\n",
      "Ask before buy:  63\n",
      "Bid after buy:  64\n",
      "Ask after buy:  65\n",
      "Bid before buy:  64\n",
      "Ask before buy:  65\n",
      "Bid after buy:  66\n",
      "Ask after buy:  67\n",
      "Bid before buy:  66\n",
      "Ask before buy:  67\n",
      "Bid after buy:  68\n",
      "Ask after buy:  69\n",
      "Bid before buy:  68\n",
      "Ask before buy:  69\n",
      "Bid after buy:  70\n",
      "Ask after buy:  71\n",
      "Bid before buy:  70\n",
      "Ask before buy:  71\n",
      "Bid after buy:  72\n",
      "Ask after buy:  73\n",
      "Bid before buy:  72\n",
      "Ask before buy:  73\n",
      "Bid after buy:  73\n",
      "Ask after buy:  74\n",
      "Bid before buy:  73\n",
      "Ask before buy:  74\n",
      "Bid after buy:  75\n",
      "Ask after buy:  76\n",
      "Bid before buy:  75\n",
      "Ask before buy:  76\n",
      "Bid after buy:  76\n",
      "Ask after buy:  77\n",
      "Bid before buy:  76\n",
      "Ask before buy:  77\n",
      "Bid after buy:  78\n",
      "Ask after buy:  79\n",
      "Bid before buy:  78\n",
      "Ask before buy:  79\n",
      "Bid after buy:  79\n",
      "Ask after buy:  80\n",
      "Bid before buy:  79\n",
      "Ask before buy:  80\n",
      "Bid after buy:  80\n",
      "Ask after buy:  81\n",
      "Bid before buy:  80\n",
      "Ask before buy:  81\n",
      "Bid after buy:  81\n",
      "Ask after buy:  82\n",
      "Bid before buy:  81\n",
      "Ask before buy:  82\n",
      "Bid after buy:  83\n",
      "Ask after buy:  84\n",
      "Bid before buy:  83\n",
      "Ask before buy:  84\n",
      "Bid after buy:  84\n",
      "Ask after buy:  85\n",
      "Bid before buy:  84\n",
      "Ask before buy:  85\n",
      "Bid after buy:  85\n",
      "Ask after buy:  86\n",
      "Bid before buy:  85\n",
      "Ask before buy:  86\n",
      "Bid after buy:  86\n",
      "Ask after buy:  87\n",
      "Bid before buy:  86\n",
      "Ask before buy:  87\n",
      "Bid after buy:  87\n",
      "Ask after buy:  88\n",
      "Bid before buy:  87\n",
      "Ask before buy:  88\n",
      "Bid after buy:  88\n",
      "Ask after buy:  89\n",
      "Bid before buy:  88\n",
      "Ask before buy:  89\n",
      "Bid after buy:  89\n",
      "Ask after buy:  90\n",
      "Bid before buy:  89\n",
      "Ask before buy:  90\n",
      "Bid after buy:  90\n",
      "Ask after buy:  91\n",
      "Bid before buy:  90\n",
      "Ask before buy:  91\n",
      "Bid after buy:  91\n",
      "Ask after buy:  92\n",
      "Bid before buy:  91\n",
      "Ask before buy:  92\n",
      "Bid after buy:  92\n",
      "Ask after buy:  93\n",
      "Bid before buy:  92\n",
      "Ask before buy:  93\n",
      "Bid after buy:  93\n",
      "Ask after buy:  94\n",
      "Bid before buy:  93\n",
      "Ask before buy:  94\n",
      "Bid after buy:  94\n",
      "Ask after buy:  95\n",
      "Bid before buy:  94\n",
      "Ask before buy:  95\n",
      "Bid after buy:  95\n",
      "Ask after buy:  96\n",
      "Bid before buy:  95\n",
      "Ask before buy:  96\n",
      "Bid after buy:  95\n",
      "Ask after buy:  96\n",
      "Bid before buy:  95\n",
      "Ask before buy:  96\n",
      "Bid after buy:  96\n",
      "Ask after buy:  97\n",
      "Bid before buy:  96\n",
      "Ask before buy:  97\n",
      "Bid after buy:  97\n",
      "Ask after buy:  98\n",
      "Bid before buy:  97\n",
      "Ask before buy:  98\n",
      "Bid after buy:  97\n",
      "Ask after buy:  98\n",
      "Bid before buy:  97\n",
      "Ask before buy:  98\n",
      "Bid after buy:  98\n",
      "Ask after buy:  99\n",
      "Bid before buy:  98\n",
      "Ask before buy:  99\n",
      "Bid after buy:  98\n",
      "Ask after buy:  99\n",
      "Bid before buy:  98\n",
      "Ask before buy:  99\n",
      "Bid after buy:  98\n",
      "Ask after buy:  99\n",
      "Bid before buy:  98\n",
      "Ask before buy:  99\n",
      "Bid after buy:  99\n",
      "Ask after buy:  100\n",
      "Bid before buy:  99\n",
      "Ask before buy:  100\n",
      "Bid after buy:  99\n",
      "Ask after buy:  100\n",
      "Bid before buy:  99\n",
      "Ask before buy:  100\n",
      "Bid after buy:  99\n",
      "Ask after buy:  100\n",
      "Bid before buy:  99\n",
      "Ask before buy:  100\n",
      "Bid after buy:  99\n",
      "Ask after buy:  100\n",
      "Bid before buy:  99\n",
      "Ask before buy:  100\n",
      "Bid after buy:  99\n",
      "Ask after buy:  100\n",
      "Bid before buy:  99\n",
      "Ask before buy:  100\n",
      "Bid after buy:  99\n",
      "Ask after buy:  100\n",
      "Bid before buy:  99\n",
      "Ask before buy:  100\n",
      "Bid after buy:  99\n",
      "Ask after buy:  100\n",
      "Bid before buy:  99\n",
      "Ask before buy:  100\n",
      "Bid after buy:  99\n",
      "Ask after buy:  100\n",
      "Bid before buy:  99\n",
      "Ask before buy:  100\n",
      "Bid after buy:  99\n",
      "Ask after buy:  100\n",
      "Bid before buy:  99\n",
      "Ask before buy:  100\n",
      "Bid after buy:  99\n",
      "Ask after buy:  100\n",
      "Bid before buy:  99\n",
      "Ask before buy:  100\n",
      "Bid after buy:  99\n",
      "Ask after buy:  100\n",
      "Bid before buy:  99\n",
      "Ask before buy:  100\n",
      "Bid after buy:  99\n",
      "Ask after buy:  100\n",
      "Bid before buy:  99\n",
      "Ask before buy:  100\n",
      "Bid after buy:  99\n",
      "Ask after buy:  100\n",
      "Bid before buy:  99\n",
      "Ask before buy:  100\n",
      "Bid after buy:  99\n",
      "Ask after buy:  100\n",
      "Bid before buy:  99\n",
      "Ask before buy:  100\n",
      "Bid after buy:  99\n",
      "Ask after buy:  100\n",
      "Bid before buy:  99\n",
      "Ask before buy:  100\n",
      "Bid after buy:  99\n",
      "Ask after buy:  100\n",
      "Bid before buy:  99\n",
      "Ask before buy:  100\n",
      "Bid after buy:  99\n",
      "Ask after buy:  100\n",
      "Bid before buy:  99\n",
      "Ask before buy:  100\n",
      "Bid after buy:  99\n",
      "Ask after buy:  100\n",
      "Bid before buy:  99\n",
      "Ask before buy:  100\n",
      "Bid after buy:  99\n",
      "Ask after buy:  100\n",
      "Bid before buy:  99\n",
      "Ask before buy:  100\n",
      "Bid after buy:  99\n",
      "Ask after buy:  100\n",
      "Bid before buy:  99\n",
      "Ask before buy:  100\n",
      "Bid after buy:  99\n",
      "Ask after buy:  100\n",
      "Bid before buy:  99\n",
      "Ask before buy:  100\n",
      "Bid after buy:  99\n",
      "Ask after buy:  100\n",
      "Bid before buy:  99\n",
      "Ask before buy:  100\n",
      "Bid after buy:  99\n",
      "Ask after buy:  100\n",
      "Bid before buy:  99\n",
      "Ask before buy:  100\n",
      "Bid after buy:  99\n",
      "Ask after buy:  100\n",
      "Bid before buy:  99\n",
      "Ask before buy:  100\n",
      "Bid after buy:  99\n",
      "Ask after buy:  100\n",
      "Bid before buy:  99\n",
      "Ask before buy:  100\n",
      "Bid after buy:  99\n",
      "Ask after buy:  100\n",
      "Bid before buy:  99\n",
      "Ask before buy:  100\n",
      "Bid after buy:  99\n",
      "Ask after buy:  100\n",
      "Bid before buy:  99\n",
      "Ask before buy:  100\n",
      "Bid after buy:  99\n",
      "Ask after buy:  100\n",
      "Bid before buy:  99\n",
      "Ask before buy:  100\n",
      "Bid after buy:  99\n",
      "Ask after buy:  100\n",
      "Bid before buy:  99\n",
      "Ask before buy:  100\n",
      "Bid after buy:  99\n",
      "Ask after buy:  100\n",
      "Bid before buy:  99\n",
      "Ask before buy:  100\n",
      "Bid after buy:  99\n",
      "Ask after buy:  100\n",
      "Bid before buy:  99\n",
      "Ask before buy:  100\n",
      "Bid after buy:  99\n",
      "Ask after buy:  100\n",
      "Bid before buy:  99\n",
      "Ask before buy:  100\n",
      "Bid after buy:  99\n",
      "Ask after buy:  100\n",
      "Bid before buy:  99\n",
      "Ask before buy:  100\n",
      "Bid after buy:  99\n",
      "Ask after buy:  100\n",
      "Bid before buy:  99\n",
      "Ask before buy:  100\n",
      "Bid after buy:  99\n",
      "Ask after buy:  100\n",
      "Bid before buy:  99\n",
      "Ask before buy:  100\n",
      "Bid after buy:  99\n",
      "Ask after buy:  100\n",
      "Bid before buy:  99\n",
      "Ask before buy:  100\n",
      "Bid after buy:  99\n",
      "Ask after buy:  100\n",
      "Bid before buy:  99\n",
      "Ask before buy:  100\n",
      "Bid after buy:  99\n",
      "Ask after buy:  100\n",
      "Bid before buy:  99\n",
      "Ask before buy:  100\n",
      "Bid after buy:  99\n",
      "Ask after buy:  100\n",
      "Bid before buy:  99\n",
      "Ask before buy:  100\n",
      "Bid after buy:  99\n",
      "Ask after buy:  100\n",
      "Bid before buy:  99\n",
      "Ask before buy:  100\n",
      "Bid after buy:  99\n",
      "Ask after buy:  100\n",
      "Bid before buy:  99\n",
      "Ask before buy:  100\n",
      "Bid after buy:  99\n",
      "Ask after buy:  100\n",
      "Bid before buy:  99\n",
      "Ask before buy:  100\n",
      "Bid after buy:  99\n",
      "Ask after buy:  100\n",
      "Bid before buy:  99\n",
      "Ask before buy:  100\n",
      "Bid after buy:  99\n",
      "Ask after buy:  100\n",
      "Bid before buy:  99\n",
      "Ask before buy:  100\n",
      "Bid after buy:  99\n",
      "Ask after buy:  100\n",
      "Bid before buy:  99\n",
      "Ask before buy:  100\n",
      "Bid after buy:  99\n",
      "Ask after buy:  100\n",
      "Bid before buy:  99\n",
      "Ask before buy:  100\n",
      "Bid after buy:  99\n",
      "Ask after buy:  100\n",
      "Bid before buy:  99\n",
      "Ask before buy:  100\n",
      "Bid after buy:  99\n",
      "Ask after buy:  100\n",
      "Bid before buy:  99\n",
      "Ask before buy:  100\n",
      "Bid after buy:  99\n",
      "Ask after buy:  100\n",
      "Bid before buy:  99\n",
      "Ask before buy:  100\n",
      "Bid after buy:  99\n",
      "Ask after buy:  100\n",
      "Bid before buy:  99\n",
      "Ask before buy:  100\n",
      "Bid after buy:  99\n",
      "Ask after buy:  100\n",
      "Bid before buy:  99\n",
      "Ask before buy:  100\n",
      "Bid after buy:  99\n",
      "Ask after buy:  100\n",
      "Bid before buy:  99\n",
      "Ask before buy:  100\n",
      "Bid after buy:  99\n",
      "Ask after buy:  100\n",
      "Bid before buy:  99\n",
      "Ask before buy:  100\n",
      "Bid after buy:  99\n",
      "Ask after buy:  100\n",
      "Bid before buy:  99\n",
      "Ask before buy:  100\n",
      "Bid after buy:  99\n",
      "Ask after buy:  100\n",
      "Bid before buy:  99\n",
      "Ask before buy:  100\n",
      "Bid after buy:  99\n",
      "Ask after buy:  100\n",
      "Bid before buy:  99\n",
      "Ask before buy:  100\n",
      "Bid after buy:  99\n",
      "Ask after buy:  100\n",
      "Bid before buy:  99\n",
      "Ask before buy:  100\n",
      "Bid after buy:  99\n",
      "Ask after buy:  100\n",
      "Bid before buy:  99\n",
      "Ask before buy:  100\n",
      "Bid after buy:  99\n",
      "Ask after buy:  100\n",
      "Bid before buy:  99\n",
      "Ask before buy:  100\n",
      "Bid after buy:  99\n",
      "Ask after buy:  100\n",
      "Bid before buy:  99\n",
      "Ask before buy:  100\n",
      "Bid after buy:  99\n",
      "Ask after buy:  100\n",
      "Bid before buy:  99\n",
      "Ask before buy:  100\n",
      "Bid after buy:  99\n",
      "Ask after buy:  100\n",
      "Bid before buy:  99\n",
      "Ask before buy:  100\n",
      "Bid after buy:  99\n",
      "Ask after buy:  100\n",
      "Bid before buy:  99\n",
      "Ask before buy:  100\n",
      "Bid after buy:  99\n",
      "Ask after buy:  100\n"
     ]
    }
   ],
   "source": [
    "# run buy orders through\n",
    "\n",
    "for i in range(100):\n",
    "\n",
    "    bid, ask = sophisticated_nmm.get_spread(cur_inv=0)\n",
    "\n",
    "    print(\"Bid before buy: \", bid)\n",
    "    print(\"Ask before buy: \", ask)\n",
    "\n",
    "    sophisticated_nmm.update_pdf(buy_order=True, Pa=ask)\n",
    "\n",
    "    bid, ask = sophisticated_nmm.get_spread(cur_inv=0)\n",
    "\n",
    "    print(\"Bid after buy: \", bid)\n",
    "    print(\"Ask after buy: \", ask)"
   ]
  },
  {
   "cell_type": "code",
   "execution_count": 7,
   "metadata": {},
   "outputs": [
    {
     "data": {
      "application/vnd.plotly.v1+json": {
       "config": {
        "plotlyServerURL": "https://plot.ly"
       },
       "data": [
        {
         "type": "scatter",
         "x": [
          0,
          1,
          2,
          3,
          4,
          5,
          6,
          7,
          8,
          9,
          10,
          11,
          12,
          13,
          14,
          15,
          16,
          17,
          18,
          19,
          20,
          21,
          22,
          23,
          24,
          25,
          26,
          27,
          28,
          29,
          30,
          31,
          32,
          33,
          34,
          35,
          36,
          37,
          38,
          39,
          40,
          41,
          42,
          43,
          44,
          45,
          46,
          47,
          48,
          49,
          50,
          51,
          52,
          53,
          54,
          55,
          56,
          57,
          58,
          59,
          60,
          61,
          62,
          63,
          64,
          65,
          66,
          67,
          68,
          69,
          70,
          71,
          72,
          73,
          74,
          75,
          76,
          77,
          78,
          79,
          80,
          81,
          82,
          83,
          84,
          85,
          86,
          87,
          88,
          89,
          90,
          91,
          92,
          93,
          94,
          95,
          96,
          97,
          98,
          99,
          100
         ],
         "y": [
          2.6609602608819425e-33,
          4.36530062217759e-33,
          7.090012176633028e-33,
          1.1400840240372966e-32,
          1.8150299427908864e-32,
          2.8608018852366975e-32,
          4.4642532941314676e-32,
          6.897106425234958e-32,
          1.05497479114381e-31,
          1.5976229558758934e-31,
          2.3953200918928076e-31,
          3.555575276600916e-31,
          5.225324347454766e-31,
          7.602802064142129e-31,
          1.0951942874582522e-30,
          1.5619449054525497e-30,
          2.2054504615752558e-30,
          3.0830882678435793e-30,
          4.267088646959228e-30,
          5.847017949174767e-30,
          7.932210742876678e-30,
          1.0653961331412106e-29,
          1.416723322758633e-29,
          1.8651597122121217e-29,
          2.4311069436711455e-29,
          3.13725020704521e-29,
          4.0082177293774e-29,
          5.070029752880119e-29,
          6.349313431300382e-29,
          7.872271795364193e-29,
          9.663410947012234e-29,
          1.1744049490869087e-28,
          1.413065690918596e-28,
          1.6833091581315063e-28,
          1.985283237764163e-28,
          2.3181317776238885e-28,
          2.6798520640291066e-28,
          3.0671892639076714e-28,
          3.4755807698917998e-28,
          3.8991617522036317e-28,
          4.330840463325391e-28,
          4.762449250889152e-28,
          5.184987431382806e-28,
          5.589086666485737e-28,
          5.966499092784149e-28,
          6.315920580389007e-28,
          6.6615773725342805e-28,
          7.092762142026107e-28,
          7.803642142377813e-28,
          9.058050683005146e-28,
          1.1033845132468506e-27,
          1.3714572279109064e-27,
          1.7086542433130545e-27,
          2.1432805631333844e-27,
          2.723237316221014e-27,
          3.497567750897624e-27,
          4.5318342307223526e-27,
          5.894280730841097e-27,
          7.655616820903575e-27,
          1.0011397238700324e-26,
          1.337290426045268e-26,
          1.8357519519533322e-26,
          2.5788060676527593e-26,
          3.670801917305885e-26,
          5.240989767537747e-26,
          7.450447302268164e-26,
          1.0506489910120514e-25,
          1.467932174468125e-25,
          2.0334377806760442e-25,
          2.803003807513541e-25,
          3.881686311998332e-25,
          5.481121192825678e-25,
          7.966741088982667e-25,
          1.1844863076790462e-24,
          1.7827771763080416e-24,
          2.70002682133079e-24,
          4.094786598650386e-24,
          6.264609070817945e-24,
          9.875026220549579e-24,
          1.617979282913634e-23,
          2.6985216819138086e-23,
          4.4305180168079117e-23,
          7.090192932232697e-23,
          1.1325927066265782e-22,
          1.8630229817989743e-22,
          3.202274864290677e-22,
          5.724683373398679e-22,
          1.048207081569412e-21,
          1.9350128945520897e-21,
          3.5641249262037825e-21,
          6.525657130442008e-21,
          1.1919700307262942e-20,
          2.2086670243431794e-20,
          4.3470158131958916e-20,
          1.0253085580782097e-19,
          4.050785654113778e-19,
          6.121287302798365e-18,
          1.4346206425317472e-15,
          1.5407667702475428e-11,
          0.0000033659367127318204,
          0.9999966340478782
         ]
        }
       ],
       "layout": {
        "shapes": [
         {
          "line": {
           "color": "green",
           "dash": "dash",
           "width": 3
          },
          "type": "line",
          "x0": 99,
          "x1": 99,
          "xref": "x",
          "y0": 0,
          "y1": 1,
          "yref": "y domain"
         },
         {
          "line": {
           "color": "red",
           "dash": "dash",
           "width": 3
          },
          "type": "line",
          "x0": 100,
          "x1": 100,
          "xref": "x",
          "y0": 0,
          "y1": 1,
          "yref": "y domain"
         }
        ],
        "template": {
         "data": {
          "bar": [
           {
            "error_x": {
             "color": "#2a3f5f"
            },
            "error_y": {
             "color": "#2a3f5f"
            },
            "marker": {
             "line": {
              "color": "#E5ECF6",
              "width": 0.5
             },
             "pattern": {
              "fillmode": "overlay",
              "size": 10,
              "solidity": 0.2
             }
            },
            "type": "bar"
           }
          ],
          "barpolar": [
           {
            "marker": {
             "line": {
              "color": "#E5ECF6",
              "width": 0.5
             },
             "pattern": {
              "fillmode": "overlay",
              "size": 10,
              "solidity": 0.2
             }
            },
            "type": "barpolar"
           }
          ],
          "carpet": [
           {
            "aaxis": {
             "endlinecolor": "#2a3f5f",
             "gridcolor": "white",
             "linecolor": "white",
             "minorgridcolor": "white",
             "startlinecolor": "#2a3f5f"
            },
            "baxis": {
             "endlinecolor": "#2a3f5f",
             "gridcolor": "white",
             "linecolor": "white",
             "minorgridcolor": "white",
             "startlinecolor": "#2a3f5f"
            },
            "type": "carpet"
           }
          ],
          "choropleth": [
           {
            "colorbar": {
             "outlinewidth": 0,
             "ticks": ""
            },
            "type": "choropleth"
           }
          ],
          "contour": [
           {
            "colorbar": {
             "outlinewidth": 0,
             "ticks": ""
            },
            "colorscale": [
             [
              0,
              "#0d0887"
             ],
             [
              0.1111111111111111,
              "#46039f"
             ],
             [
              0.2222222222222222,
              "#7201a8"
             ],
             [
              0.3333333333333333,
              "#9c179e"
             ],
             [
              0.4444444444444444,
              "#bd3786"
             ],
             [
              0.5555555555555556,
              "#d8576b"
             ],
             [
              0.6666666666666666,
              "#ed7953"
             ],
             [
              0.7777777777777778,
              "#fb9f3a"
             ],
             [
              0.8888888888888888,
              "#fdca26"
             ],
             [
              1,
              "#f0f921"
             ]
            ],
            "type": "contour"
           }
          ],
          "contourcarpet": [
           {
            "colorbar": {
             "outlinewidth": 0,
             "ticks": ""
            },
            "type": "contourcarpet"
           }
          ],
          "heatmap": [
           {
            "colorbar": {
             "outlinewidth": 0,
             "ticks": ""
            },
            "colorscale": [
             [
              0,
              "#0d0887"
             ],
             [
              0.1111111111111111,
              "#46039f"
             ],
             [
              0.2222222222222222,
              "#7201a8"
             ],
             [
              0.3333333333333333,
              "#9c179e"
             ],
             [
              0.4444444444444444,
              "#bd3786"
             ],
             [
              0.5555555555555556,
              "#d8576b"
             ],
             [
              0.6666666666666666,
              "#ed7953"
             ],
             [
              0.7777777777777778,
              "#fb9f3a"
             ],
             [
              0.8888888888888888,
              "#fdca26"
             ],
             [
              1,
              "#f0f921"
             ]
            ],
            "type": "heatmap"
           }
          ],
          "heatmapgl": [
           {
            "colorbar": {
             "outlinewidth": 0,
             "ticks": ""
            },
            "colorscale": [
             [
              0,
              "#0d0887"
             ],
             [
              0.1111111111111111,
              "#46039f"
             ],
             [
              0.2222222222222222,
              "#7201a8"
             ],
             [
              0.3333333333333333,
              "#9c179e"
             ],
             [
              0.4444444444444444,
              "#bd3786"
             ],
             [
              0.5555555555555556,
              "#d8576b"
             ],
             [
              0.6666666666666666,
              "#ed7953"
             ],
             [
              0.7777777777777778,
              "#fb9f3a"
             ],
             [
              0.8888888888888888,
              "#fdca26"
             ],
             [
              1,
              "#f0f921"
             ]
            ],
            "type": "heatmapgl"
           }
          ],
          "histogram": [
           {
            "marker": {
             "pattern": {
              "fillmode": "overlay",
              "size": 10,
              "solidity": 0.2
             }
            },
            "type": "histogram"
           }
          ],
          "histogram2d": [
           {
            "colorbar": {
             "outlinewidth": 0,
             "ticks": ""
            },
            "colorscale": [
             [
              0,
              "#0d0887"
             ],
             [
              0.1111111111111111,
              "#46039f"
             ],
             [
              0.2222222222222222,
              "#7201a8"
             ],
             [
              0.3333333333333333,
              "#9c179e"
             ],
             [
              0.4444444444444444,
              "#bd3786"
             ],
             [
              0.5555555555555556,
              "#d8576b"
             ],
             [
              0.6666666666666666,
              "#ed7953"
             ],
             [
              0.7777777777777778,
              "#fb9f3a"
             ],
             [
              0.8888888888888888,
              "#fdca26"
             ],
             [
              1,
              "#f0f921"
             ]
            ],
            "type": "histogram2d"
           }
          ],
          "histogram2dcontour": [
           {
            "colorbar": {
             "outlinewidth": 0,
             "ticks": ""
            },
            "colorscale": [
             [
              0,
              "#0d0887"
             ],
             [
              0.1111111111111111,
              "#46039f"
             ],
             [
              0.2222222222222222,
              "#7201a8"
             ],
             [
              0.3333333333333333,
              "#9c179e"
             ],
             [
              0.4444444444444444,
              "#bd3786"
             ],
             [
              0.5555555555555556,
              "#d8576b"
             ],
             [
              0.6666666666666666,
              "#ed7953"
             ],
             [
              0.7777777777777778,
              "#fb9f3a"
             ],
             [
              0.8888888888888888,
              "#fdca26"
             ],
             [
              1,
              "#f0f921"
             ]
            ],
            "type": "histogram2dcontour"
           }
          ],
          "mesh3d": [
           {
            "colorbar": {
             "outlinewidth": 0,
             "ticks": ""
            },
            "type": "mesh3d"
           }
          ],
          "parcoords": [
           {
            "line": {
             "colorbar": {
              "outlinewidth": 0,
              "ticks": ""
             }
            },
            "type": "parcoords"
           }
          ],
          "pie": [
           {
            "automargin": true,
            "type": "pie"
           }
          ],
          "scatter": [
           {
            "fillpattern": {
             "fillmode": "overlay",
             "size": 10,
             "solidity": 0.2
            },
            "type": "scatter"
           }
          ],
          "scatter3d": [
           {
            "line": {
             "colorbar": {
              "outlinewidth": 0,
              "ticks": ""
             }
            },
            "marker": {
             "colorbar": {
              "outlinewidth": 0,
              "ticks": ""
             }
            },
            "type": "scatter3d"
           }
          ],
          "scattercarpet": [
           {
            "marker": {
             "colorbar": {
              "outlinewidth": 0,
              "ticks": ""
             }
            },
            "type": "scattercarpet"
           }
          ],
          "scattergeo": [
           {
            "marker": {
             "colorbar": {
              "outlinewidth": 0,
              "ticks": ""
             }
            },
            "type": "scattergeo"
           }
          ],
          "scattergl": [
           {
            "marker": {
             "colorbar": {
              "outlinewidth": 0,
              "ticks": ""
             }
            },
            "type": "scattergl"
           }
          ],
          "scattermapbox": [
           {
            "marker": {
             "colorbar": {
              "outlinewidth": 0,
              "ticks": ""
             }
            },
            "type": "scattermapbox"
           }
          ],
          "scatterpolar": [
           {
            "marker": {
             "colorbar": {
              "outlinewidth": 0,
              "ticks": ""
             }
            },
            "type": "scatterpolar"
           }
          ],
          "scatterpolargl": [
           {
            "marker": {
             "colorbar": {
              "outlinewidth": 0,
              "ticks": ""
             }
            },
            "type": "scatterpolargl"
           }
          ],
          "scatterternary": [
           {
            "marker": {
             "colorbar": {
              "outlinewidth": 0,
              "ticks": ""
             }
            },
            "type": "scatterternary"
           }
          ],
          "surface": [
           {
            "colorbar": {
             "outlinewidth": 0,
             "ticks": ""
            },
            "colorscale": [
             [
              0,
              "#0d0887"
             ],
             [
              0.1111111111111111,
              "#46039f"
             ],
             [
              0.2222222222222222,
              "#7201a8"
             ],
             [
              0.3333333333333333,
              "#9c179e"
             ],
             [
              0.4444444444444444,
              "#bd3786"
             ],
             [
              0.5555555555555556,
              "#d8576b"
             ],
             [
              0.6666666666666666,
              "#ed7953"
             ],
             [
              0.7777777777777778,
              "#fb9f3a"
             ],
             [
              0.8888888888888888,
              "#fdca26"
             ],
             [
              1,
              "#f0f921"
             ]
            ],
            "type": "surface"
           }
          ],
          "table": [
           {
            "cells": {
             "fill": {
              "color": "#EBF0F8"
             },
             "line": {
              "color": "white"
             }
            },
            "header": {
             "fill": {
              "color": "#C8D4E3"
             },
             "line": {
              "color": "white"
             }
            },
            "type": "table"
           }
          ]
         },
         "layout": {
          "annotationdefaults": {
           "arrowcolor": "#2a3f5f",
           "arrowhead": 0,
           "arrowwidth": 1
          },
          "autotypenumbers": "strict",
          "coloraxis": {
           "colorbar": {
            "outlinewidth": 0,
            "ticks": ""
           }
          },
          "colorscale": {
           "diverging": [
            [
             0,
             "#8e0152"
            ],
            [
             0.1,
             "#c51b7d"
            ],
            [
             0.2,
             "#de77ae"
            ],
            [
             0.3,
             "#f1b6da"
            ],
            [
             0.4,
             "#fde0ef"
            ],
            [
             0.5,
             "#f7f7f7"
            ],
            [
             0.6,
             "#e6f5d0"
            ],
            [
             0.7,
             "#b8e186"
            ],
            [
             0.8,
             "#7fbc41"
            ],
            [
             0.9,
             "#4d9221"
            ],
            [
             1,
             "#276419"
            ]
           ],
           "sequential": [
            [
             0,
             "#0d0887"
            ],
            [
             0.1111111111111111,
             "#46039f"
            ],
            [
             0.2222222222222222,
             "#7201a8"
            ],
            [
             0.3333333333333333,
             "#9c179e"
            ],
            [
             0.4444444444444444,
             "#bd3786"
            ],
            [
             0.5555555555555556,
             "#d8576b"
            ],
            [
             0.6666666666666666,
             "#ed7953"
            ],
            [
             0.7777777777777778,
             "#fb9f3a"
            ],
            [
             0.8888888888888888,
             "#fdca26"
            ],
            [
             1,
             "#f0f921"
            ]
           ],
           "sequentialminus": [
            [
             0,
             "#0d0887"
            ],
            [
             0.1111111111111111,
             "#46039f"
            ],
            [
             0.2222222222222222,
             "#7201a8"
            ],
            [
             0.3333333333333333,
             "#9c179e"
            ],
            [
             0.4444444444444444,
             "#bd3786"
            ],
            [
             0.5555555555555556,
             "#d8576b"
            ],
            [
             0.6666666666666666,
             "#ed7953"
            ],
            [
             0.7777777777777778,
             "#fb9f3a"
            ],
            [
             0.8888888888888888,
             "#fdca26"
            ],
            [
             1,
             "#f0f921"
            ]
           ]
          },
          "colorway": [
           "#636efa",
           "#EF553B",
           "#00cc96",
           "#ab63fa",
           "#FFA15A",
           "#19d3f3",
           "#FF6692",
           "#B6E880",
           "#FF97FF",
           "#FECB52"
          ],
          "font": {
           "color": "#2a3f5f"
          },
          "geo": {
           "bgcolor": "white",
           "lakecolor": "white",
           "landcolor": "#E5ECF6",
           "showlakes": true,
           "showland": true,
           "subunitcolor": "white"
          },
          "hoverlabel": {
           "align": "left"
          },
          "hovermode": "closest",
          "mapbox": {
           "style": "light"
          },
          "paper_bgcolor": "white",
          "plot_bgcolor": "#E5ECF6",
          "polar": {
           "angularaxis": {
            "gridcolor": "white",
            "linecolor": "white",
            "ticks": ""
           },
           "bgcolor": "#E5ECF6",
           "radialaxis": {
            "gridcolor": "white",
            "linecolor": "white",
            "ticks": ""
           }
          },
          "scene": {
           "xaxis": {
            "backgroundcolor": "#E5ECF6",
            "gridcolor": "white",
            "gridwidth": 2,
            "linecolor": "white",
            "showbackground": true,
            "ticks": "",
            "zerolinecolor": "white"
           },
           "yaxis": {
            "backgroundcolor": "#E5ECF6",
            "gridcolor": "white",
            "gridwidth": 2,
            "linecolor": "white",
            "showbackground": true,
            "ticks": "",
            "zerolinecolor": "white"
           },
           "zaxis": {
            "backgroundcolor": "#E5ECF6",
            "gridcolor": "white",
            "gridwidth": 2,
            "linecolor": "white",
            "showbackground": true,
            "ticks": "",
            "zerolinecolor": "white"
           }
          },
          "shapedefaults": {
           "line": {
            "color": "#2a3f5f"
           }
          },
          "ternary": {
           "aaxis": {
            "gridcolor": "white",
            "linecolor": "white",
            "ticks": ""
           },
           "baxis": {
            "gridcolor": "white",
            "linecolor": "white",
            "ticks": ""
           },
           "bgcolor": "#E5ECF6",
           "caxis": {
            "gridcolor": "white",
            "linecolor": "white",
            "ticks": ""
           }
          },
          "title": {
           "x": 0.05
          },
          "xaxis": {
           "automargin": true,
           "gridcolor": "white",
           "linecolor": "white",
           "ticks": "",
           "title": {
            "standoff": 15
           },
           "zerolinecolor": "white",
           "zerolinewidth": 2
          },
          "yaxis": {
           "automargin": true,
           "gridcolor": "white",
           "linecolor": "white",
           "ticks": "",
           "title": {
            "standoff": 15
           },
           "zerolinecolor": "white",
           "zerolinewidth": 2
          }
         }
        },
        "title": {
         "text": "Probability Density Function"
        },
        "xaxis": {
         "title": {
          "text": "Price"
         }
        },
        "yaxis": {
         "title": {
          "text": "Probability"
         }
        }
       }
      }
     },
     "metadata": {},
     "output_type": "display_data"
    }
   ],
   "source": [
    "# graph pdf\n",
    "\n",
    "graph_pdf(sophisticated_nmm.pdf, bid, ask)"
   ]
  },
  {
   "cell_type": "code",
   "execution_count": 10,
   "metadata": {},
   "outputs": [
    {
     "name": "stdout",
     "output_type": "stream",
     "text": [
      "Bid before sell:  100\n",
      "Ask before sell:  100\n",
      "Bid after sell:  100\n",
      "Ask after sell:  100\n",
      "Bid before sell:  100\n",
      "Ask before sell:  100\n",
      "Bid after sell:  100\n",
      "Ask after sell:  100\n",
      "Bid before sell:  100\n",
      "Ask before sell:  100\n",
      "Bid after sell:  100\n",
      "Ask after sell:  100\n",
      "Bid before sell:  100\n",
      "Ask before sell:  100\n",
      "Bid after sell:  100\n",
      "Ask after sell:  100\n",
      "Bid before sell:  100\n",
      "Ask before sell:  100\n",
      "Bid after sell:  100\n",
      "Ask after sell:  100\n",
      "Bid before sell:  100\n",
      "Ask before sell:  100\n",
      "Bid after sell:  100\n",
      "Ask after sell:  100\n",
      "Bid before sell:  100\n",
      "Ask before sell:  100\n",
      "Bid after sell:  100\n",
      "Ask after sell:  100\n",
      "Bid before sell:  100\n",
      "Ask before sell:  100\n",
      "Bid after sell:  100\n",
      "Ask after sell:  100\n",
      "Bid before sell:  100\n",
      "Ask before sell:  100\n",
      "Bid after sell:  100\n",
      "Ask after sell:  100\n",
      "Bid before sell:  100\n",
      "Ask before sell:  100\n",
      "Bid after sell:  100\n",
      "Ask after sell:  100\n",
      "Bid before sell:  100\n",
      "Ask before sell:  100\n",
      "Bid after sell:  100\n",
      "Ask after sell:  100\n",
      "Bid before sell:  100\n",
      "Ask before sell:  100\n",
      "Bid after sell:  100\n",
      "Ask after sell:  100\n",
      "Bid before sell:  100\n",
      "Ask before sell:  100\n",
      "Bid after sell:  100\n",
      "Ask after sell:  100\n",
      "Bid before sell:  100\n",
      "Ask before sell:  100\n",
      "Bid after sell:  100\n",
      "Ask after sell:  100\n",
      "Bid before sell:  100\n",
      "Ask before sell:  100\n",
      "Bid after sell:  100\n",
      "Ask after sell:  100\n",
      "Bid before sell:  100\n",
      "Ask before sell:  100\n",
      "Bid after sell:  100\n",
      "Ask after sell:  100\n",
      "Bid before sell:  100\n",
      "Ask before sell:  100\n",
      "Bid after sell:  100\n",
      "Ask after sell:  100\n",
      "Bid before sell:  100\n",
      "Ask before sell:  100\n",
      "Bid after sell:  100\n",
      "Ask after sell:  100\n",
      "Bid before sell:  100\n",
      "Ask before sell:  100\n",
      "Bid after sell:  100\n",
      "Ask after sell:  100\n",
      "Bid before sell:  100\n",
      "Ask before sell:  100\n",
      "Bid after sell:  100\n",
      "Ask after sell:  100\n",
      "Bid before sell:  100\n",
      "Ask before sell:  100\n",
      "Bid after sell:  100\n",
      "Ask after sell:  100\n",
      "Bid before sell:  100\n",
      "Ask before sell:  100\n",
      "Bid after sell:  100\n",
      "Ask after sell:  100\n",
      "Bid before sell:  100\n",
      "Ask before sell:  100\n",
      "Bid after sell:  100\n",
      "Ask after sell:  100\n",
      "Bid before sell:  100\n",
      "Ask before sell:  100\n",
      "Bid after sell:  100\n",
      "Ask after sell:  100\n",
      "Bid before sell:  100\n",
      "Ask before sell:  100\n",
      "Bid after sell:  100\n",
      "Ask after sell:  100\n",
      "Bid before sell:  100\n",
      "Ask before sell:  100\n",
      "Bid after sell:  100\n",
      "Ask after sell:  100\n",
      "Bid before sell:  100\n",
      "Ask before sell:  100\n",
      "Bid after sell:  100\n",
      "Ask after sell:  100\n",
      "Bid before sell:  100\n",
      "Ask before sell:  100\n",
      "Bid after sell:  100\n",
      "Ask after sell:  100\n",
      "Bid before sell:  100\n",
      "Ask before sell:  100\n",
      "Bid after sell:  100\n",
      "Ask after sell:  100\n",
      "Bid before sell:  100\n",
      "Ask before sell:  100\n",
      "Bid after sell:  100\n",
      "Ask after sell:  100\n",
      "Bid before sell:  100\n",
      "Ask before sell:  100\n",
      "Bid after sell:  100\n",
      "Ask after sell:  100\n",
      "Bid before sell:  100\n",
      "Ask before sell:  100\n",
      "Bid after sell:  100\n",
      "Ask after sell:  100\n",
      "Bid before sell:  100\n",
      "Ask before sell:  100\n",
      "Bid after sell:  100\n",
      "Ask after sell:  100\n",
      "Bid before sell:  100\n",
      "Ask before sell:  100\n",
      "Bid after sell:  100\n",
      "Ask after sell:  100\n",
      "Bid before sell:  100\n",
      "Ask before sell:  100\n",
      "Bid after sell:  100\n",
      "Ask after sell:  100\n",
      "Bid before sell:  100\n",
      "Ask before sell:  100\n",
      "Bid after sell:  100\n",
      "Ask after sell:  100\n",
      "Bid before sell:  100\n",
      "Ask before sell:  100\n",
      "Bid after sell:  100\n",
      "Ask after sell:  100\n",
      "Bid before sell:  100\n",
      "Ask before sell:  100\n",
      "Bid after sell:  100\n",
      "Ask after sell:  100\n",
      "Bid before sell:  100\n",
      "Ask before sell:  100\n",
      "Bid after sell:  100\n",
      "Ask after sell:  100\n",
      "Bid before sell:  100\n",
      "Ask before sell:  100\n",
      "Bid after sell:  100\n",
      "Ask after sell:  100\n",
      "Bid before sell:  100\n",
      "Ask before sell:  100\n",
      "Bid after sell:  100\n",
      "Ask after sell:  100\n",
      "Bid before sell:  100\n",
      "Ask before sell:  100\n",
      "Bid after sell:  100\n",
      "Ask after sell:  100\n",
      "Bid before sell:  100\n",
      "Ask before sell:  100\n",
      "Bid after sell:  100\n",
      "Ask after sell:  100\n",
      "Bid before sell:  100\n",
      "Ask before sell:  100\n",
      "Bid after sell:  100\n",
      "Ask after sell:  100\n",
      "Bid before sell:  100\n",
      "Ask before sell:  100\n",
      "Bid after sell:  100\n",
      "Ask after sell:  100\n",
      "Bid before sell:  100\n",
      "Ask before sell:  100\n",
      "Bid after sell:  100\n",
      "Ask after sell:  100\n",
      "Bid before sell:  100\n",
      "Ask before sell:  100\n",
      "Bid after sell:  100\n",
      "Ask after sell:  100\n",
      "Bid before sell:  100\n",
      "Ask before sell:  100\n",
      "Bid after sell:  100\n",
      "Ask after sell:  100\n",
      "Bid before sell:  100\n",
      "Ask before sell:  100\n",
      "Bid after sell:  100\n",
      "Ask after sell:  100\n",
      "Bid before sell:  100\n",
      "Ask before sell:  100\n",
      "Bid after sell:  100\n",
      "Ask after sell:  100\n",
      "Bid before sell:  100\n",
      "Ask before sell:  100\n",
      "Bid after sell:  100\n",
      "Ask after sell:  100\n",
      "Bid before sell:  100\n",
      "Ask before sell:  100\n",
      "Bid after sell:  100\n",
      "Ask after sell:  100\n",
      "Bid before sell:  100\n",
      "Ask before sell:  100\n",
      "Bid after sell:  100\n",
      "Ask after sell:  100\n",
      "Bid before sell:  100\n",
      "Ask before sell:  100\n",
      "Bid after sell:  100\n",
      "Ask after sell:  100\n",
      "Bid before sell:  100\n",
      "Ask before sell:  100\n",
      "Bid after sell:  100\n",
      "Ask after sell:  100\n",
      "Bid before sell:  100\n",
      "Ask before sell:  100\n",
      "Bid after sell:  100\n",
      "Ask after sell:  100\n",
      "Bid before sell:  100\n",
      "Ask before sell:  100\n",
      "Bid after sell:  100\n",
      "Ask after sell:  100\n",
      "Bid before sell:  100\n",
      "Ask before sell:  100\n",
      "Bid after sell:  100\n",
      "Ask after sell:  100\n",
      "Bid before sell:  100\n",
      "Ask before sell:  100\n",
      "Bid after sell:  100\n",
      "Ask after sell:  100\n",
      "Bid before sell:  100\n",
      "Ask before sell:  100\n",
      "Bid after sell:  100\n",
      "Ask after sell:  100\n",
      "Bid before sell:  100\n",
      "Ask before sell:  100\n",
      "Bid after sell:  100\n",
      "Ask after sell:  100\n",
      "Bid before sell:  100\n",
      "Ask before sell:  100\n",
      "Bid after sell:  100\n",
      "Ask after sell:  100\n",
      "Bid before sell:  100\n",
      "Ask before sell:  100\n",
      "Bid after sell:  100\n",
      "Ask after sell:  100\n",
      "Bid before sell:  100\n",
      "Ask before sell:  100\n",
      "Bid after sell:  100\n",
      "Ask after sell:  100\n",
      "Bid before sell:  100\n",
      "Ask before sell:  100\n",
      "Bid after sell:  100\n",
      "Ask after sell:  100\n",
      "Bid before sell:  100\n",
      "Ask before sell:  100\n",
      "Bid after sell:  100\n",
      "Ask after sell:  100\n",
      "Bid before sell:  100\n",
      "Ask before sell:  100\n",
      "Bid after sell:  100\n",
      "Ask after sell:  100\n",
      "Bid before sell:  100\n",
      "Ask before sell:  100\n",
      "Bid after sell:  100\n",
      "Ask after sell:  100\n",
      "Bid before sell:  100\n",
      "Ask before sell:  100\n",
      "Bid after sell:  100\n",
      "Ask after sell:  100\n",
      "Bid before sell:  100\n",
      "Ask before sell:  100\n",
      "Bid after sell:  100\n",
      "Ask after sell:  100\n",
      "Bid before sell:  100\n",
      "Ask before sell:  100\n",
      "Bid after sell:  100\n",
      "Ask after sell:  100\n",
      "Bid before sell:  100\n",
      "Ask before sell:  100\n",
      "Bid after sell:  100\n",
      "Ask after sell:  100\n",
      "Bid before sell:  100\n",
      "Ask before sell:  100\n",
      "Bid after sell:  100\n",
      "Ask after sell:  100\n",
      "Bid before sell:  100\n",
      "Ask before sell:  100\n",
      "Bid after sell:  100\n",
      "Ask after sell:  100\n",
      "Bid before sell:  100\n",
      "Ask before sell:  100\n",
      "Bid after sell:  100\n",
      "Ask after sell:  100\n",
      "Bid before sell:  100\n",
      "Ask before sell:  100\n",
      "Bid after sell:  100\n",
      "Ask after sell:  100\n",
      "Bid before sell:  100\n",
      "Ask before sell:  100\n",
      "Bid after sell:  100\n",
      "Ask after sell:  100\n",
      "Bid before sell:  100\n",
      "Ask before sell:  100\n",
      "Bid after sell:  100\n",
      "Ask after sell:  100\n",
      "Bid before sell:  100\n",
      "Ask before sell:  100\n",
      "Bid after sell:  100\n",
      "Ask after sell:  100\n",
      "Bid before sell:  100\n",
      "Ask before sell:  100\n",
      "Bid after sell:  100\n",
      "Ask after sell:  100\n",
      "Bid before sell:  100\n",
      "Ask before sell:  100\n",
      "Bid after sell:  100\n",
      "Ask after sell:  100\n",
      "Bid before sell:  100\n",
      "Ask before sell:  100\n",
      "Bid after sell:  100\n",
      "Ask after sell:  100\n",
      "Bid before sell:  100\n",
      "Ask before sell:  100\n",
      "Bid after sell:  100\n",
      "Ask after sell:  100\n",
      "Bid before sell:  100\n",
      "Ask before sell:  100\n",
      "Bid after sell:  100\n",
      "Ask after sell:  100\n",
      "Bid before sell:  100\n",
      "Ask before sell:  100\n",
      "Bid after sell:  100\n",
      "Ask after sell:  100\n",
      "Bid before sell:  100\n",
      "Ask before sell:  100\n",
      "Bid after sell:  100\n",
      "Ask after sell:  100\n",
      "Bid before sell:  100\n",
      "Ask before sell:  100\n",
      "Bid after sell:  100\n",
      "Ask after sell:  100\n",
      "Bid before sell:  100\n",
      "Ask before sell:  100\n",
      "Bid after sell:  100\n",
      "Ask after sell:  100\n",
      "Bid before sell:  100\n",
      "Ask before sell:  100\n",
      "Bid after sell:  100\n",
      "Ask after sell:  100\n",
      "Bid before sell:  100\n",
      "Ask before sell:  100\n",
      "Bid after sell:  100\n",
      "Ask after sell:  100\n",
      "Bid before sell:  100\n",
      "Ask before sell:  100\n",
      "Bid after sell:  100\n",
      "Ask after sell:  100\n",
      "Bid before sell:  100\n",
      "Ask before sell:  100\n",
      "Bid after sell:  100\n",
      "Ask after sell:  100\n",
      "Bid before sell:  100\n",
      "Ask before sell:  100\n",
      "Bid after sell:  100\n",
      "Ask after sell:  100\n",
      "Bid before sell:  100\n",
      "Ask before sell:  100\n",
      "Bid after sell:  100\n",
      "Ask after sell:  100\n",
      "Bid before sell:  100\n",
      "Ask before sell:  100\n",
      "Bid after sell:  100\n",
      "Ask after sell:  100\n",
      "Bid before sell:  100\n",
      "Ask before sell:  100\n",
      "Bid after sell:  100\n",
      "Ask after sell:  100\n",
      "Bid before sell:  100\n",
      "Ask before sell:  100\n",
      "Bid after sell:  100\n",
      "Ask after sell:  100\n",
      "Bid before sell:  100\n",
      "Ask before sell:  100\n",
      "Bid after sell:  100\n",
      "Ask after sell:  100\n",
      "Bid before sell:  100\n",
      "Ask before sell:  100\n",
      "Bid after sell:  100\n",
      "Ask after sell:  100\n",
      "Bid before sell:  100\n",
      "Ask before sell:  100\n",
      "Bid after sell:  100\n",
      "Ask after sell:  100\n"
     ]
    }
   ],
   "source": [
    "# Run 10 sell orders through\n",
    "\n",
    "for i in range(100):\n",
    "\n",
    "    bid, ask = sophisticated_nmm.get_spread(cur_inv=0)\n",
    "\n",
    "    print(\"Bid before sell: \", bid)\n",
    "    print(\"Ask before sell: \", ask)\n",
    "\n",
    "    sophisticated_nmm.update_pdf(buy_order=False, Pb=bid)\n",
    "\n",
    "    bid, ask = sophisticated_nmm.get_spread(cur_inv=0)\n",
    "\n",
    "    print(\"Bid after sell: \", bid)\n",
    "    print(\"Ask after sell: \", ask)"
   ]
  },
  {
   "cell_type": "code",
   "execution_count": 11,
   "metadata": {},
   "outputs": [
    {
     "data": {
      "application/vnd.plotly.v1+json": {
       "config": {
        "plotlyServerURL": "https://plot.ly"
       },
       "data": [
        {
         "type": "scatter",
         "x": [
          0,
          1,
          2,
          3,
          4,
          5,
          6,
          7,
          8,
          9,
          10,
          11,
          12,
          13,
          14,
          15,
          16,
          17,
          18,
          19,
          20,
          21,
          22,
          23,
          24,
          25,
          26,
          27,
          28,
          29,
          30,
          31,
          32,
          33,
          34,
          35,
          36,
          37,
          38,
          39,
          40,
          41,
          42,
          43,
          44,
          45,
          46,
          47,
          48,
          49,
          50,
          51,
          52,
          53,
          54,
          55,
          56,
          57,
          58,
          59,
          60,
          61,
          62,
          63,
          64,
          65,
          66,
          67,
          68,
          69,
          70,
          71,
          72,
          73,
          74,
          75,
          76,
          77,
          78,
          79,
          80,
          81,
          82,
          83,
          84,
          85,
          86,
          87,
          88,
          89,
          90,
          91,
          92,
          93,
          94,
          95,
          96,
          97,
          98,
          99,
          100
         ],
         "y": [
          1.2560018172486564e-124,
          2.0604687694488643e-124,
          3.3465618818428775e-124,
          5.381319018768066e-124,
          8.567136232806825e-124,
          1.350329209897619e-123,
          2.107175493191698e-123,
          3.255508295708749e-123,
          4.9795943002507504e-123,
          7.540951908816638e-123,
          1.130616804969663e-122,
          1.678269711286488e-122,
          2.466409202947513e-122,
          3.5886042152239456e-122,
          5.169434641733425e-122,
          7.372547679612717e-122,
          1.040996300588234e-121,
          1.455250769459481e-121,
          2.014111662518993e-121,
          2.7598552588737226e-121,
          3.7440886488663088e-121,
          5.028784153550432e-121,
          6.687086215010357e-121,
          8.803754127545538e-121,
          1.1475085832979512e-120,
          1.4808157863682326e-120,
          1.891921809594308e-120,
          2.393108486712836e-120,
          2.9969441202220204e-120,
          3.7157968219997554e-120,
          4.561233735315226e-120,
          5.543317470476177e-120,
          6.669821799958949e-120,
          7.945399984679743e-120,
          9.370750067340871e-120,
          1.0941830917656965e-119,
          1.264918951199419e-119,
          1.4477462688739199e-119,
          1.6405114451170903e-119,
          1.8404462172956465e-119,
          2.0442032044281043e-119,
          2.2479271868903185e-119,
          2.4473697454128116e-119,
          2.638108923708484e-119,
          2.8162516416782513e-119,
          2.981182336010363e-119,
          3.1443360536592404e-119,
          3.3478598950382797e-119,
          3.6834028888263696e-119,
          4.275497190181314e-119,
          5.208093386944247e-119,
          6.473425386533143e-119,
          8.065031508360556e-119,
          1.0116514409264562e-118,
          1.2853972561165974e-118,
          1.650889536253997e-118,
          2.139074420965012e-118,
          2.7821637993407875e-118,
          3.613533347554524e-118,
          4.725487001763105e-118,
          6.312154412803546e-118,
          8.664946341239049e-118,
          1.2172241558504916e-117,
          1.7326579230341227e-117,
          2.4738034494462055e-117,
          3.516691131592714e-117,
          4.9591760591127146e-117,
          6.928797494024406e-117,
          9.59804468085025e-117,
          1.3230478965608674e-116,
          1.8321976218627357e-116,
          2.5871480607784295e-116,
          3.760387343024549e-116,
          5.590902565594672e-116,
          8.41489971161831e-116,
          1.2744416532878255e-115,
          1.9327832454911321e-115,
          2.956962752495927e-115,
          4.661118416807009e-115,
          7.637035958352335e-115,
          1.2737312113204107e-114,
          2.0912520800364314e-114,
          3.346647200426923e-114,
          5.3459591961524165e-114,
          8.793668530621677e-114,
          1.511508123353548e-113,
          2.7021120544192616e-113,
          4.947651298634715e-113,
          9.133515847325386e-113,
          1.6824382330043349e-112,
          3.0831162133424376e-112,
          5.6774656292042065e-112,
          1.1162008816858056e-111,
          3.086912419904542e-111,
          3.3789503564433256e-110,
          2.9899107788280934e-107,
          1.114764876618279e-99,
          4.204468952926718e-84,
          1.8682552098184766e-59,
          1.86248487916736e-29,
          1
         ]
        }
       ],
       "layout": {
        "shapes": [
         {
          "line": {
           "color": "green",
           "dash": "dash",
           "width": 3
          },
          "type": "line",
          "x0": 100,
          "x1": 100,
          "xref": "x",
          "y0": 0,
          "y1": 1,
          "yref": "y domain"
         },
         {
          "line": {
           "color": "red",
           "dash": "dash",
           "width": 3
          },
          "type": "line",
          "x0": 100,
          "x1": 100,
          "xref": "x",
          "y0": 0,
          "y1": 1,
          "yref": "y domain"
         }
        ],
        "template": {
         "data": {
          "bar": [
           {
            "error_x": {
             "color": "#2a3f5f"
            },
            "error_y": {
             "color": "#2a3f5f"
            },
            "marker": {
             "line": {
              "color": "#E5ECF6",
              "width": 0.5
             },
             "pattern": {
              "fillmode": "overlay",
              "size": 10,
              "solidity": 0.2
             }
            },
            "type": "bar"
           }
          ],
          "barpolar": [
           {
            "marker": {
             "line": {
              "color": "#E5ECF6",
              "width": 0.5
             },
             "pattern": {
              "fillmode": "overlay",
              "size": 10,
              "solidity": 0.2
             }
            },
            "type": "barpolar"
           }
          ],
          "carpet": [
           {
            "aaxis": {
             "endlinecolor": "#2a3f5f",
             "gridcolor": "white",
             "linecolor": "white",
             "minorgridcolor": "white",
             "startlinecolor": "#2a3f5f"
            },
            "baxis": {
             "endlinecolor": "#2a3f5f",
             "gridcolor": "white",
             "linecolor": "white",
             "minorgridcolor": "white",
             "startlinecolor": "#2a3f5f"
            },
            "type": "carpet"
           }
          ],
          "choropleth": [
           {
            "colorbar": {
             "outlinewidth": 0,
             "ticks": ""
            },
            "type": "choropleth"
           }
          ],
          "contour": [
           {
            "colorbar": {
             "outlinewidth": 0,
             "ticks": ""
            },
            "colorscale": [
             [
              0,
              "#0d0887"
             ],
             [
              0.1111111111111111,
              "#46039f"
             ],
             [
              0.2222222222222222,
              "#7201a8"
             ],
             [
              0.3333333333333333,
              "#9c179e"
             ],
             [
              0.4444444444444444,
              "#bd3786"
             ],
             [
              0.5555555555555556,
              "#d8576b"
             ],
             [
              0.6666666666666666,
              "#ed7953"
             ],
             [
              0.7777777777777778,
              "#fb9f3a"
             ],
             [
              0.8888888888888888,
              "#fdca26"
             ],
             [
              1,
              "#f0f921"
             ]
            ],
            "type": "contour"
           }
          ],
          "contourcarpet": [
           {
            "colorbar": {
             "outlinewidth": 0,
             "ticks": ""
            },
            "type": "contourcarpet"
           }
          ],
          "heatmap": [
           {
            "colorbar": {
             "outlinewidth": 0,
             "ticks": ""
            },
            "colorscale": [
             [
              0,
              "#0d0887"
             ],
             [
              0.1111111111111111,
              "#46039f"
             ],
             [
              0.2222222222222222,
              "#7201a8"
             ],
             [
              0.3333333333333333,
              "#9c179e"
             ],
             [
              0.4444444444444444,
              "#bd3786"
             ],
             [
              0.5555555555555556,
              "#d8576b"
             ],
             [
              0.6666666666666666,
              "#ed7953"
             ],
             [
              0.7777777777777778,
              "#fb9f3a"
             ],
             [
              0.8888888888888888,
              "#fdca26"
             ],
             [
              1,
              "#f0f921"
             ]
            ],
            "type": "heatmap"
           }
          ],
          "heatmapgl": [
           {
            "colorbar": {
             "outlinewidth": 0,
             "ticks": ""
            },
            "colorscale": [
             [
              0,
              "#0d0887"
             ],
             [
              0.1111111111111111,
              "#46039f"
             ],
             [
              0.2222222222222222,
              "#7201a8"
             ],
             [
              0.3333333333333333,
              "#9c179e"
             ],
             [
              0.4444444444444444,
              "#bd3786"
             ],
             [
              0.5555555555555556,
              "#d8576b"
             ],
             [
              0.6666666666666666,
              "#ed7953"
             ],
             [
              0.7777777777777778,
              "#fb9f3a"
             ],
             [
              0.8888888888888888,
              "#fdca26"
             ],
             [
              1,
              "#f0f921"
             ]
            ],
            "type": "heatmapgl"
           }
          ],
          "histogram": [
           {
            "marker": {
             "pattern": {
              "fillmode": "overlay",
              "size": 10,
              "solidity": 0.2
             }
            },
            "type": "histogram"
           }
          ],
          "histogram2d": [
           {
            "colorbar": {
             "outlinewidth": 0,
             "ticks": ""
            },
            "colorscale": [
             [
              0,
              "#0d0887"
             ],
             [
              0.1111111111111111,
              "#46039f"
             ],
             [
              0.2222222222222222,
              "#7201a8"
             ],
             [
              0.3333333333333333,
              "#9c179e"
             ],
             [
              0.4444444444444444,
              "#bd3786"
             ],
             [
              0.5555555555555556,
              "#d8576b"
             ],
             [
              0.6666666666666666,
              "#ed7953"
             ],
             [
              0.7777777777777778,
              "#fb9f3a"
             ],
             [
              0.8888888888888888,
              "#fdca26"
             ],
             [
              1,
              "#f0f921"
             ]
            ],
            "type": "histogram2d"
           }
          ],
          "histogram2dcontour": [
           {
            "colorbar": {
             "outlinewidth": 0,
             "ticks": ""
            },
            "colorscale": [
             [
              0,
              "#0d0887"
             ],
             [
              0.1111111111111111,
              "#46039f"
             ],
             [
              0.2222222222222222,
              "#7201a8"
             ],
             [
              0.3333333333333333,
              "#9c179e"
             ],
             [
              0.4444444444444444,
              "#bd3786"
             ],
             [
              0.5555555555555556,
              "#d8576b"
             ],
             [
              0.6666666666666666,
              "#ed7953"
             ],
             [
              0.7777777777777778,
              "#fb9f3a"
             ],
             [
              0.8888888888888888,
              "#fdca26"
             ],
             [
              1,
              "#f0f921"
             ]
            ],
            "type": "histogram2dcontour"
           }
          ],
          "mesh3d": [
           {
            "colorbar": {
             "outlinewidth": 0,
             "ticks": ""
            },
            "type": "mesh3d"
           }
          ],
          "parcoords": [
           {
            "line": {
             "colorbar": {
              "outlinewidth": 0,
              "ticks": ""
             }
            },
            "type": "parcoords"
           }
          ],
          "pie": [
           {
            "automargin": true,
            "type": "pie"
           }
          ],
          "scatter": [
           {
            "fillpattern": {
             "fillmode": "overlay",
             "size": 10,
             "solidity": 0.2
            },
            "type": "scatter"
           }
          ],
          "scatter3d": [
           {
            "line": {
             "colorbar": {
              "outlinewidth": 0,
              "ticks": ""
             }
            },
            "marker": {
             "colorbar": {
              "outlinewidth": 0,
              "ticks": ""
             }
            },
            "type": "scatter3d"
           }
          ],
          "scattercarpet": [
           {
            "marker": {
             "colorbar": {
              "outlinewidth": 0,
              "ticks": ""
             }
            },
            "type": "scattercarpet"
           }
          ],
          "scattergeo": [
           {
            "marker": {
             "colorbar": {
              "outlinewidth": 0,
              "ticks": ""
             }
            },
            "type": "scattergeo"
           }
          ],
          "scattergl": [
           {
            "marker": {
             "colorbar": {
              "outlinewidth": 0,
              "ticks": ""
             }
            },
            "type": "scattergl"
           }
          ],
          "scattermapbox": [
           {
            "marker": {
             "colorbar": {
              "outlinewidth": 0,
              "ticks": ""
             }
            },
            "type": "scattermapbox"
           }
          ],
          "scatterpolar": [
           {
            "marker": {
             "colorbar": {
              "outlinewidth": 0,
              "ticks": ""
             }
            },
            "type": "scatterpolar"
           }
          ],
          "scatterpolargl": [
           {
            "marker": {
             "colorbar": {
              "outlinewidth": 0,
              "ticks": ""
             }
            },
            "type": "scatterpolargl"
           }
          ],
          "scatterternary": [
           {
            "marker": {
             "colorbar": {
              "outlinewidth": 0,
              "ticks": ""
             }
            },
            "type": "scatterternary"
           }
          ],
          "surface": [
           {
            "colorbar": {
             "outlinewidth": 0,
             "ticks": ""
            },
            "colorscale": [
             [
              0,
              "#0d0887"
             ],
             [
              0.1111111111111111,
              "#46039f"
             ],
             [
              0.2222222222222222,
              "#7201a8"
             ],
             [
              0.3333333333333333,
              "#9c179e"
             ],
             [
              0.4444444444444444,
              "#bd3786"
             ],
             [
              0.5555555555555556,
              "#d8576b"
             ],
             [
              0.6666666666666666,
              "#ed7953"
             ],
             [
              0.7777777777777778,
              "#fb9f3a"
             ],
             [
              0.8888888888888888,
              "#fdca26"
             ],
             [
              1,
              "#f0f921"
             ]
            ],
            "type": "surface"
           }
          ],
          "table": [
           {
            "cells": {
             "fill": {
              "color": "#EBF0F8"
             },
             "line": {
              "color": "white"
             }
            },
            "header": {
             "fill": {
              "color": "#C8D4E3"
             },
             "line": {
              "color": "white"
             }
            },
            "type": "table"
           }
          ]
         },
         "layout": {
          "annotationdefaults": {
           "arrowcolor": "#2a3f5f",
           "arrowhead": 0,
           "arrowwidth": 1
          },
          "autotypenumbers": "strict",
          "coloraxis": {
           "colorbar": {
            "outlinewidth": 0,
            "ticks": ""
           }
          },
          "colorscale": {
           "diverging": [
            [
             0,
             "#8e0152"
            ],
            [
             0.1,
             "#c51b7d"
            ],
            [
             0.2,
             "#de77ae"
            ],
            [
             0.3,
             "#f1b6da"
            ],
            [
             0.4,
             "#fde0ef"
            ],
            [
             0.5,
             "#f7f7f7"
            ],
            [
             0.6,
             "#e6f5d0"
            ],
            [
             0.7,
             "#b8e186"
            ],
            [
             0.8,
             "#7fbc41"
            ],
            [
             0.9,
             "#4d9221"
            ],
            [
             1,
             "#276419"
            ]
           ],
           "sequential": [
            [
             0,
             "#0d0887"
            ],
            [
             0.1111111111111111,
             "#46039f"
            ],
            [
             0.2222222222222222,
             "#7201a8"
            ],
            [
             0.3333333333333333,
             "#9c179e"
            ],
            [
             0.4444444444444444,
             "#bd3786"
            ],
            [
             0.5555555555555556,
             "#d8576b"
            ],
            [
             0.6666666666666666,
             "#ed7953"
            ],
            [
             0.7777777777777778,
             "#fb9f3a"
            ],
            [
             0.8888888888888888,
             "#fdca26"
            ],
            [
             1,
             "#f0f921"
            ]
           ],
           "sequentialminus": [
            [
             0,
             "#0d0887"
            ],
            [
             0.1111111111111111,
             "#46039f"
            ],
            [
             0.2222222222222222,
             "#7201a8"
            ],
            [
             0.3333333333333333,
             "#9c179e"
            ],
            [
             0.4444444444444444,
             "#bd3786"
            ],
            [
             0.5555555555555556,
             "#d8576b"
            ],
            [
             0.6666666666666666,
             "#ed7953"
            ],
            [
             0.7777777777777778,
             "#fb9f3a"
            ],
            [
             0.8888888888888888,
             "#fdca26"
            ],
            [
             1,
             "#f0f921"
            ]
           ]
          },
          "colorway": [
           "#636efa",
           "#EF553B",
           "#00cc96",
           "#ab63fa",
           "#FFA15A",
           "#19d3f3",
           "#FF6692",
           "#B6E880",
           "#FF97FF",
           "#FECB52"
          ],
          "font": {
           "color": "#2a3f5f"
          },
          "geo": {
           "bgcolor": "white",
           "lakecolor": "white",
           "landcolor": "#E5ECF6",
           "showlakes": true,
           "showland": true,
           "subunitcolor": "white"
          },
          "hoverlabel": {
           "align": "left"
          },
          "hovermode": "closest",
          "mapbox": {
           "style": "light"
          },
          "paper_bgcolor": "white",
          "plot_bgcolor": "#E5ECF6",
          "polar": {
           "angularaxis": {
            "gridcolor": "white",
            "linecolor": "white",
            "ticks": ""
           },
           "bgcolor": "#E5ECF6",
           "radialaxis": {
            "gridcolor": "white",
            "linecolor": "white",
            "ticks": ""
           }
          },
          "scene": {
           "xaxis": {
            "backgroundcolor": "#E5ECF6",
            "gridcolor": "white",
            "gridwidth": 2,
            "linecolor": "white",
            "showbackground": true,
            "ticks": "",
            "zerolinecolor": "white"
           },
           "yaxis": {
            "backgroundcolor": "#E5ECF6",
            "gridcolor": "white",
            "gridwidth": 2,
            "linecolor": "white",
            "showbackground": true,
            "ticks": "",
            "zerolinecolor": "white"
           },
           "zaxis": {
            "backgroundcolor": "#E5ECF6",
            "gridcolor": "white",
            "gridwidth": 2,
            "linecolor": "white",
            "showbackground": true,
            "ticks": "",
            "zerolinecolor": "white"
           }
          },
          "shapedefaults": {
           "line": {
            "color": "#2a3f5f"
           }
          },
          "ternary": {
           "aaxis": {
            "gridcolor": "white",
            "linecolor": "white",
            "ticks": ""
           },
           "baxis": {
            "gridcolor": "white",
            "linecolor": "white",
            "ticks": ""
           },
           "bgcolor": "#E5ECF6",
           "caxis": {
            "gridcolor": "white",
            "linecolor": "white",
            "ticks": ""
           }
          },
          "title": {
           "x": 0.05
          },
          "xaxis": {
           "automargin": true,
           "gridcolor": "white",
           "linecolor": "white",
           "ticks": "",
           "title": {
            "standoff": 15
           },
           "zerolinecolor": "white",
           "zerolinewidth": 2
          },
          "yaxis": {
           "automargin": true,
           "gridcolor": "white",
           "linecolor": "white",
           "ticks": "",
           "title": {
            "standoff": 15
           },
           "zerolinecolor": "white",
           "zerolinewidth": 2
          }
         }
        },
        "title": {
         "text": "Probability Density Function"
        },
        "xaxis": {
         "title": {
          "text": "Price"
         }
        },
        "yaxis": {
         "title": {
          "text": "Probability"
         }
        }
       }
      }
     },
     "metadata": {},
     "output_type": "display_data"
    }
   ],
   "source": [
    "# graph pdf\n",
    "\n",
    "bid, ask = sophisticated_nmm.get_spread(cur_inv=0)\n",
    "\n",
    "graph_pdf(sophisticated_nmm.pdf, bid, ask)"
   ]
  },
  {
   "cell_type": "code",
   "execution_count": 103,
   "metadata": {},
   "outputs": [
    {
     "name": "stdout",
     "output_type": "stream",
     "text": [
      "Bid before buy:  68\n",
      "Ask before buy:  69\n",
      "Bid after buy:  69\n",
      "Ask after buy:  70\n",
      "Bid before buy:  69\n",
      "Ask before buy:  70\n",
      "Bid after buy:  68\n",
      "Ask after buy:  69\n",
      "Bid before buy:  68\n",
      "Ask before buy:  69\n",
      "Bid after buy:  69\n",
      "Ask after buy:  70\n",
      "Bid before buy:  69\n",
      "Ask before buy:  70\n",
      "Bid after buy:  68\n",
      "Ask after buy:  69\n",
      "Bid before buy:  68\n",
      "Ask before buy:  69\n",
      "Bid after buy:  69\n",
      "Ask after buy:  70\n",
      "Bid before buy:  69\n",
      "Ask before buy:  70\n",
      "Bid after buy:  68\n",
      "Ask after buy:  69\n",
      "Bid before buy:  68\n",
      "Ask before buy:  69\n",
      "Bid after buy:  69\n",
      "Ask after buy:  70\n",
      "Bid before buy:  69\n",
      "Ask before buy:  70\n",
      "Bid after buy:  68\n",
      "Ask after buy:  69\n",
      "Bid before buy:  68\n",
      "Ask before buy:  69\n",
      "Bid after buy:  69\n",
      "Ask after buy:  70\n",
      "Bid before buy:  69\n",
      "Ask before buy:  70\n",
      "Bid after buy:  68\n",
      "Ask after buy:  69\n",
      "Bid before buy:  68\n",
      "Ask before buy:  69\n",
      "Bid after buy:  69\n",
      "Ask after buy:  70\n",
      "Bid before buy:  69\n",
      "Ask before buy:  70\n",
      "Bid after buy:  68\n",
      "Ask after buy:  69\n",
      "Bid before buy:  68\n",
      "Ask before buy:  69\n",
      "Bid after buy:  69\n",
      "Ask after buy:  70\n",
      "Bid before buy:  69\n",
      "Ask before buy:  70\n",
      "Bid after buy:  68\n",
      "Ask after buy:  69\n",
      "Bid before buy:  68\n",
      "Ask before buy:  69\n",
      "Bid after buy:  69\n",
      "Ask after buy:  70\n",
      "Bid before buy:  69\n",
      "Ask before buy:  70\n",
      "Bid after buy:  68\n",
      "Ask after buy:  69\n",
      "Bid before buy:  68\n",
      "Ask before buy:  69\n",
      "Bid after buy:  69\n",
      "Ask after buy:  70\n",
      "Bid before buy:  69\n",
      "Ask before buy:  70\n",
      "Bid after buy:  68\n",
      "Ask after buy:  69\n",
      "Bid before buy:  68\n",
      "Ask before buy:  69\n",
      "Bid after buy:  69\n",
      "Ask after buy:  70\n",
      "Bid before buy:  69\n",
      "Ask before buy:  70\n",
      "Bid after buy:  68\n",
      "Ask after buy:  69\n",
      "Bid before buy:  68\n",
      "Ask before buy:  69\n",
      "Bid after buy:  69\n",
      "Ask after buy:  70\n",
      "Bid before buy:  69\n",
      "Ask before buy:  70\n",
      "Bid after buy:  68\n",
      "Ask after buy:  69\n",
      "Bid before buy:  68\n",
      "Ask before buy:  69\n",
      "Bid after buy:  69\n",
      "Ask after buy:  70\n",
      "Bid before buy:  69\n",
      "Ask before buy:  70\n",
      "Bid after buy:  68\n",
      "Ask after buy:  69\n",
      "Bid before buy:  68\n",
      "Ask before buy:  69\n",
      "Bid after buy:  69\n",
      "Ask after buy:  70\n",
      "Bid before buy:  69\n",
      "Ask before buy:  70\n",
      "Bid after buy:  68\n",
      "Ask after buy:  69\n",
      "Bid before buy:  68\n",
      "Ask before buy:  69\n",
      "Bid after buy:  69\n",
      "Ask after buy:  70\n",
      "Bid before buy:  69\n",
      "Ask before buy:  70\n",
      "Bid after buy:  68\n",
      "Ask after buy:  69\n",
      "Bid before buy:  68\n",
      "Ask before buy:  69\n",
      "Bid after buy:  69\n",
      "Ask after buy:  70\n",
      "Bid before buy:  69\n",
      "Ask before buy:  70\n",
      "Bid after buy:  68\n",
      "Ask after buy:  69\n",
      "Bid before buy:  68\n",
      "Ask before buy:  69\n",
      "Bid after buy:  69\n",
      "Ask after buy:  70\n",
      "Bid before buy:  69\n",
      "Ask before buy:  70\n",
      "Bid after buy:  68\n",
      "Ask after buy:  69\n",
      "Bid before buy:  68\n",
      "Ask before buy:  69\n",
      "Bid after buy:  69\n",
      "Ask after buy:  70\n",
      "Bid before buy:  69\n",
      "Ask before buy:  70\n",
      "Bid after buy:  68\n",
      "Ask after buy:  69\n",
      "Bid before buy:  68\n",
      "Ask before buy:  69\n",
      "Bid after buy:  69\n",
      "Ask after buy:  70\n",
      "Bid before buy:  69\n",
      "Ask before buy:  70\n",
      "Bid after buy:  68\n",
      "Ask after buy:  69\n",
      "Bid before buy:  68\n",
      "Ask before buy:  69\n",
      "Bid after buy:  69\n",
      "Ask after buy:  70\n",
      "Bid before buy:  69\n",
      "Ask before buy:  70\n",
      "Bid after buy:  68\n",
      "Ask after buy:  69\n",
      "Bid before buy:  68\n",
      "Ask before buy:  69\n",
      "Bid after buy:  69\n",
      "Ask after buy:  70\n",
      "Bid before buy:  69\n",
      "Ask before buy:  70\n",
      "Bid after buy:  68\n",
      "Ask after buy:  69\n",
      "Bid before buy:  68\n",
      "Ask before buy:  69\n",
      "Bid after buy:  69\n",
      "Ask after buy:  70\n",
      "Bid before buy:  69\n",
      "Ask before buy:  70\n",
      "Bid after buy:  68\n",
      "Ask after buy:  69\n",
      "Bid before buy:  68\n",
      "Ask before buy:  69\n",
      "Bid after buy:  69\n",
      "Ask after buy:  70\n",
      "Bid before buy:  69\n",
      "Ask before buy:  70\n",
      "Bid after buy:  68\n",
      "Ask after buy:  69\n",
      "Bid before buy:  68\n",
      "Ask before buy:  69\n",
      "Bid after buy:  69\n",
      "Ask after buy:  70\n",
      "Bid before buy:  69\n",
      "Ask before buy:  70\n",
      "Bid after buy:  68\n",
      "Ask after buy:  69\n",
      "Bid before buy:  68\n",
      "Ask before buy:  69\n",
      "Bid after buy:  69\n",
      "Ask after buy:  70\n",
      "Bid before buy:  69\n",
      "Ask before buy:  70\n",
      "Bid after buy:  68\n",
      "Ask after buy:  69\n",
      "Bid before buy:  68\n",
      "Ask before buy:  69\n",
      "Bid after buy:  69\n",
      "Ask after buy:  70\n",
      "Bid before buy:  69\n",
      "Ask before buy:  70\n",
      "Bid after buy:  68\n",
      "Ask after buy:  69\n",
      "Bid before buy:  68\n",
      "Ask before buy:  69\n",
      "Bid after buy:  69\n",
      "Ask after buy:  70\n",
      "Bid before buy:  69\n",
      "Ask before buy:  70\n",
      "Bid after buy:  68\n",
      "Ask after buy:  69\n",
      "Bid before buy:  68\n",
      "Ask before buy:  69\n",
      "Bid after buy:  69\n",
      "Ask after buy:  70\n",
      "Bid before buy:  69\n",
      "Ask before buy:  70\n",
      "Bid after buy:  68\n",
      "Ask after buy:  69\n",
      "Bid before buy:  68\n",
      "Ask before buy:  69\n",
      "Bid after buy:  69\n",
      "Ask after buy:  70\n",
      "Bid before buy:  69\n",
      "Ask before buy:  70\n",
      "Bid after buy:  68\n",
      "Ask after buy:  69\n",
      "Bid before buy:  68\n",
      "Ask before buy:  69\n",
      "Bid after buy:  69\n",
      "Ask after buy:  70\n",
      "Bid before buy:  69\n",
      "Ask before buy:  70\n",
      "Bid after buy:  68\n",
      "Ask after buy:  69\n",
      "Bid before buy:  68\n",
      "Ask before buy:  69\n",
      "Bid after buy:  69\n",
      "Ask after buy:  70\n",
      "Bid before buy:  69\n",
      "Ask before buy:  70\n",
      "Bid after buy:  68\n",
      "Ask after buy:  69\n",
      "Bid before buy:  68\n",
      "Ask before buy:  69\n",
      "Bid after buy:  69\n",
      "Ask after buy:  70\n",
      "Bid before buy:  69\n",
      "Ask before buy:  70\n",
      "Bid after buy:  68\n",
      "Ask after buy:  69\n",
      "Bid before buy:  68\n",
      "Ask before buy:  69\n",
      "Bid after buy:  69\n",
      "Ask after buy:  70\n",
      "Bid before buy:  69\n",
      "Ask before buy:  70\n",
      "Bid after buy:  68\n",
      "Ask after buy:  69\n",
      "Bid before buy:  68\n",
      "Ask before buy:  69\n",
      "Bid after buy:  69\n",
      "Ask after buy:  70\n",
      "Bid before buy:  69\n",
      "Ask before buy:  70\n",
      "Bid after buy:  68\n",
      "Ask after buy:  69\n",
      "Bid before buy:  68\n",
      "Ask before buy:  69\n",
      "Bid after buy:  69\n",
      "Ask after buy:  70\n",
      "Bid before buy:  69\n",
      "Ask before buy:  70\n",
      "Bid after buy:  68\n",
      "Ask after buy:  69\n",
      "Bid before buy:  68\n",
      "Ask before buy:  69\n",
      "Bid after buy:  69\n",
      "Ask after buy:  70\n",
      "Bid before buy:  69\n",
      "Ask before buy:  70\n",
      "Bid after buy:  68\n",
      "Ask after buy:  69\n",
      "Bid before buy:  68\n",
      "Ask before buy:  69\n",
      "Bid after buy:  69\n",
      "Ask after buy:  70\n",
      "Bid before buy:  69\n",
      "Ask before buy:  70\n",
      "Bid after buy:  68\n",
      "Ask after buy:  69\n",
      "Bid before buy:  68\n",
      "Ask before buy:  69\n",
      "Bid after buy:  69\n",
      "Ask after buy:  70\n",
      "Bid before buy:  69\n",
      "Ask before buy:  70\n",
      "Bid after buy:  68\n",
      "Ask after buy:  69\n",
      "Bid before buy:  68\n",
      "Ask before buy:  69\n",
      "Bid after buy:  69\n",
      "Ask after buy:  70\n",
      "Bid before buy:  69\n",
      "Ask before buy:  70\n",
      "Bid after buy:  68\n",
      "Ask after buy:  69\n",
      "Bid before buy:  68\n",
      "Ask before buy:  69\n",
      "Bid after buy:  69\n",
      "Ask after buy:  70\n",
      "Bid before buy:  69\n",
      "Ask before buy:  70\n",
      "Bid after buy:  68\n",
      "Ask after buy:  69\n",
      "Bid before buy:  68\n",
      "Ask before buy:  69\n",
      "Bid after buy:  69\n",
      "Ask after buy:  70\n",
      "Bid before buy:  69\n",
      "Ask before buy:  70\n",
      "Bid after buy:  68\n",
      "Ask after buy:  69\n",
      "Bid before buy:  68\n",
      "Ask before buy:  69\n",
      "Bid after buy:  69\n",
      "Ask after buy:  70\n",
      "Bid before buy:  69\n",
      "Ask before buy:  70\n",
      "Bid after buy:  68\n",
      "Ask after buy:  69\n",
      "Bid before buy:  68\n",
      "Ask before buy:  69\n",
      "Bid after buy:  69\n",
      "Ask after buy:  70\n",
      "Bid before buy:  69\n",
      "Ask before buy:  70\n",
      "Bid after buy:  68\n",
      "Ask after buy:  69\n",
      "Bid before buy:  68\n",
      "Ask before buy:  69\n",
      "Bid after buy:  69\n",
      "Ask after buy:  70\n",
      "Bid before buy:  69\n",
      "Ask before buy:  70\n",
      "Bid after buy:  68\n",
      "Ask after buy:  69\n",
      "Bid before buy:  68\n",
      "Ask before buy:  69\n",
      "Bid after buy:  69\n",
      "Ask after buy:  70\n",
      "Bid before buy:  69\n",
      "Ask before buy:  70\n",
      "Bid after buy:  68\n",
      "Ask after buy:  69\n",
      "Bid before buy:  68\n",
      "Ask before buy:  69\n",
      "Bid after buy:  69\n",
      "Ask after buy:  70\n",
      "Bid before buy:  69\n",
      "Ask before buy:  70\n",
      "Bid after buy:  68\n",
      "Ask after buy:  69\n",
      "Bid before buy:  68\n",
      "Ask before buy:  69\n",
      "Bid after buy:  69\n",
      "Ask after buy:  70\n",
      "Bid before buy:  69\n",
      "Ask before buy:  70\n",
      "Bid after buy:  68\n",
      "Ask after buy:  69\n",
      "Bid before buy:  68\n",
      "Ask before buy:  69\n",
      "Bid after buy:  69\n",
      "Ask after buy:  70\n",
      "Bid before buy:  69\n",
      "Ask before buy:  70\n",
      "Bid after buy:  68\n",
      "Ask after buy:  69\n",
      "Bid before buy:  68\n",
      "Ask before buy:  69\n",
      "Bid after buy:  69\n",
      "Ask after buy:  70\n",
      "Bid before buy:  69\n",
      "Ask before buy:  70\n",
      "Bid after buy:  68\n",
      "Ask after buy:  69\n",
      "Bid before buy:  68\n",
      "Ask before buy:  69\n",
      "Bid after buy:  69\n",
      "Ask after buy:  70\n",
      "Bid before buy:  69\n",
      "Ask before buy:  70\n",
      "Bid after buy:  68\n",
      "Ask after buy:  69\n",
      "Bid before buy:  68\n",
      "Ask before buy:  69\n",
      "Bid after buy:  69\n",
      "Ask after buy:  70\n",
      "Bid before buy:  69\n",
      "Ask before buy:  70\n",
      "Bid after buy:  68\n",
      "Ask after buy:  69\n"
     ]
    }
   ],
   "source": [
    "# Run buy orders through as long as the ask price is less than 90. When it is greater than 90, start running sell orders through\n",
    "\n",
    "for i in range(100):\n",
    "\n",
    "    bid, ask = sophisticated_nmm.get_spread(cur_inv=0)\n",
    "\n",
    "    print(\"Bid before buy: \", bid)\n",
    "    print(\"Ask before buy: \", ask)\n",
    "\n",
    "    if ask < 70:\n",
    "        sophisticated_nmm.update_pdf(buy_order=True, Pa=ask)\n",
    "    else:\n",
    "        sophisticated_nmm.update_pdf(buy_order=False, Pb=bid)\n",
    "\n",
    "    bid, ask = sophisticated_nmm.get_spread(cur_inv=0)\n",
    "\n",
    "    print(\"Bid after buy: \", bid)\n",
    "    print(\"Ask after buy: \", ask)"
   ]
  },
  {
   "cell_type": "code",
   "execution_count": 104,
   "metadata": {},
   "outputs": [
    {
     "data": {
      "application/vnd.plotly.v1+json": {
       "config": {
        "plotlyServerURL": "https://plot.ly"
       },
       "data": [
        {
         "type": "scatter",
         "x": [
          0,
          1,
          2,
          3,
          4,
          5,
          6,
          7,
          8,
          9,
          10,
          11,
          12,
          13,
          14,
          15,
          16,
          17,
          18,
          19,
          20,
          21,
          22,
          23,
          24,
          25,
          26,
          27,
          28,
          29,
          30,
          31,
          32,
          33,
          34,
          35,
          36,
          37,
          38,
          39,
          40,
          41,
          42,
          43,
          44,
          45,
          46,
          47,
          48,
          49,
          50,
          51,
          52,
          53,
          54,
          55,
          56,
          57,
          58,
          59,
          60,
          61,
          62,
          63,
          64,
          65,
          66,
          67,
          68,
          69,
          70,
          71,
          72,
          73,
          74,
          75,
          76,
          77,
          78,
          79,
          80,
          81,
          82,
          83,
          84,
          85,
          86,
          87,
          88,
          89,
          90,
          91,
          92,
          93,
          94,
          95,
          96,
          97,
          98,
          99,
          100
         ],
         "y": [
          1.9026060932999736e-30,
          1.0730883810418726e-29,
          4.0146417423362733e-29,
          1.1057926120147167e-28,
          2.8338254440612835e-28,
          7.381351903881404e-28,
          1.9835746312924837e-27,
          5.65025993771728e-27,
          1.7110267131085587e-26,
          5.298805514700824e-26,
          1.6147009754412662e-25,
          4.708975688015189e-25,
          1.2751725172231782e-24,
          3.127077191061965e-24,
          6.970348263475146e-24,
          1.4781122291133352e-23,
          3.1750763639094876e-23,
          7.147262703868512e-23,
          1.643535909240071e-22,
          3.6198565330378553e-22,
          7.396157569737121e-22,
          1.4739409874608888e-21,
          3.1005983562812534e-21,
          6.97928530025842e-21,
          1.5812997782226537e-20,
          3.411642485016075e-20,
          7.02172478686144e-20,
          1.3983236527715742e-19,
          2.6837777939603336e-19,
          5.0620223296233e-19,
          9.770668448143977e-19,
          1.9291768054870173e-18,
          3.7215939067864615e-18,
          6.771470684533773e-18,
          1.1637617548603286e-17,
          1.924159403984205e-17,
          3.1168302112510895e-17,
          4.9669697173887e-17,
          7.636496186981581e-17,
          1.1100480977147712e-16,
          1.5545470471494453e-16,
          2.192892103115998e-16,
          3.1792124799235113e-16,
          4.679266738873303e-16,
          6.844171227695119e-16,
          9.698671769538476e-16,
          1.2939014233757868e-15,
          1.6237225262797566e-15,
          1.98466658609517e-15,
          2.462133250062308e-15,
          3.2011171905602707e-15,
          4.449542516322234e-15,
          6.6574534797331705e-15,
          1.070780031343264e-14,
          1.8454740074789143e-14,
          3.374014141853455e-14,
          6.415423209962689e-14,
          1.227252497981459e-13,
          2.2753648054798104e-13,
          4.0811441674160425e-13,
          7.394762457710624e-13,
          1.4086951805521289e-12,
          2.8431718931142846e-12,
          6.422287470237205e-12,
          2.156358467363723e-11,
          2.2492893236970615e-10,
          2.2565218707300033e-8,
          0.0000290898160055664,
          0.04196967875009537,
          0.9233626704585911,
          0.0346192130072652,
          0.000019312968848405082,
          1.2066624799167156e-8,
          9.842275002872309e-11,
          7.57341536415255e-12,
          1.7120078518792542e-12,
          5.454728988948622e-13,
          1.8650995465092468e-13,
          6.375510207319405e-14,
          2.1260494355284368e-14,
          6.712096017493677e-15,
          1.9492521035645357e-15,
          5.157472509328701e-16,
          1.2288803024239302e-16,
          2.629427915164354e-17,
          6.491396362601062e-18,
          3.555862984184849e-18,
          3.5719552918525645e-18,
          3.0594709046849557e-19,
          3.18906735520967e-23,
          2.9341198404805857e-30,
          3.8701069423494987e-38,
          3.260714390703914e-44,
          1.3779303875307703e-47,
          4.222261007513106e-49,
          6.890072689051192e-50,
          1.675649614755745e-50,
          7.725658856345878e-51,
          8.491360941454661e-51,
          3.217670370211612e-51,
          3.33987919458497e-53
         ]
        }
       ],
       "layout": {
        "shapes": [
         {
          "line": {
           "color": "green",
           "dash": "dash",
           "width": 3
          },
          "type": "line",
          "x0": 68,
          "x1": 68,
          "xref": "x",
          "y0": 0,
          "y1": 1,
          "yref": "y domain"
         },
         {
          "line": {
           "color": "red",
           "dash": "dash",
           "width": 3
          },
          "type": "line",
          "x0": 69,
          "x1": 69,
          "xref": "x",
          "y0": 0,
          "y1": 1,
          "yref": "y domain"
         }
        ],
        "template": {
         "data": {
          "bar": [
           {
            "error_x": {
             "color": "#2a3f5f"
            },
            "error_y": {
             "color": "#2a3f5f"
            },
            "marker": {
             "line": {
              "color": "#E5ECF6",
              "width": 0.5
             },
             "pattern": {
              "fillmode": "overlay",
              "size": 10,
              "solidity": 0.2
             }
            },
            "type": "bar"
           }
          ],
          "barpolar": [
           {
            "marker": {
             "line": {
              "color": "#E5ECF6",
              "width": 0.5
             },
             "pattern": {
              "fillmode": "overlay",
              "size": 10,
              "solidity": 0.2
             }
            },
            "type": "barpolar"
           }
          ],
          "carpet": [
           {
            "aaxis": {
             "endlinecolor": "#2a3f5f",
             "gridcolor": "white",
             "linecolor": "white",
             "minorgridcolor": "white",
             "startlinecolor": "#2a3f5f"
            },
            "baxis": {
             "endlinecolor": "#2a3f5f",
             "gridcolor": "white",
             "linecolor": "white",
             "minorgridcolor": "white",
             "startlinecolor": "#2a3f5f"
            },
            "type": "carpet"
           }
          ],
          "choropleth": [
           {
            "colorbar": {
             "outlinewidth": 0,
             "ticks": ""
            },
            "type": "choropleth"
           }
          ],
          "contour": [
           {
            "colorbar": {
             "outlinewidth": 0,
             "ticks": ""
            },
            "colorscale": [
             [
              0,
              "#0d0887"
             ],
             [
              0.1111111111111111,
              "#46039f"
             ],
             [
              0.2222222222222222,
              "#7201a8"
             ],
             [
              0.3333333333333333,
              "#9c179e"
             ],
             [
              0.4444444444444444,
              "#bd3786"
             ],
             [
              0.5555555555555556,
              "#d8576b"
             ],
             [
              0.6666666666666666,
              "#ed7953"
             ],
             [
              0.7777777777777778,
              "#fb9f3a"
             ],
             [
              0.8888888888888888,
              "#fdca26"
             ],
             [
              1,
              "#f0f921"
             ]
            ],
            "type": "contour"
           }
          ],
          "contourcarpet": [
           {
            "colorbar": {
             "outlinewidth": 0,
             "ticks": ""
            },
            "type": "contourcarpet"
           }
          ],
          "heatmap": [
           {
            "colorbar": {
             "outlinewidth": 0,
             "ticks": ""
            },
            "colorscale": [
             [
              0,
              "#0d0887"
             ],
             [
              0.1111111111111111,
              "#46039f"
             ],
             [
              0.2222222222222222,
              "#7201a8"
             ],
             [
              0.3333333333333333,
              "#9c179e"
             ],
             [
              0.4444444444444444,
              "#bd3786"
             ],
             [
              0.5555555555555556,
              "#d8576b"
             ],
             [
              0.6666666666666666,
              "#ed7953"
             ],
             [
              0.7777777777777778,
              "#fb9f3a"
             ],
             [
              0.8888888888888888,
              "#fdca26"
             ],
             [
              1,
              "#f0f921"
             ]
            ],
            "type": "heatmap"
           }
          ],
          "heatmapgl": [
           {
            "colorbar": {
             "outlinewidth": 0,
             "ticks": ""
            },
            "colorscale": [
             [
              0,
              "#0d0887"
             ],
             [
              0.1111111111111111,
              "#46039f"
             ],
             [
              0.2222222222222222,
              "#7201a8"
             ],
             [
              0.3333333333333333,
              "#9c179e"
             ],
             [
              0.4444444444444444,
              "#bd3786"
             ],
             [
              0.5555555555555556,
              "#d8576b"
             ],
             [
              0.6666666666666666,
              "#ed7953"
             ],
             [
              0.7777777777777778,
              "#fb9f3a"
             ],
             [
              0.8888888888888888,
              "#fdca26"
             ],
             [
              1,
              "#f0f921"
             ]
            ],
            "type": "heatmapgl"
           }
          ],
          "histogram": [
           {
            "marker": {
             "pattern": {
              "fillmode": "overlay",
              "size": 10,
              "solidity": 0.2
             }
            },
            "type": "histogram"
           }
          ],
          "histogram2d": [
           {
            "colorbar": {
             "outlinewidth": 0,
             "ticks": ""
            },
            "colorscale": [
             [
              0,
              "#0d0887"
             ],
             [
              0.1111111111111111,
              "#46039f"
             ],
             [
              0.2222222222222222,
              "#7201a8"
             ],
             [
              0.3333333333333333,
              "#9c179e"
             ],
             [
              0.4444444444444444,
              "#bd3786"
             ],
             [
              0.5555555555555556,
              "#d8576b"
             ],
             [
              0.6666666666666666,
              "#ed7953"
             ],
             [
              0.7777777777777778,
              "#fb9f3a"
             ],
             [
              0.8888888888888888,
              "#fdca26"
             ],
             [
              1,
              "#f0f921"
             ]
            ],
            "type": "histogram2d"
           }
          ],
          "histogram2dcontour": [
           {
            "colorbar": {
             "outlinewidth": 0,
             "ticks": ""
            },
            "colorscale": [
             [
              0,
              "#0d0887"
             ],
             [
              0.1111111111111111,
              "#46039f"
             ],
             [
              0.2222222222222222,
              "#7201a8"
             ],
             [
              0.3333333333333333,
              "#9c179e"
             ],
             [
              0.4444444444444444,
              "#bd3786"
             ],
             [
              0.5555555555555556,
              "#d8576b"
             ],
             [
              0.6666666666666666,
              "#ed7953"
             ],
             [
              0.7777777777777778,
              "#fb9f3a"
             ],
             [
              0.8888888888888888,
              "#fdca26"
             ],
             [
              1,
              "#f0f921"
             ]
            ],
            "type": "histogram2dcontour"
           }
          ],
          "mesh3d": [
           {
            "colorbar": {
             "outlinewidth": 0,
             "ticks": ""
            },
            "type": "mesh3d"
           }
          ],
          "parcoords": [
           {
            "line": {
             "colorbar": {
              "outlinewidth": 0,
              "ticks": ""
             }
            },
            "type": "parcoords"
           }
          ],
          "pie": [
           {
            "automargin": true,
            "type": "pie"
           }
          ],
          "scatter": [
           {
            "fillpattern": {
             "fillmode": "overlay",
             "size": 10,
             "solidity": 0.2
            },
            "type": "scatter"
           }
          ],
          "scatter3d": [
           {
            "line": {
             "colorbar": {
              "outlinewidth": 0,
              "ticks": ""
             }
            },
            "marker": {
             "colorbar": {
              "outlinewidth": 0,
              "ticks": ""
             }
            },
            "type": "scatter3d"
           }
          ],
          "scattercarpet": [
           {
            "marker": {
             "colorbar": {
              "outlinewidth": 0,
              "ticks": ""
             }
            },
            "type": "scattercarpet"
           }
          ],
          "scattergeo": [
           {
            "marker": {
             "colorbar": {
              "outlinewidth": 0,
              "ticks": ""
             }
            },
            "type": "scattergeo"
           }
          ],
          "scattergl": [
           {
            "marker": {
             "colorbar": {
              "outlinewidth": 0,
              "ticks": ""
             }
            },
            "type": "scattergl"
           }
          ],
          "scattermapbox": [
           {
            "marker": {
             "colorbar": {
              "outlinewidth": 0,
              "ticks": ""
             }
            },
            "type": "scattermapbox"
           }
          ],
          "scatterpolar": [
           {
            "marker": {
             "colorbar": {
              "outlinewidth": 0,
              "ticks": ""
             }
            },
            "type": "scatterpolar"
           }
          ],
          "scatterpolargl": [
           {
            "marker": {
             "colorbar": {
              "outlinewidth": 0,
              "ticks": ""
             }
            },
            "type": "scatterpolargl"
           }
          ],
          "scatterternary": [
           {
            "marker": {
             "colorbar": {
              "outlinewidth": 0,
              "ticks": ""
             }
            },
            "type": "scatterternary"
           }
          ],
          "surface": [
           {
            "colorbar": {
             "outlinewidth": 0,
             "ticks": ""
            },
            "colorscale": [
             [
              0,
              "#0d0887"
             ],
             [
              0.1111111111111111,
              "#46039f"
             ],
             [
              0.2222222222222222,
              "#7201a8"
             ],
             [
              0.3333333333333333,
              "#9c179e"
             ],
             [
              0.4444444444444444,
              "#bd3786"
             ],
             [
              0.5555555555555556,
              "#d8576b"
             ],
             [
              0.6666666666666666,
              "#ed7953"
             ],
             [
              0.7777777777777778,
              "#fb9f3a"
             ],
             [
              0.8888888888888888,
              "#fdca26"
             ],
             [
              1,
              "#f0f921"
             ]
            ],
            "type": "surface"
           }
          ],
          "table": [
           {
            "cells": {
             "fill": {
              "color": "#EBF0F8"
             },
             "line": {
              "color": "white"
             }
            },
            "header": {
             "fill": {
              "color": "#C8D4E3"
             },
             "line": {
              "color": "white"
             }
            },
            "type": "table"
           }
          ]
         },
         "layout": {
          "annotationdefaults": {
           "arrowcolor": "#2a3f5f",
           "arrowhead": 0,
           "arrowwidth": 1
          },
          "autotypenumbers": "strict",
          "coloraxis": {
           "colorbar": {
            "outlinewidth": 0,
            "ticks": ""
           }
          },
          "colorscale": {
           "diverging": [
            [
             0,
             "#8e0152"
            ],
            [
             0.1,
             "#c51b7d"
            ],
            [
             0.2,
             "#de77ae"
            ],
            [
             0.3,
             "#f1b6da"
            ],
            [
             0.4,
             "#fde0ef"
            ],
            [
             0.5,
             "#f7f7f7"
            ],
            [
             0.6,
             "#e6f5d0"
            ],
            [
             0.7,
             "#b8e186"
            ],
            [
             0.8,
             "#7fbc41"
            ],
            [
             0.9,
             "#4d9221"
            ],
            [
             1,
             "#276419"
            ]
           ],
           "sequential": [
            [
             0,
             "#0d0887"
            ],
            [
             0.1111111111111111,
             "#46039f"
            ],
            [
             0.2222222222222222,
             "#7201a8"
            ],
            [
             0.3333333333333333,
             "#9c179e"
            ],
            [
             0.4444444444444444,
             "#bd3786"
            ],
            [
             0.5555555555555556,
             "#d8576b"
            ],
            [
             0.6666666666666666,
             "#ed7953"
            ],
            [
             0.7777777777777778,
             "#fb9f3a"
            ],
            [
             0.8888888888888888,
             "#fdca26"
            ],
            [
             1,
             "#f0f921"
            ]
           ],
           "sequentialminus": [
            [
             0,
             "#0d0887"
            ],
            [
             0.1111111111111111,
             "#46039f"
            ],
            [
             0.2222222222222222,
             "#7201a8"
            ],
            [
             0.3333333333333333,
             "#9c179e"
            ],
            [
             0.4444444444444444,
             "#bd3786"
            ],
            [
             0.5555555555555556,
             "#d8576b"
            ],
            [
             0.6666666666666666,
             "#ed7953"
            ],
            [
             0.7777777777777778,
             "#fb9f3a"
            ],
            [
             0.8888888888888888,
             "#fdca26"
            ],
            [
             1,
             "#f0f921"
            ]
           ]
          },
          "colorway": [
           "#636efa",
           "#EF553B",
           "#00cc96",
           "#ab63fa",
           "#FFA15A",
           "#19d3f3",
           "#FF6692",
           "#B6E880",
           "#FF97FF",
           "#FECB52"
          ],
          "font": {
           "color": "#2a3f5f"
          },
          "geo": {
           "bgcolor": "white",
           "lakecolor": "white",
           "landcolor": "#E5ECF6",
           "showlakes": true,
           "showland": true,
           "subunitcolor": "white"
          },
          "hoverlabel": {
           "align": "left"
          },
          "hovermode": "closest",
          "mapbox": {
           "style": "light"
          },
          "paper_bgcolor": "white",
          "plot_bgcolor": "#E5ECF6",
          "polar": {
           "angularaxis": {
            "gridcolor": "white",
            "linecolor": "white",
            "ticks": ""
           },
           "bgcolor": "#E5ECF6",
           "radialaxis": {
            "gridcolor": "white",
            "linecolor": "white",
            "ticks": ""
           }
          },
          "scene": {
           "xaxis": {
            "backgroundcolor": "#E5ECF6",
            "gridcolor": "white",
            "gridwidth": 2,
            "linecolor": "white",
            "showbackground": true,
            "ticks": "",
            "zerolinecolor": "white"
           },
           "yaxis": {
            "backgroundcolor": "#E5ECF6",
            "gridcolor": "white",
            "gridwidth": 2,
            "linecolor": "white",
            "showbackground": true,
            "ticks": "",
            "zerolinecolor": "white"
           },
           "zaxis": {
            "backgroundcolor": "#E5ECF6",
            "gridcolor": "white",
            "gridwidth": 2,
            "linecolor": "white",
            "showbackground": true,
            "ticks": "",
            "zerolinecolor": "white"
           }
          },
          "shapedefaults": {
           "line": {
            "color": "#2a3f5f"
           }
          },
          "ternary": {
           "aaxis": {
            "gridcolor": "white",
            "linecolor": "white",
            "ticks": ""
           },
           "baxis": {
            "gridcolor": "white",
            "linecolor": "white",
            "ticks": ""
           },
           "bgcolor": "#E5ECF6",
           "caxis": {
            "gridcolor": "white",
            "linecolor": "white",
            "ticks": ""
           }
          },
          "title": {
           "x": 0.05
          },
          "xaxis": {
           "automargin": true,
           "gridcolor": "white",
           "linecolor": "white",
           "ticks": "",
           "title": {
            "standoff": 15
           },
           "zerolinecolor": "white",
           "zerolinewidth": 2
          },
          "yaxis": {
           "automargin": true,
           "gridcolor": "white",
           "linecolor": "white",
           "ticks": "",
           "title": {
            "standoff": 15
           },
           "zerolinecolor": "white",
           "zerolinewidth": 2
          }
         }
        },
        "title": {
         "text": "Probability Density Function"
        },
        "xaxis": {
         "title": {
          "text": "Price"
         }
        },
        "yaxis": {
         "title": {
          "text": "Probability"
         }
        }
       }
      }
     },
     "metadata": {},
     "output_type": "display_data"
    }
   ],
   "source": [
    "# graph pdf\n",
    "\n",
    "bid, ask = sophisticated_nmm.get_spread(cur_inv=0)\n",
    "\n",
    "graph_pdf(sophisticated_nmm.pdf, bid, ask)"
   ]
  }
 ],
 "metadata": {
  "kernelspec": {
   "display_name": "base",
   "language": "python",
   "name": "python3"
  },
  "language_info": {
   "codemirror_mode": {
    "name": "ipython",
    "version": 3
   },
   "file_extension": ".py",
   "mimetype": "text/x-python",
   "name": "python",
   "nbconvert_exporter": "python",
   "pygments_lexer": "ipython3",
   "version": "3.9.12"
  },
  "orig_nbformat": 4
 },
 "nbformat": 4,
 "nbformat_minor": 2
}
