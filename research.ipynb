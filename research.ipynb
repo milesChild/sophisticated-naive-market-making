{
 "cells": [
  {
   "cell_type": "code",
   "execution_count": 16,
   "metadata": {},
   "outputs": [],
   "source": [
    "import numpy as np\n",
    "import plotly.graph_objects as go"
   ]
  },
  {
   "cell_type": "code",
   "execution_count": 17,
   "metadata": {},
   "outputs": [
    {
     "data": {
      "application/vnd.plotly.v1+json": {
       "config": {
        "plotlyServerURL": "https://plot.ly"
       },
       "data": [
        {
         "type": "scatter",
         "x": [
          0,
          1,
          2,
          3,
          4,
          5,
          6,
          7,
          8,
          9,
          10,
          11,
          12,
          13,
          14,
          15,
          16,
          17,
          18,
          19,
          20,
          21,
          22,
          23,
          24,
          25,
          26,
          27,
          28,
          29,
          30,
          31,
          32,
          33,
          34,
          35,
          36,
          37,
          38,
          39,
          40,
          41,
          42,
          43,
          44,
          45,
          46,
          47,
          48,
          49,
          50,
          51,
          52,
          53,
          54,
          55,
          56,
          57,
          58,
          59,
          60,
          61,
          62,
          63,
          64,
          65,
          66,
          67,
          68,
          69,
          70,
          71,
          72,
          73,
          74,
          75,
          76,
          77,
          78,
          79,
          80,
          81,
          82,
          83,
          84,
          85,
          86,
          87,
          88,
          89,
          90,
          91,
          92,
          93,
          94,
          95,
          96,
          97,
          98,
          99,
          100
         ],
         "y": [
          1.4867201643942653e-7,
          2.438961811659385e-7,
          3.961300822022631e-7,
          6.369827962324479e-7,
          0.0000010140856496790416,
          0.0000015983748091408353,
          0.00000249424821893018,
          0.0000038535213581023066,
          0.000005894309351321494,
          0.000008926169618228806,
          0.000013383028424541198,
          0.000019865555820034187,
          0.000029194705336510713,
          0.000042478045616931235,
          0.00006119021974999091,
          0.00008726830763866962,
          0.00012322197069225774,
          0.00017225696917740632,
          0.0002384089243252917,
          0.00032668204837197305,
          0.00044318503485470763,
          0.0005952535020886541,
          0.0007915455041838191,
          0.0010420939368115541,
          0.001358297516911006,
          0.001752830815300599,
          0.0022394540080703435,
          0.0028327050119821987,
          0.003547460834775852,
          0.004398361520017998,
          0.005399099010591635,
          0.0065615843447178485,
          0.007895019280017715,
          0.00940491184740273,
          0.011092088314914008,
          0.012951765226190475,
          0.014972753106297544,
          0.01713686669316794,
          0.019418613983775677,
          0.02178522722286093,
          0.024197083025441588,
          0.026608536617148355,
          0.028969167934958687,
          0.03122540698140724,
          0.03332247485027791,
          0.035206548060821324,
          0.036827030122834316,
          0.03813879821176463,
          0.03910428648515232,
          0.039695272093554015,
          0.039894245472942555,
          0.039695272093554015,
          0.03910428648515232,
          0.03813879821176463,
          0.036827030122834316,
          0.035206548060821324,
          0.03332247485027791,
          0.03122540698140724,
          0.028969167934958687,
          0.026608536617148355,
          0.024197083025441588,
          0.02178522722286093,
          0.019418613983775677,
          0.01713686669316794,
          0.014972753106297544,
          0.012951765226190475,
          0.011092088314914008,
          0.00940491184740273,
          0.007895019280017715,
          0.0065615843447178485,
          0.005399099010591635,
          0.004398361520017998,
          0.003547460834775852,
          0.0028327050119821987,
          0.0022394540080703435,
          0.001752830815300599,
          0.001358297516911006,
          0.0010420939368115541,
          0.0007915455041838191,
          0.0005952535020886541,
          0.00044318503485470763,
          0.00032668204837197305,
          0.0002384089243252917,
          0.00017225696917740632,
          0.00012322197069225774,
          0.00008726830763866962,
          0.00006119021974999091,
          0.000042478045616931235,
          0.000029194705336510713,
          0.000019865555820034187,
          0.000013383028424541198,
          0.000008926169618228806,
          0.000005894309351321494,
          0.0000038535213581023066,
          0.00000249424821893018,
          0.0000015983748091408353,
          0.0000010140856496790416,
          6.369827962324479e-7,
          3.961300822022631e-7,
          2.438961811659385e-7,
          1.4867201643942653e-7
         ]
        }
       ],
       "layout": {
        "template": {
         "data": {
          "bar": [
           {
            "error_x": {
             "color": "#2a3f5f"
            },
            "error_y": {
             "color": "#2a3f5f"
            },
            "marker": {
             "line": {
              "color": "#E5ECF6",
              "width": 0.5
             },
             "pattern": {
              "fillmode": "overlay",
              "size": 10,
              "solidity": 0.2
             }
            },
            "type": "bar"
           }
          ],
          "barpolar": [
           {
            "marker": {
             "line": {
              "color": "#E5ECF6",
              "width": 0.5
             },
             "pattern": {
              "fillmode": "overlay",
              "size": 10,
              "solidity": 0.2
             }
            },
            "type": "barpolar"
           }
          ],
          "carpet": [
           {
            "aaxis": {
             "endlinecolor": "#2a3f5f",
             "gridcolor": "white",
             "linecolor": "white",
             "minorgridcolor": "white",
             "startlinecolor": "#2a3f5f"
            },
            "baxis": {
             "endlinecolor": "#2a3f5f",
             "gridcolor": "white",
             "linecolor": "white",
             "minorgridcolor": "white",
             "startlinecolor": "#2a3f5f"
            },
            "type": "carpet"
           }
          ],
          "choropleth": [
           {
            "colorbar": {
             "outlinewidth": 0,
             "ticks": ""
            },
            "type": "choropleth"
           }
          ],
          "contour": [
           {
            "colorbar": {
             "outlinewidth": 0,
             "ticks": ""
            },
            "colorscale": [
             [
              0,
              "#0d0887"
             ],
             [
              0.1111111111111111,
              "#46039f"
             ],
             [
              0.2222222222222222,
              "#7201a8"
             ],
             [
              0.3333333333333333,
              "#9c179e"
             ],
             [
              0.4444444444444444,
              "#bd3786"
             ],
             [
              0.5555555555555556,
              "#d8576b"
             ],
             [
              0.6666666666666666,
              "#ed7953"
             ],
             [
              0.7777777777777778,
              "#fb9f3a"
             ],
             [
              0.8888888888888888,
              "#fdca26"
             ],
             [
              1,
              "#f0f921"
             ]
            ],
            "type": "contour"
           }
          ],
          "contourcarpet": [
           {
            "colorbar": {
             "outlinewidth": 0,
             "ticks": ""
            },
            "type": "contourcarpet"
           }
          ],
          "heatmap": [
           {
            "colorbar": {
             "outlinewidth": 0,
             "ticks": ""
            },
            "colorscale": [
             [
              0,
              "#0d0887"
             ],
             [
              0.1111111111111111,
              "#46039f"
             ],
             [
              0.2222222222222222,
              "#7201a8"
             ],
             [
              0.3333333333333333,
              "#9c179e"
             ],
             [
              0.4444444444444444,
              "#bd3786"
             ],
             [
              0.5555555555555556,
              "#d8576b"
             ],
             [
              0.6666666666666666,
              "#ed7953"
             ],
             [
              0.7777777777777778,
              "#fb9f3a"
             ],
             [
              0.8888888888888888,
              "#fdca26"
             ],
             [
              1,
              "#f0f921"
             ]
            ],
            "type": "heatmap"
           }
          ],
          "heatmapgl": [
           {
            "colorbar": {
             "outlinewidth": 0,
             "ticks": ""
            },
            "colorscale": [
             [
              0,
              "#0d0887"
             ],
             [
              0.1111111111111111,
              "#46039f"
             ],
             [
              0.2222222222222222,
              "#7201a8"
             ],
             [
              0.3333333333333333,
              "#9c179e"
             ],
             [
              0.4444444444444444,
              "#bd3786"
             ],
             [
              0.5555555555555556,
              "#d8576b"
             ],
             [
              0.6666666666666666,
              "#ed7953"
             ],
             [
              0.7777777777777778,
              "#fb9f3a"
             ],
             [
              0.8888888888888888,
              "#fdca26"
             ],
             [
              1,
              "#f0f921"
             ]
            ],
            "type": "heatmapgl"
           }
          ],
          "histogram": [
           {
            "marker": {
             "pattern": {
              "fillmode": "overlay",
              "size": 10,
              "solidity": 0.2
             }
            },
            "type": "histogram"
           }
          ],
          "histogram2d": [
           {
            "colorbar": {
             "outlinewidth": 0,
             "ticks": ""
            },
            "colorscale": [
             [
              0,
              "#0d0887"
             ],
             [
              0.1111111111111111,
              "#46039f"
             ],
             [
              0.2222222222222222,
              "#7201a8"
             ],
             [
              0.3333333333333333,
              "#9c179e"
             ],
             [
              0.4444444444444444,
              "#bd3786"
             ],
             [
              0.5555555555555556,
              "#d8576b"
             ],
             [
              0.6666666666666666,
              "#ed7953"
             ],
             [
              0.7777777777777778,
              "#fb9f3a"
             ],
             [
              0.8888888888888888,
              "#fdca26"
             ],
             [
              1,
              "#f0f921"
             ]
            ],
            "type": "histogram2d"
           }
          ],
          "histogram2dcontour": [
           {
            "colorbar": {
             "outlinewidth": 0,
             "ticks": ""
            },
            "colorscale": [
             [
              0,
              "#0d0887"
             ],
             [
              0.1111111111111111,
              "#46039f"
             ],
             [
              0.2222222222222222,
              "#7201a8"
             ],
             [
              0.3333333333333333,
              "#9c179e"
             ],
             [
              0.4444444444444444,
              "#bd3786"
             ],
             [
              0.5555555555555556,
              "#d8576b"
             ],
             [
              0.6666666666666666,
              "#ed7953"
             ],
             [
              0.7777777777777778,
              "#fb9f3a"
             ],
             [
              0.8888888888888888,
              "#fdca26"
             ],
             [
              1,
              "#f0f921"
             ]
            ],
            "type": "histogram2dcontour"
           }
          ],
          "mesh3d": [
           {
            "colorbar": {
             "outlinewidth": 0,
             "ticks": ""
            },
            "type": "mesh3d"
           }
          ],
          "parcoords": [
           {
            "line": {
             "colorbar": {
              "outlinewidth": 0,
              "ticks": ""
             }
            },
            "type": "parcoords"
           }
          ],
          "pie": [
           {
            "automargin": true,
            "type": "pie"
           }
          ],
          "scatter": [
           {
            "fillpattern": {
             "fillmode": "overlay",
             "size": 10,
             "solidity": 0.2
            },
            "type": "scatter"
           }
          ],
          "scatter3d": [
           {
            "line": {
             "colorbar": {
              "outlinewidth": 0,
              "ticks": ""
             }
            },
            "marker": {
             "colorbar": {
              "outlinewidth": 0,
              "ticks": ""
             }
            },
            "type": "scatter3d"
           }
          ],
          "scattercarpet": [
           {
            "marker": {
             "colorbar": {
              "outlinewidth": 0,
              "ticks": ""
             }
            },
            "type": "scattercarpet"
           }
          ],
          "scattergeo": [
           {
            "marker": {
             "colorbar": {
              "outlinewidth": 0,
              "ticks": ""
             }
            },
            "type": "scattergeo"
           }
          ],
          "scattergl": [
           {
            "marker": {
             "colorbar": {
              "outlinewidth": 0,
              "ticks": ""
             }
            },
            "type": "scattergl"
           }
          ],
          "scattermapbox": [
           {
            "marker": {
             "colorbar": {
              "outlinewidth": 0,
              "ticks": ""
             }
            },
            "type": "scattermapbox"
           }
          ],
          "scatterpolar": [
           {
            "marker": {
             "colorbar": {
              "outlinewidth": 0,
              "ticks": ""
             }
            },
            "type": "scatterpolar"
           }
          ],
          "scatterpolargl": [
           {
            "marker": {
             "colorbar": {
              "outlinewidth": 0,
              "ticks": ""
             }
            },
            "type": "scatterpolargl"
           }
          ],
          "scatterternary": [
           {
            "marker": {
             "colorbar": {
              "outlinewidth": 0,
              "ticks": ""
             }
            },
            "type": "scatterternary"
           }
          ],
          "surface": [
           {
            "colorbar": {
             "outlinewidth": 0,
             "ticks": ""
            },
            "colorscale": [
             [
              0,
              "#0d0887"
             ],
             [
              0.1111111111111111,
              "#46039f"
             ],
             [
              0.2222222222222222,
              "#7201a8"
             ],
             [
              0.3333333333333333,
              "#9c179e"
             ],
             [
              0.4444444444444444,
              "#bd3786"
             ],
             [
              0.5555555555555556,
              "#d8576b"
             ],
             [
              0.6666666666666666,
              "#ed7953"
             ],
             [
              0.7777777777777778,
              "#fb9f3a"
             ],
             [
              0.8888888888888888,
              "#fdca26"
             ],
             [
              1,
              "#f0f921"
             ]
            ],
            "type": "surface"
           }
          ],
          "table": [
           {
            "cells": {
             "fill": {
              "color": "#EBF0F8"
             },
             "line": {
              "color": "white"
             }
            },
            "header": {
             "fill": {
              "color": "#C8D4E3"
             },
             "line": {
              "color": "white"
             }
            },
            "type": "table"
           }
          ]
         },
         "layout": {
          "annotationdefaults": {
           "arrowcolor": "#2a3f5f",
           "arrowhead": 0,
           "arrowwidth": 1
          },
          "autotypenumbers": "strict",
          "coloraxis": {
           "colorbar": {
            "outlinewidth": 0,
            "ticks": ""
           }
          },
          "colorscale": {
           "diverging": [
            [
             0,
             "#8e0152"
            ],
            [
             0.1,
             "#c51b7d"
            ],
            [
             0.2,
             "#de77ae"
            ],
            [
             0.3,
             "#f1b6da"
            ],
            [
             0.4,
             "#fde0ef"
            ],
            [
             0.5,
             "#f7f7f7"
            ],
            [
             0.6,
             "#e6f5d0"
            ],
            [
             0.7,
             "#b8e186"
            ],
            [
             0.8,
             "#7fbc41"
            ],
            [
             0.9,
             "#4d9221"
            ],
            [
             1,
             "#276419"
            ]
           ],
           "sequential": [
            [
             0,
             "#0d0887"
            ],
            [
             0.1111111111111111,
             "#46039f"
            ],
            [
             0.2222222222222222,
             "#7201a8"
            ],
            [
             0.3333333333333333,
             "#9c179e"
            ],
            [
             0.4444444444444444,
             "#bd3786"
            ],
            [
             0.5555555555555556,
             "#d8576b"
            ],
            [
             0.6666666666666666,
             "#ed7953"
            ],
            [
             0.7777777777777778,
             "#fb9f3a"
            ],
            [
             0.8888888888888888,
             "#fdca26"
            ],
            [
             1,
             "#f0f921"
            ]
           ],
           "sequentialminus": [
            [
             0,
             "#0d0887"
            ],
            [
             0.1111111111111111,
             "#46039f"
            ],
            [
             0.2222222222222222,
             "#7201a8"
            ],
            [
             0.3333333333333333,
             "#9c179e"
            ],
            [
             0.4444444444444444,
             "#bd3786"
            ],
            [
             0.5555555555555556,
             "#d8576b"
            ],
            [
             0.6666666666666666,
             "#ed7953"
            ],
            [
             0.7777777777777778,
             "#fb9f3a"
            ],
            [
             0.8888888888888888,
             "#fdca26"
            ],
            [
             1,
             "#f0f921"
            ]
           ]
          },
          "colorway": [
           "#636efa",
           "#EF553B",
           "#00cc96",
           "#ab63fa",
           "#FFA15A",
           "#19d3f3",
           "#FF6692",
           "#B6E880",
           "#FF97FF",
           "#FECB52"
          ],
          "font": {
           "color": "#2a3f5f"
          },
          "geo": {
           "bgcolor": "white",
           "lakecolor": "white",
           "landcolor": "#E5ECF6",
           "showlakes": true,
           "showland": true,
           "subunitcolor": "white"
          },
          "hoverlabel": {
           "align": "left"
          },
          "hovermode": "closest",
          "mapbox": {
           "style": "light"
          },
          "paper_bgcolor": "white",
          "plot_bgcolor": "#E5ECF6",
          "polar": {
           "angularaxis": {
            "gridcolor": "white",
            "linecolor": "white",
            "ticks": ""
           },
           "bgcolor": "#E5ECF6",
           "radialaxis": {
            "gridcolor": "white",
            "linecolor": "white",
            "ticks": ""
           }
          },
          "scene": {
           "xaxis": {
            "backgroundcolor": "#E5ECF6",
            "gridcolor": "white",
            "gridwidth": 2,
            "linecolor": "white",
            "showbackground": true,
            "ticks": "",
            "zerolinecolor": "white"
           },
           "yaxis": {
            "backgroundcolor": "#E5ECF6",
            "gridcolor": "white",
            "gridwidth": 2,
            "linecolor": "white",
            "showbackground": true,
            "ticks": "",
            "zerolinecolor": "white"
           },
           "zaxis": {
            "backgroundcolor": "#E5ECF6",
            "gridcolor": "white",
            "gridwidth": 2,
            "linecolor": "white",
            "showbackground": true,
            "ticks": "",
            "zerolinecolor": "white"
           }
          },
          "shapedefaults": {
           "line": {
            "color": "#2a3f5f"
           }
          },
          "ternary": {
           "aaxis": {
            "gridcolor": "white",
            "linecolor": "white",
            "ticks": ""
           },
           "baxis": {
            "gridcolor": "white",
            "linecolor": "white",
            "ticks": ""
           },
           "bgcolor": "#E5ECF6",
           "caxis": {
            "gridcolor": "white",
            "linecolor": "white",
            "ticks": ""
           }
          },
          "title": {
           "x": 0.05
          },
          "xaxis": {
           "automargin": true,
           "gridcolor": "white",
           "linecolor": "white",
           "ticks": "",
           "title": {
            "standoff": 15
           },
           "zerolinecolor": "white",
           "zerolinewidth": 2
          },
          "yaxis": {
           "automargin": true,
           "gridcolor": "white",
           "linecolor": "white",
           "ticks": "",
           "title": {
            "standoff": 15
           },
           "zerolinecolor": "white",
           "zerolinewidth": 2
          }
         }
        },
        "title": {
         "text": "Probability Vector"
        },
        "xaxis": {
         "title": {
          "text": "Price"
         }
        },
        "yaxis": {
         "title": {
          "text": "Probability"
         }
        }
       }
      }
     },
     "metadata": {},
     "output_type": "display_data"
    }
   ],
   "source": [
    "# initializing the probability density vector\n",
    "\n",
    "def initialize_probability_vector(initial_true_value, std_dev):\n",
    "    \"\"\"\n",
    "    Initialize the probability vector for the market maker model.\n",
    "\n",
    "    Args:\n",
    "    initial_true_value (float): The initial estimate of the true value of the security.\n",
    "    std_dev (float): The standard deviation around the initial true value.\n",
    "\n",
    "    Returns:\n",
    "    numpy.ndarray: A probability vector of size 101, representing probabilities for each price value from 0 to 100.\n",
    "    \"\"\"\n",
    "    # Define the range of possible price values (0 to 100)\n",
    "    price_values = np.arange(101)\n",
    "\n",
    "    # Calculate the probability of each price value based on a normal distribution centered around the initial true value\n",
    "    probabilities = np.exp(-0.5 * ((price_values - initial_true_value) / std_dev) ** 2)\n",
    "    probabilities /= probabilities.sum()  # Normalize to ensure the sum of probabilities is 1\n",
    "\n",
    "    return probabilities\n",
    "\n",
    "# Example usage\n",
    "initial_true_value = 50  # Example initial true value\n",
    "std_dev = 10  # Example standard deviation\n",
    "probability_vector = initialize_probability_vector(initial_true_value, std_dev)\n",
    "\n",
    "# plot the probability vector\n",
    "fig = go.Figure(data=[go.Scatter(x=np.arange(101), y=probability_vector)])\n",
    "fig.update_layout(title=\"Probability Vector\", xaxis_title=\"Price\", yaxis_title=\"Probability\")\n",
    "fig.show()"
   ]
  },
  {
   "cell_type": "code",
   "execution_count": 18,
   "metadata": {},
   "outputs": [
    {
     "data": {
      "text/plain": [
       "0.11759657617943711"
      ]
     },
     "execution_count": 18,
     "metadata": {},
     "output_type": "execute_result"
    }
   ],
   "source": [
    "# updating the probability density vector given a buy order\n",
    "\n",
    "import math\n",
    "\n",
    "def normal_cdf(x, mean, std_dev):\n",
    "    \"\"\"\n",
    "    Compute the cumulative distribution function (CDF) for a normal distribution.\n",
    "\n",
    "    Args:\n",
    "    x (float): The point at which to evaluate the CDF.\n",
    "    mean (float): The mean of the normal distribution.\n",
    "    std_dev (float): The standard deviation of the normal distribution.\n",
    "\n",
    "    Returns:\n",
    "    float: The value of the CDF at x.\n",
    "    \"\"\"\n",
    "    return 0.5 * (1 + math.erf((x - mean) / (std_dev * math.sqrt(2))))\n",
    "\n",
    "def probability_buy_given_V(Vi, Pa, alpha, eta, sigma_W):\n",
    "    \"\"\"\n",
    "    Compute the probability of a buy order given the true value V = Vi.\n",
    "\n",
    "    Args:\n",
    "    Vi (float): The potential true value of the security.\n",
    "    Pa (float): The current ask price set by the market maker.\n",
    "    alpha (float): The proportion of informed traders in the market.\n",
    "    eta (float): The base probability of a trade happening.\n",
    "    sigma_W (float): The standard deviation of the informed traders' signal noise.\n",
    "\n",
    "    Returns:\n",
    "    float: The probability of observing a buy order given V = Vi.\n",
    "    \"\"\"\n",
    "    if Vi <= Pa:\n",
    "        # Calculate the probability for the case where Vi <= Pa\n",
    "        return (1 - alpha) * eta + alpha * (1 - normal_cdf(Pa - Vi, 0, sigma_W))\n",
    "    else:\n",
    "        # Calculate the probability for the case where Vi > Pa\n",
    "        return (1 - alpha) * eta + alpha * normal_cdf(Vi - Pa, 0, sigma_W)\n",
    "\n",
    "# Example usage\n",
    "Vi = 45  # Example value of Vi\n",
    "Pa = 50  # Example ask price\n",
    "alpha = 0.3  # Example proportion of informed traders\n",
    "eta = 0.1  # Example base probability of a trade happening\n",
    "sigma_W = 5  # Example standard deviation of informed traders' signal noise\n",
    "\n",
    "probability_buy = probability_buy_given_V(Vi, Pa, alpha, eta, sigma_W)\n",
    "probability_buy"
   ]
  },
  {
   "cell_type": "code",
   "execution_count": 19,
   "metadata": {},
   "outputs": [
    {
     "data": {
      "text/plain": [
       "0.11759657617943711"
      ]
     },
     "execution_count": 19,
     "metadata": {},
     "output_type": "execute_result"
    }
   ],
   "source": [
    "# updating the probability density vector given a sell order\n",
    "\n",
    "def probability_sell_given_V(Vi, Pb, alpha, eta, sigma_W):\n",
    "    \"\"\"\n",
    "    Compute the probability of a sell order given the true value V = Vi.\n",
    "\n",
    "    Args:\n",
    "    Vi (float): The potential true value of the security.\n",
    "    Pb (float): The current bid price set by the market maker.\n",
    "    alpha (float): The proportion of informed traders in the market.\n",
    "    eta (float): The base probability of a trade happening.\n",
    "    sigma_W (float): The standard deviation of the informed traders' signal noise.\n",
    "\n",
    "    Returns:\n",
    "    float: The probability of observing a sell order given V = Vi.\n",
    "    \"\"\"\n",
    "    if Vi >= Pb:\n",
    "        # Calculate the probability for the case where Vi >= Pb\n",
    "        return (1 - alpha) * eta + alpha * (1 - normal_cdf(Vi - Pb, 0, sigma_W))\n",
    "    else:\n",
    "        # Calculate the probability for the case where Vi < Pb\n",
    "        return (1 - alpha) * eta + alpha * normal_cdf(Pb - Vi, 0, sigma_W)\n",
    "\n",
    "# Example usage\n",
    "Vi = 55  # Example value of Vi\n",
    "Pb = 50  # Example bid price\n",
    "alpha = 0.3  # Example proportion of informed traders\n",
    "eta = 0.1  # Example base probability of a trade happening\n",
    "sigma_W = 5  # Example standard deviation of informed traders' signal noise\n",
    "\n",
    "probability_sell = probability_sell_given_V(Vi, Pb, alpha, eta, sigma_W)\n",
    "probability_sell\n"
   ]
  },
  {
   "cell_type": "code",
   "execution_count": 20,
   "metadata": {},
   "outputs": [
    {
     "data": {
      "text/plain": [
       "0.0001863262606232847"
      ]
     },
     "execution_count": 20,
     "metadata": {},
     "output_type": "execute_result"
    }
   ],
   "source": [
    "def probability_V_given_buy(Vi, probability_vector, probability_buy, total_buy_probability):\n",
    "    \"\"\"\n",
    "    Compute the posterior probability P(V=Vi | Buy).\n",
    "\n",
    "    Args:\n",
    "    Vi (float): The potential true value of the security.\n",
    "    probability_vector (numpy.ndarray): The current probability vector for all possible values of V.\n",
    "    probability_buy (float): The probability of a buy order given V = Vi.\n",
    "    total_buy_probability (float): The total probability of observing a buy order, summed over all V.\n",
    "\n",
    "    Returns:\n",
    "    float: The posterior probability P(V=Vi | Buy).\n",
    "    \"\"\"\n",
    "    prior_probability = probability_vector[Vi]\n",
    "    return (probability_buy * prior_probability) / total_buy_probability\n",
    "\n",
    "# Example usage\n",
    "probability_vector = initialize_probability_vector(50, 10)  # Re-initialize the probability vector for this example\n",
    "Vi = 45  # Example value of Vi\n",
    "probability_buy_Vi = probability_buy_given_V(Vi, 50, 0.3, 0.1, 5)  # Calculate Pr(Buy | V=Vi) for this example\n",
    "total_buy_probability = sum(probability_buy_given_V(i, 50, 0.3, 0.1, 5) for i in range(101))  # Sum over all possible V\n",
    "\n",
    "posterior_probability = probability_V_given_buy(Vi, probability_vector, probability_buy_Vi, total_buy_probability)\n",
    "posterior_probability"
   ]
  },
  {
   "cell_type": "code",
   "execution_count": 21,
   "metadata": {},
   "outputs": [
    {
     "data": {
      "text/plain": [
       "0.00018632626062328479"
      ]
     },
     "execution_count": 21,
     "metadata": {},
     "output_type": "execute_result"
    }
   ],
   "source": [
    "def probability_V_given_sell(Vi, probability_vector, probability_sell, total_sell_probability):\n",
    "    \"\"\"\n",
    "    Compute the posterior probability P(V=Vi | Sell).\n",
    "\n",
    "    Args:\n",
    "    Vi (float): The potential true value of the security.\n",
    "    probability_vector (numpy.ndarray): The current probability vector for all possible values of V.\n",
    "    probability_sell (float): The probability of a sell order given V = Vi.\n",
    "    total_sell_probability (float): The total probability of observing a sell order, summed over all V.\n",
    "\n",
    "    Returns:\n",
    "    float: The posterior probability P(V=Vi | Sell).\n",
    "    \"\"\"\n",
    "    prior_probability = probability_vector[Vi]\n",
    "    return (probability_sell * prior_probability) / total_sell_probability\n",
    "\n",
    "# Example usage\n",
    "probability_vector = initialize_probability_vector(50, 10)  # Re-initialize the probability vector for this example\n",
    "Vi = 55  # Example value of Vi\n",
    "probability_sell_Vi = probability_sell_given_V(Vi, 50, 0.3, 0.1, 5)  # Calculate Pr(Sell | V=Vi) for this example\n",
    "total_sell_probability = sum(probability_sell_given_V(i, 50, 0.3, 0.1, 5) for i in range(101))  # Sum over all possible V\n",
    "\n",
    "posterior_probability = probability_V_given_sell(Vi, probability_vector, probability_sell_Vi, total_sell_probability)\n",
    "posterior_probability"
   ]
  },
  {
   "cell_type": "markdown",
   "metadata": {},
   "source": [
    "# Getting Pb and Pa"
   ]
  },
  {
   "cell_type": "code",
   "execution_count": 34,
   "metadata": {},
   "outputs": [
    {
     "data": {
      "text/plain": [
       "49"
      ]
     },
     "execution_count": 34,
     "metadata": {},
     "output_type": "execute_result"
    }
   ],
   "source": [
    "# Function to calculate the expected value E[V]\n",
    "def calculate_expected_value(pdf, possible_prices):\n",
    "    return np.sum(pdf * possible_prices)\n",
    "\n",
    "# Function to 'cycle down' from E[V] to find the bid price\n",
    "def calculate_bid(pdf, expected_value, possible_prices):\n",
    "    min_diff = float('inf')\n",
    "    bid_price = 0\n",
    "\n",
    "    for price in reversed(possible_prices):\n",
    "        if price > expected_value:\n",
    "            continue\n",
    "\n",
    "        # Calculate the left and right hand sides of the equation\n",
    "        left_hand_side = np.sum(pdf[possible_prices <= price] * possible_prices[possible_prices <= price])\n",
    "        right_hand_side = np.sum(pdf[possible_prices > price] * possible_prices[possible_prices > price])\n",
    "\n",
    "        # Calculate the difference between the two sides\n",
    "        diff = abs(right_hand_side - left_hand_side)\n",
    "\n",
    "        # Update the bid price if this is the smallest difference so far\n",
    "        if diff < min_diff:\n",
    "            min_diff = diff\n",
    "            bid_price = price\n",
    "        else:\n",
    "            # Stop cycling down if the difference starts increasing\n",
    "            break\n",
    "\n",
    "    return bid_price\n",
    "\n",
    "# Calculate the expected value E[V]\n",
    "pdf = initialize_probability_vector(50, 10)\n",
    "possible_prices = np.arange(101)\n",
    "expected_value = calculate_expected_value(pdf, possible_prices)\n",
    "\n",
    "# Find the bid price using the 'cycling down' approach\n",
    "bid_price_cycling_down = calculate_bid(pdf, expected_value, possible_prices)\n",
    "bid_price_cycling_down"
   ]
  },
  {
   "cell_type": "code",
   "execution_count": 35,
   "metadata": {},
   "outputs": [
    {
     "data": {
      "text/plain": [
       "51"
      ]
     },
     "execution_count": 35,
     "metadata": {},
     "output_type": "execute_result"
    }
   ],
   "source": [
    "# Function to 'cycle up' from E[V] to find the ask price\n",
    "def calculate_ask(pdf, expected_value, possible_prices):\n",
    "    min_diff = float('inf')\n",
    "    ask_price = 0\n",
    "\n",
    "    for price in possible_prices:\n",
    "        if price < expected_value:\n",
    "            continue\n",
    "\n",
    "        # Calculate the left and right hand sides of the equation\n",
    "        left_hand_side = np.sum(pdf[possible_prices <= price] * possible_prices[possible_prices <= price])\n",
    "        right_hand_side = np.sum(pdf[possible_prices > price] * possible_prices[possible_prices > price])\n",
    "\n",
    "        # Calculate the difference between the two sides\n",
    "        diff = abs(right_hand_side - left_hand_side)\n",
    "\n",
    "        # Update the ask price if this is the smallest difference so far\n",
    "        if diff < min_diff:\n",
    "            min_diff = diff\n",
    "            ask_price = price\n",
    "        else:\n",
    "            # Stop cycling up if the difference starts increasing\n",
    "            break\n",
    "\n",
    "    return ask_price\n",
    "\n",
    "# Calculate the expected value E[V]\n",
    "pdf = initialize_probability_vector(50, 10)\n",
    "possible_prices = np.arange(101)\n",
    "expected_value = calculate_expected_value(pdf, possible_prices)\n",
    "\n",
    "# Find the ask price using the 'cycling up' approach\n",
    "ask_price_cycling_up = calculate_ask(pdf, expected_value, possible_prices)\n",
    "ask_price_cycling_up"
   ]
  },
  {
   "cell_type": "markdown",
   "metadata": {},
   "source": [
    "# Testing"
   ]
  },
  {
   "cell_type": "code",
   "execution_count": 70,
   "metadata": {},
   "outputs": [
    {
     "data": {
      "application/vnd.plotly.v1+json": {
       "config": {
        "plotlyServerURL": "https://plot.ly"
       },
       "data": [
        {
         "type": "scatter",
         "x": [
          0,
          1,
          2,
          3,
          4,
          5,
          6,
          7,
          8,
          9,
          10,
          11,
          12,
          13,
          14,
          15,
          16,
          17,
          18,
          19,
          20,
          21,
          22,
          23,
          24,
          25,
          26,
          27,
          28,
          29,
          30,
          31,
          32,
          33,
          34,
          35,
          36,
          37,
          38,
          39,
          40,
          41,
          42,
          43,
          44,
          45,
          46,
          47,
          48,
          49,
          50,
          51,
          52,
          53,
          54,
          55,
          56,
          57,
          58,
          59,
          60,
          61,
          62,
          63,
          64,
          65,
          66,
          67,
          68,
          69,
          70,
          71,
          72,
          73,
          74,
          75,
          76,
          77,
          78,
          79,
          80,
          81,
          82,
          83,
          84,
          85,
          86,
          87,
          88,
          89,
          90,
          91,
          92,
          93,
          94,
          95,
          96,
          97,
          98,
          99,
          100
         ],
         "y": [
          1.4867201643942653e-7,
          2.438961811659385e-7,
          3.961300822022631e-7,
          6.369827962324479e-7,
          0.0000010140856496790416,
          0.0000015983748091408353,
          0.00000249424821893018,
          0.0000038535213581023066,
          0.000005894309351321494,
          0.000008926169618228806,
          0.000013383028424541198,
          0.000019865555820034187,
          0.000029194705336510713,
          0.000042478045616931235,
          0.00006119021974999091,
          0.00008726830763866962,
          0.00012322197069225774,
          0.00017225696917740632,
          0.0002384089243252917,
          0.00032668204837197305,
          0.00044318503485470763,
          0.0005952535020886541,
          0.0007915455041838191,
          0.0010420939368115541,
          0.001358297516911006,
          0.001752830815300599,
          0.0022394540080703435,
          0.0028327050119821987,
          0.003547460834775852,
          0.004398361520017998,
          0.005399099010591635,
          0.0065615843447178485,
          0.007895019280017715,
          0.00940491184740273,
          0.011092088314914008,
          0.012951765226190475,
          0.014972753106297544,
          0.01713686669316794,
          0.019418613983775677,
          0.02178522722286093,
          0.024197083025441588,
          0.026608536617148355,
          0.028969167934958687,
          0.03122540698140724,
          0.03332247485027791,
          0.035206548060821324,
          0.036827030122834316,
          0.03813879821176463,
          0.03910428648515232,
          0.039695272093554015,
          0.039894245472942555,
          0.039695272093554015,
          0.03910428648515232,
          0.03813879821176463,
          0.036827030122834316,
          0.035206548060821324,
          0.03332247485027791,
          0.03122540698140724,
          0.028969167934958687,
          0.026608536617148355,
          0.024197083025441588,
          0.02178522722286093,
          0.019418613983775677,
          0.01713686669316794,
          0.014972753106297544,
          0.012951765226190475,
          0.011092088314914008,
          0.00940491184740273,
          0.007895019280017715,
          0.0065615843447178485,
          0.005399099010591635,
          0.004398361520017998,
          0.003547460834775852,
          0.0028327050119821987,
          0.0022394540080703435,
          0.001752830815300599,
          0.001358297516911006,
          0.0010420939368115541,
          0.0007915455041838191,
          0.0005952535020886541,
          0.00044318503485470763,
          0.00032668204837197305,
          0.0002384089243252917,
          0.00017225696917740632,
          0.00012322197069225774,
          0.00008726830763866962,
          0.00006119021974999091,
          0.000042478045616931235,
          0.000029194705336510713,
          0.000019865555820034187,
          0.000013383028424541198,
          0.000008926169618228806,
          0.000005894309351321494,
          0.0000038535213581023066,
          0.00000249424821893018,
          0.0000015983748091408353,
          0.0000010140856496790416,
          6.369827962324479e-7,
          3.961300822022631e-7,
          2.438961811659385e-7,
          1.4867201643942653e-7
         ]
        }
       ],
       "layout": {
        "template": {
         "data": {
          "bar": [
           {
            "error_x": {
             "color": "#2a3f5f"
            },
            "error_y": {
             "color": "#2a3f5f"
            },
            "marker": {
             "line": {
              "color": "#E5ECF6",
              "width": 0.5
             },
             "pattern": {
              "fillmode": "overlay",
              "size": 10,
              "solidity": 0.2
             }
            },
            "type": "bar"
           }
          ],
          "barpolar": [
           {
            "marker": {
             "line": {
              "color": "#E5ECF6",
              "width": 0.5
             },
             "pattern": {
              "fillmode": "overlay",
              "size": 10,
              "solidity": 0.2
             }
            },
            "type": "barpolar"
           }
          ],
          "carpet": [
           {
            "aaxis": {
             "endlinecolor": "#2a3f5f",
             "gridcolor": "white",
             "linecolor": "white",
             "minorgridcolor": "white",
             "startlinecolor": "#2a3f5f"
            },
            "baxis": {
             "endlinecolor": "#2a3f5f",
             "gridcolor": "white",
             "linecolor": "white",
             "minorgridcolor": "white",
             "startlinecolor": "#2a3f5f"
            },
            "type": "carpet"
           }
          ],
          "choropleth": [
           {
            "colorbar": {
             "outlinewidth": 0,
             "ticks": ""
            },
            "type": "choropleth"
           }
          ],
          "contour": [
           {
            "colorbar": {
             "outlinewidth": 0,
             "ticks": ""
            },
            "colorscale": [
             [
              0,
              "#0d0887"
             ],
             [
              0.1111111111111111,
              "#46039f"
             ],
             [
              0.2222222222222222,
              "#7201a8"
             ],
             [
              0.3333333333333333,
              "#9c179e"
             ],
             [
              0.4444444444444444,
              "#bd3786"
             ],
             [
              0.5555555555555556,
              "#d8576b"
             ],
             [
              0.6666666666666666,
              "#ed7953"
             ],
             [
              0.7777777777777778,
              "#fb9f3a"
             ],
             [
              0.8888888888888888,
              "#fdca26"
             ],
             [
              1,
              "#f0f921"
             ]
            ],
            "type": "contour"
           }
          ],
          "contourcarpet": [
           {
            "colorbar": {
             "outlinewidth": 0,
             "ticks": ""
            },
            "type": "contourcarpet"
           }
          ],
          "heatmap": [
           {
            "colorbar": {
             "outlinewidth": 0,
             "ticks": ""
            },
            "colorscale": [
             [
              0,
              "#0d0887"
             ],
             [
              0.1111111111111111,
              "#46039f"
             ],
             [
              0.2222222222222222,
              "#7201a8"
             ],
             [
              0.3333333333333333,
              "#9c179e"
             ],
             [
              0.4444444444444444,
              "#bd3786"
             ],
             [
              0.5555555555555556,
              "#d8576b"
             ],
             [
              0.6666666666666666,
              "#ed7953"
             ],
             [
              0.7777777777777778,
              "#fb9f3a"
             ],
             [
              0.8888888888888888,
              "#fdca26"
             ],
             [
              1,
              "#f0f921"
             ]
            ],
            "type": "heatmap"
           }
          ],
          "heatmapgl": [
           {
            "colorbar": {
             "outlinewidth": 0,
             "ticks": ""
            },
            "colorscale": [
             [
              0,
              "#0d0887"
             ],
             [
              0.1111111111111111,
              "#46039f"
             ],
             [
              0.2222222222222222,
              "#7201a8"
             ],
             [
              0.3333333333333333,
              "#9c179e"
             ],
             [
              0.4444444444444444,
              "#bd3786"
             ],
             [
              0.5555555555555556,
              "#d8576b"
             ],
             [
              0.6666666666666666,
              "#ed7953"
             ],
             [
              0.7777777777777778,
              "#fb9f3a"
             ],
             [
              0.8888888888888888,
              "#fdca26"
             ],
             [
              1,
              "#f0f921"
             ]
            ],
            "type": "heatmapgl"
           }
          ],
          "histogram": [
           {
            "marker": {
             "pattern": {
              "fillmode": "overlay",
              "size": 10,
              "solidity": 0.2
             }
            },
            "type": "histogram"
           }
          ],
          "histogram2d": [
           {
            "colorbar": {
             "outlinewidth": 0,
             "ticks": ""
            },
            "colorscale": [
             [
              0,
              "#0d0887"
             ],
             [
              0.1111111111111111,
              "#46039f"
             ],
             [
              0.2222222222222222,
              "#7201a8"
             ],
             [
              0.3333333333333333,
              "#9c179e"
             ],
             [
              0.4444444444444444,
              "#bd3786"
             ],
             [
              0.5555555555555556,
              "#d8576b"
             ],
             [
              0.6666666666666666,
              "#ed7953"
             ],
             [
              0.7777777777777778,
              "#fb9f3a"
             ],
             [
              0.8888888888888888,
              "#fdca26"
             ],
             [
              1,
              "#f0f921"
             ]
            ],
            "type": "histogram2d"
           }
          ],
          "histogram2dcontour": [
           {
            "colorbar": {
             "outlinewidth": 0,
             "ticks": ""
            },
            "colorscale": [
             [
              0,
              "#0d0887"
             ],
             [
              0.1111111111111111,
              "#46039f"
             ],
             [
              0.2222222222222222,
              "#7201a8"
             ],
             [
              0.3333333333333333,
              "#9c179e"
             ],
             [
              0.4444444444444444,
              "#bd3786"
             ],
             [
              0.5555555555555556,
              "#d8576b"
             ],
             [
              0.6666666666666666,
              "#ed7953"
             ],
             [
              0.7777777777777778,
              "#fb9f3a"
             ],
             [
              0.8888888888888888,
              "#fdca26"
             ],
             [
              1,
              "#f0f921"
             ]
            ],
            "type": "histogram2dcontour"
           }
          ],
          "mesh3d": [
           {
            "colorbar": {
             "outlinewidth": 0,
             "ticks": ""
            },
            "type": "mesh3d"
           }
          ],
          "parcoords": [
           {
            "line": {
             "colorbar": {
              "outlinewidth": 0,
              "ticks": ""
             }
            },
            "type": "parcoords"
           }
          ],
          "pie": [
           {
            "automargin": true,
            "type": "pie"
           }
          ],
          "scatter": [
           {
            "fillpattern": {
             "fillmode": "overlay",
             "size": 10,
             "solidity": 0.2
            },
            "type": "scatter"
           }
          ],
          "scatter3d": [
           {
            "line": {
             "colorbar": {
              "outlinewidth": 0,
              "ticks": ""
             }
            },
            "marker": {
             "colorbar": {
              "outlinewidth": 0,
              "ticks": ""
             }
            },
            "type": "scatter3d"
           }
          ],
          "scattercarpet": [
           {
            "marker": {
             "colorbar": {
              "outlinewidth": 0,
              "ticks": ""
             }
            },
            "type": "scattercarpet"
           }
          ],
          "scattergeo": [
           {
            "marker": {
             "colorbar": {
              "outlinewidth": 0,
              "ticks": ""
             }
            },
            "type": "scattergeo"
           }
          ],
          "scattergl": [
           {
            "marker": {
             "colorbar": {
              "outlinewidth": 0,
              "ticks": ""
             }
            },
            "type": "scattergl"
           }
          ],
          "scattermapbox": [
           {
            "marker": {
             "colorbar": {
              "outlinewidth": 0,
              "ticks": ""
             }
            },
            "type": "scattermapbox"
           }
          ],
          "scatterpolar": [
           {
            "marker": {
             "colorbar": {
              "outlinewidth": 0,
              "ticks": ""
             }
            },
            "type": "scatterpolar"
           }
          ],
          "scatterpolargl": [
           {
            "marker": {
             "colorbar": {
              "outlinewidth": 0,
              "ticks": ""
             }
            },
            "type": "scatterpolargl"
           }
          ],
          "scatterternary": [
           {
            "marker": {
             "colorbar": {
              "outlinewidth": 0,
              "ticks": ""
             }
            },
            "type": "scatterternary"
           }
          ],
          "surface": [
           {
            "colorbar": {
             "outlinewidth": 0,
             "ticks": ""
            },
            "colorscale": [
             [
              0,
              "#0d0887"
             ],
             [
              0.1111111111111111,
              "#46039f"
             ],
             [
              0.2222222222222222,
              "#7201a8"
             ],
             [
              0.3333333333333333,
              "#9c179e"
             ],
             [
              0.4444444444444444,
              "#bd3786"
             ],
             [
              0.5555555555555556,
              "#d8576b"
             ],
             [
              0.6666666666666666,
              "#ed7953"
             ],
             [
              0.7777777777777778,
              "#fb9f3a"
             ],
             [
              0.8888888888888888,
              "#fdca26"
             ],
             [
              1,
              "#f0f921"
             ]
            ],
            "type": "surface"
           }
          ],
          "table": [
           {
            "cells": {
             "fill": {
              "color": "#EBF0F8"
             },
             "line": {
              "color": "white"
             }
            },
            "header": {
             "fill": {
              "color": "#C8D4E3"
             },
             "line": {
              "color": "white"
             }
            },
            "type": "table"
           }
          ]
         },
         "layout": {
          "annotationdefaults": {
           "arrowcolor": "#2a3f5f",
           "arrowhead": 0,
           "arrowwidth": 1
          },
          "autotypenumbers": "strict",
          "coloraxis": {
           "colorbar": {
            "outlinewidth": 0,
            "ticks": ""
           }
          },
          "colorscale": {
           "diverging": [
            [
             0,
             "#8e0152"
            ],
            [
             0.1,
             "#c51b7d"
            ],
            [
             0.2,
             "#de77ae"
            ],
            [
             0.3,
             "#f1b6da"
            ],
            [
             0.4,
             "#fde0ef"
            ],
            [
             0.5,
             "#f7f7f7"
            ],
            [
             0.6,
             "#e6f5d0"
            ],
            [
             0.7,
             "#b8e186"
            ],
            [
             0.8,
             "#7fbc41"
            ],
            [
             0.9,
             "#4d9221"
            ],
            [
             1,
             "#276419"
            ]
           ],
           "sequential": [
            [
             0,
             "#0d0887"
            ],
            [
             0.1111111111111111,
             "#46039f"
            ],
            [
             0.2222222222222222,
             "#7201a8"
            ],
            [
             0.3333333333333333,
             "#9c179e"
            ],
            [
             0.4444444444444444,
             "#bd3786"
            ],
            [
             0.5555555555555556,
             "#d8576b"
            ],
            [
             0.6666666666666666,
             "#ed7953"
            ],
            [
             0.7777777777777778,
             "#fb9f3a"
            ],
            [
             0.8888888888888888,
             "#fdca26"
            ],
            [
             1,
             "#f0f921"
            ]
           ],
           "sequentialminus": [
            [
             0,
             "#0d0887"
            ],
            [
             0.1111111111111111,
             "#46039f"
            ],
            [
             0.2222222222222222,
             "#7201a8"
            ],
            [
             0.3333333333333333,
             "#9c179e"
            ],
            [
             0.4444444444444444,
             "#bd3786"
            ],
            [
             0.5555555555555556,
             "#d8576b"
            ],
            [
             0.6666666666666666,
             "#ed7953"
            ],
            [
             0.7777777777777778,
             "#fb9f3a"
            ],
            [
             0.8888888888888888,
             "#fdca26"
            ],
            [
             1,
             "#f0f921"
            ]
           ]
          },
          "colorway": [
           "#636efa",
           "#EF553B",
           "#00cc96",
           "#ab63fa",
           "#FFA15A",
           "#19d3f3",
           "#FF6692",
           "#B6E880",
           "#FF97FF",
           "#FECB52"
          ],
          "font": {
           "color": "#2a3f5f"
          },
          "geo": {
           "bgcolor": "white",
           "lakecolor": "white",
           "landcolor": "#E5ECF6",
           "showlakes": true,
           "showland": true,
           "subunitcolor": "white"
          },
          "hoverlabel": {
           "align": "left"
          },
          "hovermode": "closest",
          "mapbox": {
           "style": "light"
          },
          "paper_bgcolor": "white",
          "plot_bgcolor": "#E5ECF6",
          "polar": {
           "angularaxis": {
            "gridcolor": "white",
            "linecolor": "white",
            "ticks": ""
           },
           "bgcolor": "#E5ECF6",
           "radialaxis": {
            "gridcolor": "white",
            "linecolor": "white",
            "ticks": ""
           }
          },
          "scene": {
           "xaxis": {
            "backgroundcolor": "#E5ECF6",
            "gridcolor": "white",
            "gridwidth": 2,
            "linecolor": "white",
            "showbackground": true,
            "ticks": "",
            "zerolinecolor": "white"
           },
           "yaxis": {
            "backgroundcolor": "#E5ECF6",
            "gridcolor": "white",
            "gridwidth": 2,
            "linecolor": "white",
            "showbackground": true,
            "ticks": "",
            "zerolinecolor": "white"
           },
           "zaxis": {
            "backgroundcolor": "#E5ECF6",
            "gridcolor": "white",
            "gridwidth": 2,
            "linecolor": "white",
            "showbackground": true,
            "ticks": "",
            "zerolinecolor": "white"
           }
          },
          "shapedefaults": {
           "line": {
            "color": "#2a3f5f"
           }
          },
          "ternary": {
           "aaxis": {
            "gridcolor": "white",
            "linecolor": "white",
            "ticks": ""
           },
           "baxis": {
            "gridcolor": "white",
            "linecolor": "white",
            "ticks": ""
           },
           "bgcolor": "#E5ECF6",
           "caxis": {
            "gridcolor": "white",
            "linecolor": "white",
            "ticks": ""
           }
          },
          "title": {
           "x": 0.05
          },
          "xaxis": {
           "automargin": true,
           "gridcolor": "white",
           "linecolor": "white",
           "ticks": "",
           "title": {
            "standoff": 15
           },
           "zerolinecolor": "white",
           "zerolinewidth": 2
          },
          "yaxis": {
           "automargin": true,
           "gridcolor": "white",
           "linecolor": "white",
           "ticks": "",
           "title": {
            "standoff": 15
           },
           "zerolinecolor": "white",
           "zerolinewidth": 2
          }
         }
        },
        "title": {
         "text": "Initial Probability Vector"
        },
        "xaxis": {
         "title": {
          "text": "Price"
         }
        },
        "yaxis": {
         "title": {
          "text": "Probability"
         }
        }
       }
      }
     },
     "metadata": {},
     "output_type": "display_data"
    }
   ],
   "source": [
    "# INITIALIZE VECTOR\n",
    "\n",
    "initial_probability_vector = initialize_probability_vector(initial_true_value=50, std_dev=10)\n",
    "\n",
    "# Plot the initial probability vector\n",
    "\n",
    "fig = go.Figure(data=[go.Scatter(x=np.arange(101), y=initial_probability_vector)])\n",
    "fig.update_layout(title=\"Initial Probability Vector\", xaxis_title=\"Price\", yaxis_title=\"Probability\")\n",
    "fig.show()"
   ]
  },
  {
   "cell_type": "code",
   "execution_count": 58,
   "metadata": {},
   "outputs": [
    {
     "name": "stdout",
     "output_type": "stream",
     "text": [
      "Bid price:  49\n",
      "Ask price:  51\n"
     ]
    }
   ],
   "source": [
    "# COMPUTE BID AND ASK PRICES\n",
    "\n",
    "PRICES = np.arange(101)\n",
    "\n",
    "Pb = calculate_bid(initial_probability_vector, calculate_expected_value(initial_probability_vector, PRICES), PRICES)\n",
    "Pa = calculate_ask(initial_probability_vector, calculate_expected_value(initial_probability_vector, PRICES), PRICES)\n",
    "\n",
    "print(\"Bid price: \", Pb)\n",
    "print(\"Ask price: \", Pa)"
   ]
  },
  {
   "cell_type": "code",
   "execution_count": 59,
   "metadata": {},
   "outputs": [
    {
     "name": "stdout",
     "output_type": "stream",
     "text": [
      "Expected True Value:  55.09388309130345\n",
      "Bid price:  55\n",
      "Ask price:  56\n"
     ]
    }
   ],
   "source": [
    "# BUY ORDER SIMULATION\n",
    "ALPHA = 0.3\n",
    "ETA = 0.1\n",
    "SIGMA_W = 5\n",
    "\n",
    "# Calculate total probability of a buy order\n",
    "total_buy_probability = sum(probability_buy_given_V(Vi, Pa, ALPHA, ETA, SIGMA_W) * initial_probability_vector[Vi] \n",
    "                            for Vi in range(101))\n",
    "\n",
    "# Update the probability vector given a buy order\n",
    "updated_probability_vector = np.zeros(101)\n",
    "for i in range(101):\n",
    "    p_buy = probability_buy_given_V(i, Pa, ALPHA, ETA, SIGMA_W)\n",
    "    updated_probability_vector[i] = probability_V_given_buy(i, initial_probability_vector, p_buy, total_buy_probability)\n",
    "\n",
    "# Recalculate the expected true value\n",
    "expected_true_value = calculate_expected_value(updated_probability_vector, np.arange(101))\n",
    "\n",
    "# Assuming calculate_bid and calculate_ask functions are defined and correct\n",
    "Pb = calculate_bid(updated_probability_vector, expected_true_value, np.arange(101))\n",
    "Pa = calculate_ask(updated_probability_vector, expected_true_value, np.arange(101))\n",
    "\n",
    "print(\"Expected True Value: \", expected_true_value)\n",
    "print(\"Bid price: \", Pb)\n",
    "print(\"Ask price: \", Pa)\n"
   ]
  },
  {
   "cell_type": "code",
   "execution_count": null,
   "metadata": {},
   "outputs": [],
   "source": [
    "# Assuming the initial probability vector and necessary functions are defined correctly\n",
    "\n",
    "# Parameters\n",
    "V_min = 0\n",
    "V_max = 100\n",
    "initial_true_value = 50\n",
    "std_dev = 10\n",
    "Pa = 55  # Example initial ask price\n",
    "\n",
    "# Initialize the probability vector\n",
    "probability_vector = initialize_probability_vector(initial_true_value, std_dev, V_min, V_max)\n",
    "\n",
    "# Process 100 buy orders through the market maker\n",
    "for _ in range(100):\n",
    "    total_buy_probability = sum(probability_buy_given_V(Vi, Pa, ALPHA, ETA, SIGMA_W) * probability_vector[Vi] \n",
    "                                for Vi in range(V_min, V_max + 1))\n",
    "\n",
    "    updated_probability_vector = np.zeros(V_max - V_min + 1)\n",
    "    for i in range(V_min, V_max + 1):\n",
    "        p_buy = probability_buy_given_V(i, Pa, ALPHA, ETA, SIGMA_W)\n",
    "        updated_probability_vector[i] = probability_V_given_buy(i, probability_vector, p_buy, total_buy_probability)\n",
    "    \n",
    "    probability_vector = updated_probability_vector  # Update the main probability vector\n",
    "\n",
    "# Plot the updated probability vector\n",
    "import plotly.graph_objects as go\n",
    "\n",
    "fig = go.Figure(data=[go.Scatter(x=np.arange(V_min, V_max + 1), y=probability_vector)])\n",
    "fig.update_layout(title=\"Probability Vector after 100 Buy Orders\", xaxis_title=\"Price\", yaxis_title=\"Probability\")\n",
    "fig.show()\n",
    "\n"
   ]
  },
  {
   "cell_type": "code",
   "execution_count": null,
   "metadata": {},
   "outputs": [],
   "source": []
  },
  {
   "cell_type": "code",
   "execution_count": 62,
   "metadata": {},
   "outputs": [
    {
     "data": {
      "application/vnd.plotly.v1+json": {
       "config": {
        "plotlyServerURL": "https://plot.ly"
       },
       "data": [
        {
         "type": "scatter",
         "x": [
          0,
          1,
          2,
          3,
          4,
          5,
          6,
          7,
          8,
          9,
          10,
          11,
          12,
          13,
          14,
          15,
          16,
          17,
          18,
          19,
          20,
          21,
          22,
          23,
          24,
          25,
          26,
          27,
          28,
          29,
          30,
          31,
          32,
          33,
          34,
          35,
          36,
          37,
          38,
          39,
          40,
          41,
          42,
          43,
          44,
          45,
          46,
          47,
          48,
          49,
          50,
          51,
          52,
          53,
          54,
          55,
          56,
          57,
          58,
          59,
          60,
          61,
          62,
          63,
          64,
          65,
          66,
          67,
          68,
          69,
          70,
          71,
          72,
          73,
          74,
          75,
          76,
          77,
          78,
          79,
          80,
          81,
          82,
          83,
          84,
          85,
          86,
          87,
          88,
          89,
          90,
          91,
          92,
          93,
          94,
          95,
          96,
          97,
          98,
          99,
          100
         ],
         "y": [
          3.06837790359762e-56,
          5.033668547613429e-56,
          8.175558657838977e-56,
          1.3146414394182866e-55,
          2.0929278248528843e-55,
          3.2988171301443334e-55,
          5.147771789435084e-55,
          7.953117250589044e-55,
          1.216501195296053e-54,
          1.8422338161732475e-54,
          2.762065766277669e-54,
          4.099966757746446e-54,
          6.025369864616846e-54,
          8.766861422917178e-54,
          1.2628786687218068e-53,
          1.8010931260375913e-53,
          2.543125338358465e-53,
          3.5551376152340876e-53,
          4.920419410486353e-53,
          6.742250512684807e-53,
          9.14670563007033e-53,
          1.2285181464023762e-52,
          1.6336367982789405e-52,
          2.150733024894482e-52,
          2.8033323175232514e-52,
          3.61759379778652e-52,
          4.6219186568774504e-52,
          5.846318191270387e-52,
          7.321518702186117e-52,
          9.0778013407702e-52,
          1.1143610737307038e-51,
          1.3544027124993528e-51,
          1.6299299671426681e-51,
          1.9423808227394046e-51,
          2.292608301788136e-51,
          2.6810877960513607e-51,
          3.10847255502269e-51,
          3.576676913856183e-51,
          4.090672291651776e-51,
          4.6611235358500384e-51,
          5.307855252045098e-51,
          6.063954603629364e-51,
          6.980219020288984e-51,
          8.129870735728147e-51,
          9.614204557008216e-51,
          1.1571102869038774e-50,
          1.418972244612793e-50,
          1.7735496210207017e-50,
          2.2589859033493915e-50,
          2.931025530252616e-50,
          3.8720613909377285e-50,
          5.205220425802487e-50,
          7.116896113509442e-50,
          9.893033292816274e-50,
          1.3977571514810571e-49,
          2.006726066526326e-49,
          2.926749077290684e-49,
          4.335146380014792e-49,
          6.519426626287903e-49,
          9.950110840940411e-49,
          1.5402945128389767e-48,
          2.416525285899246e-48,
          3.8389974463973513e-48,
          6.171666864137955e-48,
          1.0038326044328603e-47,
          1.6524729269415835e-47,
          2.7551066332512755e-47,
          4.656933148931785e-47,
          7.989488830615808e-47,
          1.3930579118443178e-46,
          2.4723085675772224e-46,
          4.473172341248052e-46,
          8.263372979239153e-46,
          1.5603063128150246e-45,
          3.0129737589343333e-45,
          5.949219799926135e-45,
          1.20045794122478e-44,
          2.4736833873327403e-44,
          5.203405033524388e-44,
          1.1179148841199782e-43,
          2.4583254064430275e-43,
          5.55960751851746e-43,
          1.3047550829635045e-42,
          3.229038670757656e-42,
          8.664913528768573e-42,
          2.6410923001301844e-41,
          9.843890887792243e-41,
          5.008033819395742e-40,
          4.049516639552171e-39,
          6.312083688915945e-38,
          2.3590314518241898e-36,
          2.6057092614030725e-34,
          9.872973471202055e-32,
          1.327953287315839e-28,
          5.649306292465203e-25,
          5.8518841957768496e-21,
          1.025078471958324e-16,
          2.0282550649595206e-12,
          3.0939447505379386e-8,
          0.0002644780255385049,
          0.9997354910329856
         ]
        }
       ],
       "layout": {
        "template": {
         "data": {
          "bar": [
           {
            "error_x": {
             "color": "#2a3f5f"
            },
            "error_y": {
             "color": "#2a3f5f"
            },
            "marker": {
             "line": {
              "color": "#E5ECF6",
              "width": 0.5
             },
             "pattern": {
              "fillmode": "overlay",
              "size": 10,
              "solidity": 0.2
             }
            },
            "type": "bar"
           }
          ],
          "barpolar": [
           {
            "marker": {
             "line": {
              "color": "#E5ECF6",
              "width": 0.5
             },
             "pattern": {
              "fillmode": "overlay",
              "size": 10,
              "solidity": 0.2
             }
            },
            "type": "barpolar"
           }
          ],
          "carpet": [
           {
            "aaxis": {
             "endlinecolor": "#2a3f5f",
             "gridcolor": "white",
             "linecolor": "white",
             "minorgridcolor": "white",
             "startlinecolor": "#2a3f5f"
            },
            "baxis": {
             "endlinecolor": "#2a3f5f",
             "gridcolor": "white",
             "linecolor": "white",
             "minorgridcolor": "white",
             "startlinecolor": "#2a3f5f"
            },
            "type": "carpet"
           }
          ],
          "choropleth": [
           {
            "colorbar": {
             "outlinewidth": 0,
             "ticks": ""
            },
            "type": "choropleth"
           }
          ],
          "contour": [
           {
            "colorbar": {
             "outlinewidth": 0,
             "ticks": ""
            },
            "colorscale": [
             [
              0,
              "#0d0887"
             ],
             [
              0.1111111111111111,
              "#46039f"
             ],
             [
              0.2222222222222222,
              "#7201a8"
             ],
             [
              0.3333333333333333,
              "#9c179e"
             ],
             [
              0.4444444444444444,
              "#bd3786"
             ],
             [
              0.5555555555555556,
              "#d8576b"
             ],
             [
              0.6666666666666666,
              "#ed7953"
             ],
             [
              0.7777777777777778,
              "#fb9f3a"
             ],
             [
              0.8888888888888888,
              "#fdca26"
             ],
             [
              1,
              "#f0f921"
             ]
            ],
            "type": "contour"
           }
          ],
          "contourcarpet": [
           {
            "colorbar": {
             "outlinewidth": 0,
             "ticks": ""
            },
            "type": "contourcarpet"
           }
          ],
          "heatmap": [
           {
            "colorbar": {
             "outlinewidth": 0,
             "ticks": ""
            },
            "colorscale": [
             [
              0,
              "#0d0887"
             ],
             [
              0.1111111111111111,
              "#46039f"
             ],
             [
              0.2222222222222222,
              "#7201a8"
             ],
             [
              0.3333333333333333,
              "#9c179e"
             ],
             [
              0.4444444444444444,
              "#bd3786"
             ],
             [
              0.5555555555555556,
              "#d8576b"
             ],
             [
              0.6666666666666666,
              "#ed7953"
             ],
             [
              0.7777777777777778,
              "#fb9f3a"
             ],
             [
              0.8888888888888888,
              "#fdca26"
             ],
             [
              1,
              "#f0f921"
             ]
            ],
            "type": "heatmap"
           }
          ],
          "heatmapgl": [
           {
            "colorbar": {
             "outlinewidth": 0,
             "ticks": ""
            },
            "colorscale": [
             [
              0,
              "#0d0887"
             ],
             [
              0.1111111111111111,
              "#46039f"
             ],
             [
              0.2222222222222222,
              "#7201a8"
             ],
             [
              0.3333333333333333,
              "#9c179e"
             ],
             [
              0.4444444444444444,
              "#bd3786"
             ],
             [
              0.5555555555555556,
              "#d8576b"
             ],
             [
              0.6666666666666666,
              "#ed7953"
             ],
             [
              0.7777777777777778,
              "#fb9f3a"
             ],
             [
              0.8888888888888888,
              "#fdca26"
             ],
             [
              1,
              "#f0f921"
             ]
            ],
            "type": "heatmapgl"
           }
          ],
          "histogram": [
           {
            "marker": {
             "pattern": {
              "fillmode": "overlay",
              "size": 10,
              "solidity": 0.2
             }
            },
            "type": "histogram"
           }
          ],
          "histogram2d": [
           {
            "colorbar": {
             "outlinewidth": 0,
             "ticks": ""
            },
            "colorscale": [
             [
              0,
              "#0d0887"
             ],
             [
              0.1111111111111111,
              "#46039f"
             ],
             [
              0.2222222222222222,
              "#7201a8"
             ],
             [
              0.3333333333333333,
              "#9c179e"
             ],
             [
              0.4444444444444444,
              "#bd3786"
             ],
             [
              0.5555555555555556,
              "#d8576b"
             ],
             [
              0.6666666666666666,
              "#ed7953"
             ],
             [
              0.7777777777777778,
              "#fb9f3a"
             ],
             [
              0.8888888888888888,
              "#fdca26"
             ],
             [
              1,
              "#f0f921"
             ]
            ],
            "type": "histogram2d"
           }
          ],
          "histogram2dcontour": [
           {
            "colorbar": {
             "outlinewidth": 0,
             "ticks": ""
            },
            "colorscale": [
             [
              0,
              "#0d0887"
             ],
             [
              0.1111111111111111,
              "#46039f"
             ],
             [
              0.2222222222222222,
              "#7201a8"
             ],
             [
              0.3333333333333333,
              "#9c179e"
             ],
             [
              0.4444444444444444,
              "#bd3786"
             ],
             [
              0.5555555555555556,
              "#d8576b"
             ],
             [
              0.6666666666666666,
              "#ed7953"
             ],
             [
              0.7777777777777778,
              "#fb9f3a"
             ],
             [
              0.8888888888888888,
              "#fdca26"
             ],
             [
              1,
              "#f0f921"
             ]
            ],
            "type": "histogram2dcontour"
           }
          ],
          "mesh3d": [
           {
            "colorbar": {
             "outlinewidth": 0,
             "ticks": ""
            },
            "type": "mesh3d"
           }
          ],
          "parcoords": [
           {
            "line": {
             "colorbar": {
              "outlinewidth": 0,
              "ticks": ""
             }
            },
            "type": "parcoords"
           }
          ],
          "pie": [
           {
            "automargin": true,
            "type": "pie"
           }
          ],
          "scatter": [
           {
            "fillpattern": {
             "fillmode": "overlay",
             "size": 10,
             "solidity": 0.2
            },
            "type": "scatter"
           }
          ],
          "scatter3d": [
           {
            "line": {
             "colorbar": {
              "outlinewidth": 0,
              "ticks": ""
             }
            },
            "marker": {
             "colorbar": {
              "outlinewidth": 0,
              "ticks": ""
             }
            },
            "type": "scatter3d"
           }
          ],
          "scattercarpet": [
           {
            "marker": {
             "colorbar": {
              "outlinewidth": 0,
              "ticks": ""
             }
            },
            "type": "scattercarpet"
           }
          ],
          "scattergeo": [
           {
            "marker": {
             "colorbar": {
              "outlinewidth": 0,
              "ticks": ""
             }
            },
            "type": "scattergeo"
           }
          ],
          "scattergl": [
           {
            "marker": {
             "colorbar": {
              "outlinewidth": 0,
              "ticks": ""
             }
            },
            "type": "scattergl"
           }
          ],
          "scattermapbox": [
           {
            "marker": {
             "colorbar": {
              "outlinewidth": 0,
              "ticks": ""
             }
            },
            "type": "scattermapbox"
           }
          ],
          "scatterpolar": [
           {
            "marker": {
             "colorbar": {
              "outlinewidth": 0,
              "ticks": ""
             }
            },
            "type": "scatterpolar"
           }
          ],
          "scatterpolargl": [
           {
            "marker": {
             "colorbar": {
              "outlinewidth": 0,
              "ticks": ""
             }
            },
            "type": "scatterpolargl"
           }
          ],
          "scatterternary": [
           {
            "marker": {
             "colorbar": {
              "outlinewidth": 0,
              "ticks": ""
             }
            },
            "type": "scatterternary"
           }
          ],
          "surface": [
           {
            "colorbar": {
             "outlinewidth": 0,
             "ticks": ""
            },
            "colorscale": [
             [
              0,
              "#0d0887"
             ],
             [
              0.1111111111111111,
              "#46039f"
             ],
             [
              0.2222222222222222,
              "#7201a8"
             ],
             [
              0.3333333333333333,
              "#9c179e"
             ],
             [
              0.4444444444444444,
              "#bd3786"
             ],
             [
              0.5555555555555556,
              "#d8576b"
             ],
             [
              0.6666666666666666,
              "#ed7953"
             ],
             [
              0.7777777777777778,
              "#fb9f3a"
             ],
             [
              0.8888888888888888,
              "#fdca26"
             ],
             [
              1,
              "#f0f921"
             ]
            ],
            "type": "surface"
           }
          ],
          "table": [
           {
            "cells": {
             "fill": {
              "color": "#EBF0F8"
             },
             "line": {
              "color": "white"
             }
            },
            "header": {
             "fill": {
              "color": "#C8D4E3"
             },
             "line": {
              "color": "white"
             }
            },
            "type": "table"
           }
          ]
         },
         "layout": {
          "annotationdefaults": {
           "arrowcolor": "#2a3f5f",
           "arrowhead": 0,
           "arrowwidth": 1
          },
          "autotypenumbers": "strict",
          "coloraxis": {
           "colorbar": {
            "outlinewidth": 0,
            "ticks": ""
           }
          },
          "colorscale": {
           "diverging": [
            [
             0,
             "#8e0152"
            ],
            [
             0.1,
             "#c51b7d"
            ],
            [
             0.2,
             "#de77ae"
            ],
            [
             0.3,
             "#f1b6da"
            ],
            [
             0.4,
             "#fde0ef"
            ],
            [
             0.5,
             "#f7f7f7"
            ],
            [
             0.6,
             "#e6f5d0"
            ],
            [
             0.7,
             "#b8e186"
            ],
            [
             0.8,
             "#7fbc41"
            ],
            [
             0.9,
             "#4d9221"
            ],
            [
             1,
             "#276419"
            ]
           ],
           "sequential": [
            [
             0,
             "#0d0887"
            ],
            [
             0.1111111111111111,
             "#46039f"
            ],
            [
             0.2222222222222222,
             "#7201a8"
            ],
            [
             0.3333333333333333,
             "#9c179e"
            ],
            [
             0.4444444444444444,
             "#bd3786"
            ],
            [
             0.5555555555555556,
             "#d8576b"
            ],
            [
             0.6666666666666666,
             "#ed7953"
            ],
            [
             0.7777777777777778,
             "#fb9f3a"
            ],
            [
             0.8888888888888888,
             "#fdca26"
            ],
            [
             1,
             "#f0f921"
            ]
           ],
           "sequentialminus": [
            [
             0,
             "#0d0887"
            ],
            [
             0.1111111111111111,
             "#46039f"
            ],
            [
             0.2222222222222222,
             "#7201a8"
            ],
            [
             0.3333333333333333,
             "#9c179e"
            ],
            [
             0.4444444444444444,
             "#bd3786"
            ],
            [
             0.5555555555555556,
             "#d8576b"
            ],
            [
             0.6666666666666666,
             "#ed7953"
            ],
            [
             0.7777777777777778,
             "#fb9f3a"
            ],
            [
             0.8888888888888888,
             "#fdca26"
            ],
            [
             1,
             "#f0f921"
            ]
           ]
          },
          "colorway": [
           "#636efa",
           "#EF553B",
           "#00cc96",
           "#ab63fa",
           "#FFA15A",
           "#19d3f3",
           "#FF6692",
           "#B6E880",
           "#FF97FF",
           "#FECB52"
          ],
          "font": {
           "color": "#2a3f5f"
          },
          "geo": {
           "bgcolor": "white",
           "lakecolor": "white",
           "landcolor": "#E5ECF6",
           "showlakes": true,
           "showland": true,
           "subunitcolor": "white"
          },
          "hoverlabel": {
           "align": "left"
          },
          "hovermode": "closest",
          "mapbox": {
           "style": "light"
          },
          "paper_bgcolor": "white",
          "plot_bgcolor": "#E5ECF6",
          "polar": {
           "angularaxis": {
            "gridcolor": "white",
            "linecolor": "white",
            "ticks": ""
           },
           "bgcolor": "#E5ECF6",
           "radialaxis": {
            "gridcolor": "white",
            "linecolor": "white",
            "ticks": ""
           }
          },
          "scene": {
           "xaxis": {
            "backgroundcolor": "#E5ECF6",
            "gridcolor": "white",
            "gridwidth": 2,
            "linecolor": "white",
            "showbackground": true,
            "ticks": "",
            "zerolinecolor": "white"
           },
           "yaxis": {
            "backgroundcolor": "#E5ECF6",
            "gridcolor": "white",
            "gridwidth": 2,
            "linecolor": "white",
            "showbackground": true,
            "ticks": "",
            "zerolinecolor": "white"
           },
           "zaxis": {
            "backgroundcolor": "#E5ECF6",
            "gridcolor": "white",
            "gridwidth": 2,
            "linecolor": "white",
            "showbackground": true,
            "ticks": "",
            "zerolinecolor": "white"
           }
          },
          "shapedefaults": {
           "line": {
            "color": "#2a3f5f"
           }
          },
          "ternary": {
           "aaxis": {
            "gridcolor": "white",
            "linecolor": "white",
            "ticks": ""
           },
           "baxis": {
            "gridcolor": "white",
            "linecolor": "white",
            "ticks": ""
           },
           "bgcolor": "#E5ECF6",
           "caxis": {
            "gridcolor": "white",
            "linecolor": "white",
            "ticks": ""
           }
          },
          "title": {
           "x": 0.05
          },
          "xaxis": {
           "automargin": true,
           "gridcolor": "white",
           "linecolor": "white",
           "ticks": "",
           "title": {
            "standoff": 15
           },
           "zerolinecolor": "white",
           "zerolinewidth": 2
          },
          "yaxis": {
           "automargin": true,
           "gridcolor": "white",
           "linecolor": "white",
           "ticks": "",
           "title": {
            "standoff": 15
           },
           "zerolinecolor": "white",
           "zerolinewidth": 2
          }
         }
        },
        "title": {
         "text": "Updated Probability Vector"
        },
        "xaxis": {
         "title": {
          "text": "Price"
         }
        },
        "yaxis": {
         "title": {
          "text": "Probability"
         }
        }
       }
      }
     },
     "metadata": {},
     "output_type": "display_data"
    },
    {
     "name": "stdout",
     "output_type": "stream",
     "text": [
      "EV:  99.99973546008948\n",
      "Bid price:  99\n",
      "Ask price:  100\n"
     ]
    }
   ],
   "source": [
    "# MANY BUY ORDERS SIMULATION\n",
    "\n",
    "# update the probability vector given a buy order\n",
    "last_probability_vector = initial_probability_vector\n",
    "\n",
    "for i in range(100):\n",
    "\n",
    "    updated_probability_vector = np.zeros(101)\n",
    "    Pa = calculate_ask(last_probability_vector, calculate_expected_value(last_probability_vector, PRICES), PRICES)\n",
    "    total_buy_probability = sum(probability_buy_given_V(Vi, Pa, ALPHA, ETA, SIGMA_W) * last_probability_vector[Vi]\n",
    "                                    for Vi in range(101))\n",
    "\n",
    "    for i in range(len(last_probability_vector)):\n",
    "        previous_probability = last_probability_vector[i]\n",
    "        Vi = i\n",
    "        p_buy = probability_buy_given_V(Vi, Pa, ALPHA, ETA, SIGMA_W)\n",
    "\n",
    "        new_probability = probability_V_given_buy(Vi, last_probability_vector, p_buy, total_buy_probability)\n",
    "        updated_probability_vector[i] = new_probability\n",
    "\n",
    "    last_probability_vector = updated_probability_vector\n",
    "\n",
    "# Plot the updated probability vector\n",
    "fig = go.Figure(data=[go.Scatter(x=np.arange(101), y=last_probability_vector)])\n",
    "fig.update_layout(title=\"Updated Probability Vector\", xaxis_title=\"Price\", yaxis_title=\"Probability\")\n",
    "fig.show()\n",
    "\n",
    "# UPDATE BID AND ASK\n",
    "\n",
    "Pb = calculate_bid(last_probability_vector, calculate_expected_value(last_probability_vector, PRICES), PRICES)\n",
    "Pa = calculate_ask(last_probability_vector, calculate_expected_value(last_probability_vector, PRICES), PRICES)\n",
    "\n",
    "print(\"EV: \", calculate_expected_value(last_probability_vector, PRICES))\n",
    "print(\"Bid price: \", Pb)\n",
    "print(\"Ask price: \", Pa)"
   ]
  },
  {
   "cell_type": "code",
   "execution_count": 65,
   "metadata": {},
   "outputs": [
    {
     "data": {
      "application/vnd.plotly.v1+json": {
       "config": {
        "plotlyServerURL": "https://plot.ly"
       },
       "data": [
        {
         "type": "scatter",
         "x": [
          0,
          1,
          2,
          3,
          4,
          5,
          6,
          7,
          8,
          9,
          10,
          11,
          12,
          13,
          14,
          15,
          16,
          17,
          18,
          19,
          20,
          21,
          22,
          23,
          24,
          25,
          26,
          27,
          28,
          29,
          30,
          31,
          32,
          33,
          34,
          35,
          36,
          37,
          38,
          39,
          40,
          41,
          42,
          43,
          44,
          45,
          46,
          47,
          48,
          49,
          50,
          51,
          52,
          53,
          54,
          55,
          56,
          57,
          58,
          59,
          60,
          61,
          62,
          63,
          64,
          65,
          66,
          67,
          68,
          69,
          70,
          71,
          72,
          73,
          74,
          75,
          76,
          77,
          78,
          79,
          80,
          81,
          82,
          83,
          84,
          85,
          86,
          87,
          88,
          89,
          90,
          91,
          92,
          93,
          94,
          95,
          96,
          97,
          98,
          99,
          100
         ],
         "y": [
          2.384521583493197e-7,
          3.911803458714093e-7,
          6.353453417153869e-7,
          0.000001021644329784796,
          0.0000016264722690134537,
          0.000002563602298661903,
          0.000004000476253075982,
          0.000006180588029214471,
          0.000009453768237372608,
          0.000014316510007960927,
          0.000021464779247023526,
          0.00003186197897588904,
          0.000046824820612423084,
          0.00006812971198211228,
          0.00009814180448140007,
          0.00013996794292762184,
          0.00019763332449026353,
          0.0002762796057698307,
          0.0003823794412401737,
          0.000523958989653611,
          0.0007108158657960342,
          0.0009547155249778883,
          0.0012695444503761117,
          0.0016713942019972398,
          0.0021785469356941207,
          0.0028113310586011667,
          0.003591815934325339,
          0.004543317604520938,
          0.0056896937575249265,
          0.0070544156194394655,
          0.008659416290717047,
          0.010523727383796816,
          0.012661925217190144,
          0.015082409380078368,
          0.017785524837859938,
          0.020761511090141085,
          0.023988223609499496,
          0.02742854507127058,
          0.0310274295335289,
          0.03470866266139652,
          0.038371732287157276,
          0.0418896942244525,
          0.04510949083400448,
          0.04785659504461024,
          0.04994576064475375,
          0.05119873316617915,
          0.05146792319565685,
          0.050662608903864946,
          0.048772032534442206,
          0.045878840507712716,
          0.042157506139058956,
          0.037855742248360386,
          0.03326155575536483,
          0.028662889286629988,
          0.024309066110343145,
          0.020382580464585038,
          0.01698643447760004,
          0.014147560328716165,
          0.011832640700326755,
          0.009970225544932678,
          0.008472904351842777,
          0.0072549627791604655,
          0.0062434245173585735,
          0.005382643531857088,
          0.0046340442838427144,
          0.003973079195543613,
          0.0033852202866941654,
          0.002862201042003559,
          0.002399099157276536,
          0.0019923842483214986,
          0.0016387936464266257,
          0.0013348061821643396,
          0.0010764919600171768,
          0.000859567065307831,
          0.0006795390543367388,
          0.0005318752948486491,
          0.00041215804584796413,
          0.00031620985167557346,
          0.00024018412015076174,
          0.00018062186451780243,
          0.00013447867925453377,
          0.00009912737684633119,
          0.00007234205653957796,
          0.000052269114622727844,
          0.00003739008842040994,
          0.00002648042163555559,
          0.000018567368415502878,
          0.000012889404969605594,
          0.00000885874984559616,
          0.000006027941968411825,
          0.00000406090418186937,
          0.0000027085289204250473,
          0.0000017885507476110344,
          0.0000011693004379594943,
          7.568468586900506e-7,
          4.85005840287387e-7,
          3.077109698133561e-7,
          1.9328406239171815e-7,
          1.2020047005426238e-7,
          7.400709246215851e-8,
          4.511257049851993e-8
         ]
        }
       ],
       "layout": {
        "template": {
         "data": {
          "bar": [
           {
            "error_x": {
             "color": "#2a3f5f"
            },
            "error_y": {
             "color": "#2a3f5f"
            },
            "marker": {
             "line": {
              "color": "#E5ECF6",
              "width": 0.5
             },
             "pattern": {
              "fillmode": "overlay",
              "size": 10,
              "solidity": 0.2
             }
            },
            "type": "bar"
           }
          ],
          "barpolar": [
           {
            "marker": {
             "line": {
              "color": "#E5ECF6",
              "width": 0.5
             },
             "pattern": {
              "fillmode": "overlay",
              "size": 10,
              "solidity": 0.2
             }
            },
            "type": "barpolar"
           }
          ],
          "carpet": [
           {
            "aaxis": {
             "endlinecolor": "#2a3f5f",
             "gridcolor": "white",
             "linecolor": "white",
             "minorgridcolor": "white",
             "startlinecolor": "#2a3f5f"
            },
            "baxis": {
             "endlinecolor": "#2a3f5f",
             "gridcolor": "white",
             "linecolor": "white",
             "minorgridcolor": "white",
             "startlinecolor": "#2a3f5f"
            },
            "type": "carpet"
           }
          ],
          "choropleth": [
           {
            "colorbar": {
             "outlinewidth": 0,
             "ticks": ""
            },
            "type": "choropleth"
           }
          ],
          "contour": [
           {
            "colorbar": {
             "outlinewidth": 0,
             "ticks": ""
            },
            "colorscale": [
             [
              0,
              "#0d0887"
             ],
             [
              0.1111111111111111,
              "#46039f"
             ],
             [
              0.2222222222222222,
              "#7201a8"
             ],
             [
              0.3333333333333333,
              "#9c179e"
             ],
             [
              0.4444444444444444,
              "#bd3786"
             ],
             [
              0.5555555555555556,
              "#d8576b"
             ],
             [
              0.6666666666666666,
              "#ed7953"
             ],
             [
              0.7777777777777778,
              "#fb9f3a"
             ],
             [
              0.8888888888888888,
              "#fdca26"
             ],
             [
              1,
              "#f0f921"
             ]
            ],
            "type": "contour"
           }
          ],
          "contourcarpet": [
           {
            "colorbar": {
             "outlinewidth": 0,
             "ticks": ""
            },
            "type": "contourcarpet"
           }
          ],
          "heatmap": [
           {
            "colorbar": {
             "outlinewidth": 0,
             "ticks": ""
            },
            "colorscale": [
             [
              0,
              "#0d0887"
             ],
             [
              0.1111111111111111,
              "#46039f"
             ],
             [
              0.2222222222222222,
              "#7201a8"
             ],
             [
              0.3333333333333333,
              "#9c179e"
             ],
             [
              0.4444444444444444,
              "#bd3786"
             ],
             [
              0.5555555555555556,
              "#d8576b"
             ],
             [
              0.6666666666666666,
              "#ed7953"
             ],
             [
              0.7777777777777778,
              "#fb9f3a"
             ],
             [
              0.8888888888888888,
              "#fdca26"
             ],
             [
              1,
              "#f0f921"
             ]
            ],
            "type": "heatmap"
           }
          ],
          "heatmapgl": [
           {
            "colorbar": {
             "outlinewidth": 0,
             "ticks": ""
            },
            "colorscale": [
             [
              0,
              "#0d0887"
             ],
             [
              0.1111111111111111,
              "#46039f"
             ],
             [
              0.2222222222222222,
              "#7201a8"
             ],
             [
              0.3333333333333333,
              "#9c179e"
             ],
             [
              0.4444444444444444,
              "#bd3786"
             ],
             [
              0.5555555555555556,
              "#d8576b"
             ],
             [
              0.6666666666666666,
              "#ed7953"
             ],
             [
              0.7777777777777778,
              "#fb9f3a"
             ],
             [
              0.8888888888888888,
              "#fdca26"
             ],
             [
              1,
              "#f0f921"
             ]
            ],
            "type": "heatmapgl"
           }
          ],
          "histogram": [
           {
            "marker": {
             "pattern": {
              "fillmode": "overlay",
              "size": 10,
              "solidity": 0.2
             }
            },
            "type": "histogram"
           }
          ],
          "histogram2d": [
           {
            "colorbar": {
             "outlinewidth": 0,
             "ticks": ""
            },
            "colorscale": [
             [
              0,
              "#0d0887"
             ],
             [
              0.1111111111111111,
              "#46039f"
             ],
             [
              0.2222222222222222,
              "#7201a8"
             ],
             [
              0.3333333333333333,
              "#9c179e"
             ],
             [
              0.4444444444444444,
              "#bd3786"
             ],
             [
              0.5555555555555556,
              "#d8576b"
             ],
             [
              0.6666666666666666,
              "#ed7953"
             ],
             [
              0.7777777777777778,
              "#fb9f3a"
             ],
             [
              0.8888888888888888,
              "#fdca26"
             ],
             [
              1,
              "#f0f921"
             ]
            ],
            "type": "histogram2d"
           }
          ],
          "histogram2dcontour": [
           {
            "colorbar": {
             "outlinewidth": 0,
             "ticks": ""
            },
            "colorscale": [
             [
              0,
              "#0d0887"
             ],
             [
              0.1111111111111111,
              "#46039f"
             ],
             [
              0.2222222222222222,
              "#7201a8"
             ],
             [
              0.3333333333333333,
              "#9c179e"
             ],
             [
              0.4444444444444444,
              "#bd3786"
             ],
             [
              0.5555555555555556,
              "#d8576b"
             ],
             [
              0.6666666666666666,
              "#ed7953"
             ],
             [
              0.7777777777777778,
              "#fb9f3a"
             ],
             [
              0.8888888888888888,
              "#fdca26"
             ],
             [
              1,
              "#f0f921"
             ]
            ],
            "type": "histogram2dcontour"
           }
          ],
          "mesh3d": [
           {
            "colorbar": {
             "outlinewidth": 0,
             "ticks": ""
            },
            "type": "mesh3d"
           }
          ],
          "parcoords": [
           {
            "line": {
             "colorbar": {
              "outlinewidth": 0,
              "ticks": ""
             }
            },
            "type": "parcoords"
           }
          ],
          "pie": [
           {
            "automargin": true,
            "type": "pie"
           }
          ],
          "scatter": [
           {
            "fillpattern": {
             "fillmode": "overlay",
             "size": 10,
             "solidity": 0.2
            },
            "type": "scatter"
           }
          ],
          "scatter3d": [
           {
            "line": {
             "colorbar": {
              "outlinewidth": 0,
              "ticks": ""
             }
            },
            "marker": {
             "colorbar": {
              "outlinewidth": 0,
              "ticks": ""
             }
            },
            "type": "scatter3d"
           }
          ],
          "scattercarpet": [
           {
            "marker": {
             "colorbar": {
              "outlinewidth": 0,
              "ticks": ""
             }
            },
            "type": "scattercarpet"
           }
          ],
          "scattergeo": [
           {
            "marker": {
             "colorbar": {
              "outlinewidth": 0,
              "ticks": ""
             }
            },
            "type": "scattergeo"
           }
          ],
          "scattergl": [
           {
            "marker": {
             "colorbar": {
              "outlinewidth": 0,
              "ticks": ""
             }
            },
            "type": "scattergl"
           }
          ],
          "scattermapbox": [
           {
            "marker": {
             "colorbar": {
              "outlinewidth": 0,
              "ticks": ""
             }
            },
            "type": "scattermapbox"
           }
          ],
          "scatterpolar": [
           {
            "marker": {
             "colorbar": {
              "outlinewidth": 0,
              "ticks": ""
             }
            },
            "type": "scatterpolar"
           }
          ],
          "scatterpolargl": [
           {
            "marker": {
             "colorbar": {
              "outlinewidth": 0,
              "ticks": ""
             }
            },
            "type": "scatterpolargl"
           }
          ],
          "scatterternary": [
           {
            "marker": {
             "colorbar": {
              "outlinewidth": 0,
              "ticks": ""
             }
            },
            "type": "scatterternary"
           }
          ],
          "surface": [
           {
            "colorbar": {
             "outlinewidth": 0,
             "ticks": ""
            },
            "colorscale": [
             [
              0,
              "#0d0887"
             ],
             [
              0.1111111111111111,
              "#46039f"
             ],
             [
              0.2222222222222222,
              "#7201a8"
             ],
             [
              0.3333333333333333,
              "#9c179e"
             ],
             [
              0.4444444444444444,
              "#bd3786"
             ],
             [
              0.5555555555555556,
              "#d8576b"
             ],
             [
              0.6666666666666666,
              "#ed7953"
             ],
             [
              0.7777777777777778,
              "#fb9f3a"
             ],
             [
              0.8888888888888888,
              "#fdca26"
             ],
             [
              1,
              "#f0f921"
             ]
            ],
            "type": "surface"
           }
          ],
          "table": [
           {
            "cells": {
             "fill": {
              "color": "#EBF0F8"
             },
             "line": {
              "color": "white"
             }
            },
            "header": {
             "fill": {
              "color": "#C8D4E3"
             },
             "line": {
              "color": "white"
             }
            },
            "type": "table"
           }
          ]
         },
         "layout": {
          "annotationdefaults": {
           "arrowcolor": "#2a3f5f",
           "arrowhead": 0,
           "arrowwidth": 1
          },
          "autotypenumbers": "strict",
          "coloraxis": {
           "colorbar": {
            "outlinewidth": 0,
            "ticks": ""
           }
          },
          "colorscale": {
           "diverging": [
            [
             0,
             "#8e0152"
            ],
            [
             0.1,
             "#c51b7d"
            ],
            [
             0.2,
             "#de77ae"
            ],
            [
             0.3,
             "#f1b6da"
            ],
            [
             0.4,
             "#fde0ef"
            ],
            [
             0.5,
             "#f7f7f7"
            ],
            [
             0.6,
             "#e6f5d0"
            ],
            [
             0.7,
             "#b8e186"
            ],
            [
             0.8,
             "#7fbc41"
            ],
            [
             0.9,
             "#4d9221"
            ],
            [
             1,
             "#276419"
            ]
           ],
           "sequential": [
            [
             0,
             "#0d0887"
            ],
            [
             0.1111111111111111,
             "#46039f"
            ],
            [
             0.2222222222222222,
             "#7201a8"
            ],
            [
             0.3333333333333333,
             "#9c179e"
            ],
            [
             0.4444444444444444,
             "#bd3786"
            ],
            [
             0.5555555555555556,
             "#d8576b"
            ],
            [
             0.6666666666666666,
             "#ed7953"
            ],
            [
             0.7777777777777778,
             "#fb9f3a"
            ],
            [
             0.8888888888888888,
             "#fdca26"
            ],
            [
             1,
             "#f0f921"
            ]
           ],
           "sequentialminus": [
            [
             0,
             "#0d0887"
            ],
            [
             0.1111111111111111,
             "#46039f"
            ],
            [
             0.2222222222222222,
             "#7201a8"
            ],
            [
             0.3333333333333333,
             "#9c179e"
            ],
            [
             0.4444444444444444,
             "#bd3786"
            ],
            [
             0.5555555555555556,
             "#d8576b"
            ],
            [
             0.6666666666666666,
             "#ed7953"
            ],
            [
             0.7777777777777778,
             "#fb9f3a"
            ],
            [
             0.8888888888888888,
             "#fdca26"
            ],
            [
             1,
             "#f0f921"
            ]
           ]
          },
          "colorway": [
           "#636efa",
           "#EF553B",
           "#00cc96",
           "#ab63fa",
           "#FFA15A",
           "#19d3f3",
           "#FF6692",
           "#B6E880",
           "#FF97FF",
           "#FECB52"
          ],
          "font": {
           "color": "#2a3f5f"
          },
          "geo": {
           "bgcolor": "white",
           "lakecolor": "white",
           "landcolor": "#E5ECF6",
           "showlakes": true,
           "showland": true,
           "subunitcolor": "white"
          },
          "hoverlabel": {
           "align": "left"
          },
          "hovermode": "closest",
          "mapbox": {
           "style": "light"
          },
          "paper_bgcolor": "white",
          "plot_bgcolor": "#E5ECF6",
          "polar": {
           "angularaxis": {
            "gridcolor": "white",
            "linecolor": "white",
            "ticks": ""
           },
           "bgcolor": "#E5ECF6",
           "radialaxis": {
            "gridcolor": "white",
            "linecolor": "white",
            "ticks": ""
           }
          },
          "scene": {
           "xaxis": {
            "backgroundcolor": "#E5ECF6",
            "gridcolor": "white",
            "gridwidth": 2,
            "linecolor": "white",
            "showbackground": true,
            "ticks": "",
            "zerolinecolor": "white"
           },
           "yaxis": {
            "backgroundcolor": "#E5ECF6",
            "gridcolor": "white",
            "gridwidth": 2,
            "linecolor": "white",
            "showbackground": true,
            "ticks": "",
            "zerolinecolor": "white"
           },
           "zaxis": {
            "backgroundcolor": "#E5ECF6",
            "gridcolor": "white",
            "gridwidth": 2,
            "linecolor": "white",
            "showbackground": true,
            "ticks": "",
            "zerolinecolor": "white"
           }
          },
          "shapedefaults": {
           "line": {
            "color": "#2a3f5f"
           }
          },
          "ternary": {
           "aaxis": {
            "gridcolor": "white",
            "linecolor": "white",
            "ticks": ""
           },
           "baxis": {
            "gridcolor": "white",
            "linecolor": "white",
            "ticks": ""
           },
           "bgcolor": "#E5ECF6",
           "caxis": {
            "gridcolor": "white",
            "linecolor": "white",
            "ticks": ""
           }
          },
          "title": {
           "x": 0.05
          },
          "xaxis": {
           "automargin": true,
           "gridcolor": "white",
           "linecolor": "white",
           "ticks": "",
           "title": {
            "standoff": 15
           },
           "zerolinecolor": "white",
           "zerolinewidth": 2
          },
          "yaxis": {
           "automargin": true,
           "gridcolor": "white",
           "linecolor": "white",
           "ticks": "",
           "title": {
            "standoff": 15
           },
           "zerolinecolor": "white",
           "zerolinewidth": 2
          }
         }
        },
        "title": {
         "text": "Updated Probability Vector"
        },
        "xaxis": {
         "title": {
          "text": "Price"
         }
        },
        "yaxis": {
         "title": {
          "text": "Probability"
         }
        }
       }
      }
     },
     "metadata": {},
     "output_type": "display_data"
    },
    {
     "name": "stdout",
     "output_type": "stream",
     "text": [
      "EV:  45.3782310663875\n",
      "Bid price:  45\n",
      "Ask price:  46\n"
     ]
    }
   ],
   "source": [
    "# SELL ORDER SIMULATION\n",
    "\n",
    "# update the probability vector given a sell order\n",
    "updated_probability_vector = np.zeros(101)\n",
    "\n",
    "total_sell_probability = sum(probability_sell_given_V(Vi, Pb, ALPHA, ETA, SIGMA_W) * initial_probability_vector[Vi]\n",
    "                                for Vi in range(101))\n",
    "\n",
    "for i in range(len(initial_probability_vector)):\n",
    "    previous_probability = initial_probability_vector[i]\n",
    "    Vi = i\n",
    "    p_sell = probability_sell_given_V(Vi, Pb, ALPHA, ETA, SIGMA_W)\n",
    "    new_probability = probability_V_given_sell(Vi, initial_probability_vector, p_sell, total_sell_probability)\n",
    "    updated_probability_vector[i] = new_probability\n",
    "\n",
    "# Plot the updated probability vector\n",
    "fig = go.Figure(data=[go.Scatter(x=np.arange(101), y=updated_probability_vector)])\n",
    "fig.update_layout(title=\"Updated Probability Vector\", xaxis_title=\"Price\", yaxis_title=\"Probability\")\n",
    "fig.show()\n",
    "\n",
    "# UPDATE BID AND ASK\n",
    "\n",
    "Pb = calculate_bid(updated_probability_vector, calculate_expected_value(updated_probability_vector, PRICES), PRICES)\n",
    "Pa = calculate_ask(updated_probability_vector, calculate_expected_value(updated_probability_vector, PRICES), PRICES)\n",
    "\n",
    "print(\"EV: \", calculate_expected_value(updated_probability_vector, PRICES))\n",
    "print(\"Bid price: \", Pb)\n",
    "print(\"Ask price: \", Pa)"
   ]
  },
  {
   "cell_type": "code",
   "execution_count": 66,
   "metadata": {},
   "outputs": [
    {
     "data": {
      "application/vnd.plotly.v1+json": {
       "config": {
        "plotlyServerURL": "https://plot.ly"
       },
       "data": [
        {
         "type": "scatter",
         "x": [
          0,
          1,
          2,
          3,
          4,
          5,
          6,
          7,
          8,
          9,
          10,
          11,
          12,
          13,
          14,
          15,
          16,
          17,
          18,
          19,
          20,
          21,
          22,
          23,
          24,
          25,
          26,
          27,
          28,
          29,
          30,
          31,
          32,
          33,
          34,
          35,
          36,
          37,
          38,
          39,
          40,
          41,
          42,
          43,
          44,
          45,
          46,
          47,
          48,
          49,
          50,
          51,
          52,
          53,
          54,
          55,
          56,
          57,
          58,
          59,
          60,
          61,
          62,
          63,
          64,
          65,
          66,
          67,
          68,
          69,
          70,
          71,
          72,
          73,
          74,
          75,
          76,
          77,
          78,
          79,
          80,
          81,
          82,
          83,
          84,
          85,
          86,
          87,
          88,
          89,
          90,
          91,
          92,
          93,
          94,
          95,
          96,
          97,
          98,
          99,
          100
         ],
         "y": [
          0.9997354910329856,
          0.00026447802553850464,
          3.09394475053794e-8,
          2.0282550649595214e-12,
          1.0250784719583239e-16,
          5.851884195776857e-21,
          5.649306292465203e-25,
          1.3279532873158415e-28,
          9.872973471202055e-32,
          2.605709261403069e-34,
          2.3590314518241915e-36,
          6.312083688915944e-38,
          4.049516639552171e-39,
          5.008033819395736e-40,
          9.843890887792237e-41,
          2.6410923001301844e-41,
          8.664913528768563e-42,
          3.2290386707576555e-42,
          1.3047550829635045e-42,
          5.559607518517468e-43,
          2.4583254064430334e-43,
          1.1179148841199754e-43,
          5.203405033524383e-44,
          2.473683387332741e-44,
          1.2004579412247798e-44,
          5.949219799926138e-45,
          3.0129737589343296e-45,
          1.5603063128150237e-45,
          8.263372979239148e-46,
          4.473172341248052e-46,
          2.4723085675772205e-46,
          1.3930579118443215e-46,
          7.989488830615808e-47,
          4.656933148931785e-47,
          2.755106633251277e-47,
          1.6524729269415828e-47,
          1.0038326044328612e-47,
          6.17166686413796e-48,
          3.8389974463973556e-48,
          2.416525285899246e-48,
          1.540294512838978e-48,
          9.950110840940427e-49,
          6.5194266262879055e-49,
          4.335146380014799e-49,
          2.9267490772906797e-49,
          2.006726066526326e-49,
          1.3977571514810571e-49,
          9.89303329281625e-50,
          7.116896113509443e-50,
          5.205220425802491e-50,
          3.8720613909377304e-50,
          2.9310255302526147e-50,
          2.258985903349391e-50,
          1.773549621020703e-50,
          1.418972244612794e-50,
          1.1571102869038774e-50,
          9.614204557008212e-51,
          8.129870735728156e-51,
          6.980219020288987e-51,
          6.063954603629355e-51,
          5.307855252045093e-51,
          4.661123535850043e-51,
          4.090672291651776e-51,
          3.5766769138561834e-51,
          3.10847255502269e-51,
          2.681087796051361e-51,
          2.292608301788136e-51,
          1.9423808227394046e-51,
          1.6299299671426687e-51,
          1.354402712499355e-51,
          1.1143610737307044e-51,
          9.077801340770192e-52,
          7.321518702186099e-52,
          5.8463181912704e-52,
          4.6219186568774504e-52,
          3.61759379778652e-52,
          2.8033323175232477e-52,
          2.150733024894482e-52,
          1.6336367982789404e-52,
          1.228518146402375e-52,
          9.146705630070332e-53,
          6.742250512684815e-53,
          4.920419410486349e-53,
          3.555137615234087e-53,
          2.5431253383584653e-53,
          1.8010931260375892e-53,
          1.2628786687218073e-53,
          8.76686142291719e-54,
          6.025369864616855e-54,
          4.099966757746441e-54,
          2.762065766277668e-54,
          1.8422338161732498e-54,
          1.216501195296053e-54,
          7.953117250589044e-55,
          5.147771789435084e-55,
          3.2988171301443334e-55,
          2.0929278248528832e-55,
          1.3146414394182855e-55,
          8.175558657838988e-56,
          5.033668547613429e-56,
          3.06837790359762e-56
         ]
        }
       ],
       "layout": {
        "template": {
         "data": {
          "bar": [
           {
            "error_x": {
             "color": "#2a3f5f"
            },
            "error_y": {
             "color": "#2a3f5f"
            },
            "marker": {
             "line": {
              "color": "#E5ECF6",
              "width": 0.5
             },
             "pattern": {
              "fillmode": "overlay",
              "size": 10,
              "solidity": 0.2
             }
            },
            "type": "bar"
           }
          ],
          "barpolar": [
           {
            "marker": {
             "line": {
              "color": "#E5ECF6",
              "width": 0.5
             },
             "pattern": {
              "fillmode": "overlay",
              "size": 10,
              "solidity": 0.2
             }
            },
            "type": "barpolar"
           }
          ],
          "carpet": [
           {
            "aaxis": {
             "endlinecolor": "#2a3f5f",
             "gridcolor": "white",
             "linecolor": "white",
             "minorgridcolor": "white",
             "startlinecolor": "#2a3f5f"
            },
            "baxis": {
             "endlinecolor": "#2a3f5f",
             "gridcolor": "white",
             "linecolor": "white",
             "minorgridcolor": "white",
             "startlinecolor": "#2a3f5f"
            },
            "type": "carpet"
           }
          ],
          "choropleth": [
           {
            "colorbar": {
             "outlinewidth": 0,
             "ticks": ""
            },
            "type": "choropleth"
           }
          ],
          "contour": [
           {
            "colorbar": {
             "outlinewidth": 0,
             "ticks": ""
            },
            "colorscale": [
             [
              0,
              "#0d0887"
             ],
             [
              0.1111111111111111,
              "#46039f"
             ],
             [
              0.2222222222222222,
              "#7201a8"
             ],
             [
              0.3333333333333333,
              "#9c179e"
             ],
             [
              0.4444444444444444,
              "#bd3786"
             ],
             [
              0.5555555555555556,
              "#d8576b"
             ],
             [
              0.6666666666666666,
              "#ed7953"
             ],
             [
              0.7777777777777778,
              "#fb9f3a"
             ],
             [
              0.8888888888888888,
              "#fdca26"
             ],
             [
              1,
              "#f0f921"
             ]
            ],
            "type": "contour"
           }
          ],
          "contourcarpet": [
           {
            "colorbar": {
             "outlinewidth": 0,
             "ticks": ""
            },
            "type": "contourcarpet"
           }
          ],
          "heatmap": [
           {
            "colorbar": {
             "outlinewidth": 0,
             "ticks": ""
            },
            "colorscale": [
             [
              0,
              "#0d0887"
             ],
             [
              0.1111111111111111,
              "#46039f"
             ],
             [
              0.2222222222222222,
              "#7201a8"
             ],
             [
              0.3333333333333333,
              "#9c179e"
             ],
             [
              0.4444444444444444,
              "#bd3786"
             ],
             [
              0.5555555555555556,
              "#d8576b"
             ],
             [
              0.6666666666666666,
              "#ed7953"
             ],
             [
              0.7777777777777778,
              "#fb9f3a"
             ],
             [
              0.8888888888888888,
              "#fdca26"
             ],
             [
              1,
              "#f0f921"
             ]
            ],
            "type": "heatmap"
           }
          ],
          "heatmapgl": [
           {
            "colorbar": {
             "outlinewidth": 0,
             "ticks": ""
            },
            "colorscale": [
             [
              0,
              "#0d0887"
             ],
             [
              0.1111111111111111,
              "#46039f"
             ],
             [
              0.2222222222222222,
              "#7201a8"
             ],
             [
              0.3333333333333333,
              "#9c179e"
             ],
             [
              0.4444444444444444,
              "#bd3786"
             ],
             [
              0.5555555555555556,
              "#d8576b"
             ],
             [
              0.6666666666666666,
              "#ed7953"
             ],
             [
              0.7777777777777778,
              "#fb9f3a"
             ],
             [
              0.8888888888888888,
              "#fdca26"
             ],
             [
              1,
              "#f0f921"
             ]
            ],
            "type": "heatmapgl"
           }
          ],
          "histogram": [
           {
            "marker": {
             "pattern": {
              "fillmode": "overlay",
              "size": 10,
              "solidity": 0.2
             }
            },
            "type": "histogram"
           }
          ],
          "histogram2d": [
           {
            "colorbar": {
             "outlinewidth": 0,
             "ticks": ""
            },
            "colorscale": [
             [
              0,
              "#0d0887"
             ],
             [
              0.1111111111111111,
              "#46039f"
             ],
             [
              0.2222222222222222,
              "#7201a8"
             ],
             [
              0.3333333333333333,
              "#9c179e"
             ],
             [
              0.4444444444444444,
              "#bd3786"
             ],
             [
              0.5555555555555556,
              "#d8576b"
             ],
             [
              0.6666666666666666,
              "#ed7953"
             ],
             [
              0.7777777777777778,
              "#fb9f3a"
             ],
             [
              0.8888888888888888,
              "#fdca26"
             ],
             [
              1,
              "#f0f921"
             ]
            ],
            "type": "histogram2d"
           }
          ],
          "histogram2dcontour": [
           {
            "colorbar": {
             "outlinewidth": 0,
             "ticks": ""
            },
            "colorscale": [
             [
              0,
              "#0d0887"
             ],
             [
              0.1111111111111111,
              "#46039f"
             ],
             [
              0.2222222222222222,
              "#7201a8"
             ],
             [
              0.3333333333333333,
              "#9c179e"
             ],
             [
              0.4444444444444444,
              "#bd3786"
             ],
             [
              0.5555555555555556,
              "#d8576b"
             ],
             [
              0.6666666666666666,
              "#ed7953"
             ],
             [
              0.7777777777777778,
              "#fb9f3a"
             ],
             [
              0.8888888888888888,
              "#fdca26"
             ],
             [
              1,
              "#f0f921"
             ]
            ],
            "type": "histogram2dcontour"
           }
          ],
          "mesh3d": [
           {
            "colorbar": {
             "outlinewidth": 0,
             "ticks": ""
            },
            "type": "mesh3d"
           }
          ],
          "parcoords": [
           {
            "line": {
             "colorbar": {
              "outlinewidth": 0,
              "ticks": ""
             }
            },
            "type": "parcoords"
           }
          ],
          "pie": [
           {
            "automargin": true,
            "type": "pie"
           }
          ],
          "scatter": [
           {
            "fillpattern": {
             "fillmode": "overlay",
             "size": 10,
             "solidity": 0.2
            },
            "type": "scatter"
           }
          ],
          "scatter3d": [
           {
            "line": {
             "colorbar": {
              "outlinewidth": 0,
              "ticks": ""
             }
            },
            "marker": {
             "colorbar": {
              "outlinewidth": 0,
              "ticks": ""
             }
            },
            "type": "scatter3d"
           }
          ],
          "scattercarpet": [
           {
            "marker": {
             "colorbar": {
              "outlinewidth": 0,
              "ticks": ""
             }
            },
            "type": "scattercarpet"
           }
          ],
          "scattergeo": [
           {
            "marker": {
             "colorbar": {
              "outlinewidth": 0,
              "ticks": ""
             }
            },
            "type": "scattergeo"
           }
          ],
          "scattergl": [
           {
            "marker": {
             "colorbar": {
              "outlinewidth": 0,
              "ticks": ""
             }
            },
            "type": "scattergl"
           }
          ],
          "scattermapbox": [
           {
            "marker": {
             "colorbar": {
              "outlinewidth": 0,
              "ticks": ""
             }
            },
            "type": "scattermapbox"
           }
          ],
          "scatterpolar": [
           {
            "marker": {
             "colorbar": {
              "outlinewidth": 0,
              "ticks": ""
             }
            },
            "type": "scatterpolar"
           }
          ],
          "scatterpolargl": [
           {
            "marker": {
             "colorbar": {
              "outlinewidth": 0,
              "ticks": ""
             }
            },
            "type": "scatterpolargl"
           }
          ],
          "scatterternary": [
           {
            "marker": {
             "colorbar": {
              "outlinewidth": 0,
              "ticks": ""
             }
            },
            "type": "scatterternary"
           }
          ],
          "surface": [
           {
            "colorbar": {
             "outlinewidth": 0,
             "ticks": ""
            },
            "colorscale": [
             [
              0,
              "#0d0887"
             ],
             [
              0.1111111111111111,
              "#46039f"
             ],
             [
              0.2222222222222222,
              "#7201a8"
             ],
             [
              0.3333333333333333,
              "#9c179e"
             ],
             [
              0.4444444444444444,
              "#bd3786"
             ],
             [
              0.5555555555555556,
              "#d8576b"
             ],
             [
              0.6666666666666666,
              "#ed7953"
             ],
             [
              0.7777777777777778,
              "#fb9f3a"
             ],
             [
              0.8888888888888888,
              "#fdca26"
             ],
             [
              1,
              "#f0f921"
             ]
            ],
            "type": "surface"
           }
          ],
          "table": [
           {
            "cells": {
             "fill": {
              "color": "#EBF0F8"
             },
             "line": {
              "color": "white"
             }
            },
            "header": {
             "fill": {
              "color": "#C8D4E3"
             },
             "line": {
              "color": "white"
             }
            },
            "type": "table"
           }
          ]
         },
         "layout": {
          "annotationdefaults": {
           "arrowcolor": "#2a3f5f",
           "arrowhead": 0,
           "arrowwidth": 1
          },
          "autotypenumbers": "strict",
          "coloraxis": {
           "colorbar": {
            "outlinewidth": 0,
            "ticks": ""
           }
          },
          "colorscale": {
           "diverging": [
            [
             0,
             "#8e0152"
            ],
            [
             0.1,
             "#c51b7d"
            ],
            [
             0.2,
             "#de77ae"
            ],
            [
             0.3,
             "#f1b6da"
            ],
            [
             0.4,
             "#fde0ef"
            ],
            [
             0.5,
             "#f7f7f7"
            ],
            [
             0.6,
             "#e6f5d0"
            ],
            [
             0.7,
             "#b8e186"
            ],
            [
             0.8,
             "#7fbc41"
            ],
            [
             0.9,
             "#4d9221"
            ],
            [
             1,
             "#276419"
            ]
           ],
           "sequential": [
            [
             0,
             "#0d0887"
            ],
            [
             0.1111111111111111,
             "#46039f"
            ],
            [
             0.2222222222222222,
             "#7201a8"
            ],
            [
             0.3333333333333333,
             "#9c179e"
            ],
            [
             0.4444444444444444,
             "#bd3786"
            ],
            [
             0.5555555555555556,
             "#d8576b"
            ],
            [
             0.6666666666666666,
             "#ed7953"
            ],
            [
             0.7777777777777778,
             "#fb9f3a"
            ],
            [
             0.8888888888888888,
             "#fdca26"
            ],
            [
             1,
             "#f0f921"
            ]
           ],
           "sequentialminus": [
            [
             0,
             "#0d0887"
            ],
            [
             0.1111111111111111,
             "#46039f"
            ],
            [
             0.2222222222222222,
             "#7201a8"
            ],
            [
             0.3333333333333333,
             "#9c179e"
            ],
            [
             0.4444444444444444,
             "#bd3786"
            ],
            [
             0.5555555555555556,
             "#d8576b"
            ],
            [
             0.6666666666666666,
             "#ed7953"
            ],
            [
             0.7777777777777778,
             "#fb9f3a"
            ],
            [
             0.8888888888888888,
             "#fdca26"
            ],
            [
             1,
             "#f0f921"
            ]
           ]
          },
          "colorway": [
           "#636efa",
           "#EF553B",
           "#00cc96",
           "#ab63fa",
           "#FFA15A",
           "#19d3f3",
           "#FF6692",
           "#B6E880",
           "#FF97FF",
           "#FECB52"
          ],
          "font": {
           "color": "#2a3f5f"
          },
          "geo": {
           "bgcolor": "white",
           "lakecolor": "white",
           "landcolor": "#E5ECF6",
           "showlakes": true,
           "showland": true,
           "subunitcolor": "white"
          },
          "hoverlabel": {
           "align": "left"
          },
          "hovermode": "closest",
          "mapbox": {
           "style": "light"
          },
          "paper_bgcolor": "white",
          "plot_bgcolor": "#E5ECF6",
          "polar": {
           "angularaxis": {
            "gridcolor": "white",
            "linecolor": "white",
            "ticks": ""
           },
           "bgcolor": "#E5ECF6",
           "radialaxis": {
            "gridcolor": "white",
            "linecolor": "white",
            "ticks": ""
           }
          },
          "scene": {
           "xaxis": {
            "backgroundcolor": "#E5ECF6",
            "gridcolor": "white",
            "gridwidth": 2,
            "linecolor": "white",
            "showbackground": true,
            "ticks": "",
            "zerolinecolor": "white"
           },
           "yaxis": {
            "backgroundcolor": "#E5ECF6",
            "gridcolor": "white",
            "gridwidth": 2,
            "linecolor": "white",
            "showbackground": true,
            "ticks": "",
            "zerolinecolor": "white"
           },
           "zaxis": {
            "backgroundcolor": "#E5ECF6",
            "gridcolor": "white",
            "gridwidth": 2,
            "linecolor": "white",
            "showbackground": true,
            "ticks": "",
            "zerolinecolor": "white"
           }
          },
          "shapedefaults": {
           "line": {
            "color": "#2a3f5f"
           }
          },
          "ternary": {
           "aaxis": {
            "gridcolor": "white",
            "linecolor": "white",
            "ticks": ""
           },
           "baxis": {
            "gridcolor": "white",
            "linecolor": "white",
            "ticks": ""
           },
           "bgcolor": "#E5ECF6",
           "caxis": {
            "gridcolor": "white",
            "linecolor": "white",
            "ticks": ""
           }
          },
          "title": {
           "x": 0.05
          },
          "xaxis": {
           "automargin": true,
           "gridcolor": "white",
           "linecolor": "white",
           "ticks": "",
           "title": {
            "standoff": 15
           },
           "zerolinecolor": "white",
           "zerolinewidth": 2
          },
          "yaxis": {
           "automargin": true,
           "gridcolor": "white",
           "linecolor": "white",
           "ticks": "",
           "title": {
            "standoff": 15
           },
           "zerolinecolor": "white",
           "zerolinewidth": 2
          }
         }
        },
        "title": {
         "text": "Updated Probability Vector"
        },
        "xaxis": {
         "title": {
          "text": "Price"
         }
        },
        "yaxis": {
         "title": {
          "text": "Probability"
         }
        }
       }
      }
     },
     "metadata": {},
     "output_type": "display_data"
    },
    {
     "name": "stdout",
     "output_type": "stream",
     "text": [
      "EV:  0.00026453991051869066\n",
      "Bid price:  0\n",
      "Ask price:  1\n"
     ]
    }
   ],
   "source": [
    "# MANY SELL ORDERS SIMULATION\n",
    "\n",
    "# update the probability vector given a sell order\n",
    "last_probability_vector = initial_probability_vector\n",
    "\n",
    "for i in range(100):\n",
    "\n",
    "    updated_probability_vector = np.zeros(101)\n",
    "    Pb = calculate_bid(last_probability_vector, calculate_expected_value(last_probability_vector, PRICES), PRICES)\n",
    "    total_sell_probability = sum(probability_sell_given_V(Vi, Pb, ALPHA, ETA, SIGMA_W) * last_probability_vector[Vi]\n",
    "                                    for Vi in range(101))\n",
    "\n",
    "    for i in range(len(last_probability_vector)):\n",
    "        previous_probability = last_probability_vector[i]\n",
    "        Vi = i\n",
    "        p_sell = probability_sell_given_V(Vi, Pb, ALPHA, ETA, SIGMA_W)\n",
    "\n",
    "        new_probability = probability_V_given_sell(Vi, last_probability_vector, p_sell, total_sell_probability)\n",
    "        updated_probability_vector[i] = new_probability\n",
    "\n",
    "    last_probability_vector = updated_probability_vector\n",
    "\n",
    "# Plot the updated probability vector\n",
    "fig = go.Figure(data=[go.Scatter(x=np.arange(101), y=last_probability_vector)])\n",
    "fig.update_layout(title=\"Updated Probability Vector\", xaxis_title=\"Price\", yaxis_title=\"Probability\")\n",
    "fig.show()\n",
    "\n",
    "# UPDATE BID AND ASK\n",
    "\n",
    "Pb = calculate_bid(last_probability_vector, calculate_expected_value(last_probability_vector, PRICES), PRICES)\n",
    "Pa = calculate_ask(last_probability_vector, calculate_expected_value(last_probability_vector, PRICES), PRICES)\n",
    "\n",
    "print(\"EV: \", calculate_expected_value(last_probability_vector, PRICES))\n",
    "print(\"Bid price: \", Pb)\n",
    "print(\"Ask price: \", Pa)"
   ]
  },
  {
   "cell_type": "markdown",
   "metadata": {},
   "source": [
    "# More realistic simulation"
   ]
  },
  {
   "cell_type": "code",
   "execution_count": 74,
   "metadata": {},
   "outputs": [
    {
     "data": {
      "application/vnd.plotly.v1+json": {
       "config": {
        "plotlyServerURL": "https://plot.ly"
       },
       "data": [
        {
         "type": "scatter",
         "x": [
          0,
          1,
          2,
          3,
          4,
          5,
          6,
          7,
          8,
          9,
          10,
          11,
          12,
          13,
          14,
          15,
          16,
          17,
          18,
          19,
          20,
          21,
          22,
          23,
          24,
          25,
          26,
          27,
          28,
          29,
          30,
          31,
          32,
          33,
          34,
          35,
          36,
          37,
          38,
          39,
          40,
          41,
          42,
          43,
          44,
          45,
          46,
          47,
          48,
          49,
          50,
          51,
          52,
          53,
          54,
          55,
          56,
          57,
          58,
          59,
          60,
          61,
          62,
          63,
          64,
          65,
          66,
          67,
          68,
          69,
          70,
          71,
          72,
          73,
          74,
          75,
          76,
          77,
          78,
          79,
          80,
          81,
          82,
          83,
          84,
          85,
          86,
          87,
          88,
          89,
          90,
          91,
          92,
          93,
          94,
          95,
          96,
          97,
          98,
          99,
          100
         ],
         "y": [
          3.34331841767371e-33,
          5.484707976800688e-33,
          8.908125626728303e-33,
          1.4324392480766033e-32,
          2.2804636076567287e-32,
          3.594406039366199e-32,
          5.609035384272691e-32,
          8.665752465052344e-32,
          1.325505194971901e-31,
          2.0073062839012173e-31,
          3.0095593298357664e-31,
          4.467342290865541e-31,
          6.5652702095472324e-31,
          9.552411790169907e-31,
          1.376038299873536e-30,
          1.962479204561314e-30,
          2.771000862821648e-30,
          3.87369405262495e-30,
          5.361311453813214e-30,
          7.346387658960745e-30,
          9.96629605467285e-30,
          1.3386005847457357e-29,
          1.7800241752820415e-29,
          2.3434700111124746e-29,
          3.0545959030204926e-29,
          3.941977601703769e-29,
          5.036767021059769e-29,
          6.37221781623507e-29,
          7.983219367958699e-29,
          9.906172465933853e-29,
          1.2179870512172948e-28,
          1.484856585153909e-28,
          1.7969121819434629e-28,
          2.162504317679023e-28,
          2.595117284191221e-28,
          3.117400613955469e-28,
          3.767453285517203e-28,
          4.608515324416572e-28,
          5.744328332682526e-28,
          7.344730299377519e-28,
          9.690166092034675e-28,
          1.3250258008742218e-27,
          1.882077623987748e-27,
          2.77552534259313e-27,
          4.234043895410113e-27,
          6.637295780863372e-27,
          1.059858824009092e-26,
          1.7073246884492945e-26,
          2.74848964622348e-26,
          4.384995033227347e-26,
          6.887250288715649e-26,
          1.0599761580645145e-25,
          1.5948204502267076e-25,
          2.3468219066940976e-25,
          3.389385231995208e-25,
          4.836362944392101e-25,
          6.884215152918489e-25,
          9.897704760321546e-25,
          1.4597309814954137e-24,
          2.2512358285890833e-24,
          3.71987318655087e-24,
          6.792058020633117e-24,
          1.4245611517497523e-23,
          3.598073768345393e-23,
          1.1557418854737009e-22,
          5.005245386582313e-22,
          3.091435669995466e-21,
          2.8505085576602315e-20,
          4.027770674629158e-19,
          8.704097014765354e-18,
          2.7738097319105813e-16,
          1.2114315390047555e-14,
          6.513183014128768e-13,
          3.7742553929316374e-11,
          2.037633172230724e-9,
          8.878753991678981e-8,
          0.0000027508248747365682,
          0.00005493462849510021,
          0.0006648442564922143,
          0.004769890490638355,
          0.02061303625907528,
          0.056285503462906346,
          0.10414141321205558,
          0.1414251822845387,
          0.15239194740286247,
          0.13928166969573802,
          0.11360188196040087,
          0.08565140197408502,
          0.0611003375526034,
          0.041894235917524336,
          0.027932507713499522,
          0.0182747809946001,
          0.01181225505575803,
          0.007575981534063851,
          0.004831070547742423,
          0.0030637603076973103,
          0.001930885005661832,
          0.0012080800567429207,
          0.0007496486571730832,
          0.00046103312448029463,
          0.0002808762167107805
         ]
        }
       ],
       "layout": {
        "template": {
         "data": {
          "bar": [
           {
            "error_x": {
             "color": "#2a3f5f"
            },
            "error_y": {
             "color": "#2a3f5f"
            },
            "marker": {
             "line": {
              "color": "#E5ECF6",
              "width": 0.5
             },
             "pattern": {
              "fillmode": "overlay",
              "size": 10,
              "solidity": 0.2
             }
            },
            "type": "bar"
           }
          ],
          "barpolar": [
           {
            "marker": {
             "line": {
              "color": "#E5ECF6",
              "width": 0.5
             },
             "pattern": {
              "fillmode": "overlay",
              "size": 10,
              "solidity": 0.2
             }
            },
            "type": "barpolar"
           }
          ],
          "carpet": [
           {
            "aaxis": {
             "endlinecolor": "#2a3f5f",
             "gridcolor": "white",
             "linecolor": "white",
             "minorgridcolor": "white",
             "startlinecolor": "#2a3f5f"
            },
            "baxis": {
             "endlinecolor": "#2a3f5f",
             "gridcolor": "white",
             "linecolor": "white",
             "minorgridcolor": "white",
             "startlinecolor": "#2a3f5f"
            },
            "type": "carpet"
           }
          ],
          "choropleth": [
           {
            "colorbar": {
             "outlinewidth": 0,
             "ticks": ""
            },
            "type": "choropleth"
           }
          ],
          "contour": [
           {
            "colorbar": {
             "outlinewidth": 0,
             "ticks": ""
            },
            "colorscale": [
             [
              0,
              "#0d0887"
             ],
             [
              0.1111111111111111,
              "#46039f"
             ],
             [
              0.2222222222222222,
              "#7201a8"
             ],
             [
              0.3333333333333333,
              "#9c179e"
             ],
             [
              0.4444444444444444,
              "#bd3786"
             ],
             [
              0.5555555555555556,
              "#d8576b"
             ],
             [
              0.6666666666666666,
              "#ed7953"
             ],
             [
              0.7777777777777778,
              "#fb9f3a"
             ],
             [
              0.8888888888888888,
              "#fdca26"
             ],
             [
              1,
              "#f0f921"
             ]
            ],
            "type": "contour"
           }
          ],
          "contourcarpet": [
           {
            "colorbar": {
             "outlinewidth": 0,
             "ticks": ""
            },
            "type": "contourcarpet"
           }
          ],
          "heatmap": [
           {
            "colorbar": {
             "outlinewidth": 0,
             "ticks": ""
            },
            "colorscale": [
             [
              0,
              "#0d0887"
             ],
             [
              0.1111111111111111,
              "#46039f"
             ],
             [
              0.2222222222222222,
              "#7201a8"
             ],
             [
              0.3333333333333333,
              "#9c179e"
             ],
             [
              0.4444444444444444,
              "#bd3786"
             ],
             [
              0.5555555555555556,
              "#d8576b"
             ],
             [
              0.6666666666666666,
              "#ed7953"
             ],
             [
              0.7777777777777778,
              "#fb9f3a"
             ],
             [
              0.8888888888888888,
              "#fdca26"
             ],
             [
              1,
              "#f0f921"
             ]
            ],
            "type": "heatmap"
           }
          ],
          "heatmapgl": [
           {
            "colorbar": {
             "outlinewidth": 0,
             "ticks": ""
            },
            "colorscale": [
             [
              0,
              "#0d0887"
             ],
             [
              0.1111111111111111,
              "#46039f"
             ],
             [
              0.2222222222222222,
              "#7201a8"
             ],
             [
              0.3333333333333333,
              "#9c179e"
             ],
             [
              0.4444444444444444,
              "#bd3786"
             ],
             [
              0.5555555555555556,
              "#d8576b"
             ],
             [
              0.6666666666666666,
              "#ed7953"
             ],
             [
              0.7777777777777778,
              "#fb9f3a"
             ],
             [
              0.8888888888888888,
              "#fdca26"
             ],
             [
              1,
              "#f0f921"
             ]
            ],
            "type": "heatmapgl"
           }
          ],
          "histogram": [
           {
            "marker": {
             "pattern": {
              "fillmode": "overlay",
              "size": 10,
              "solidity": 0.2
             }
            },
            "type": "histogram"
           }
          ],
          "histogram2d": [
           {
            "colorbar": {
             "outlinewidth": 0,
             "ticks": ""
            },
            "colorscale": [
             [
              0,
              "#0d0887"
             ],
             [
              0.1111111111111111,
              "#46039f"
             ],
             [
              0.2222222222222222,
              "#7201a8"
             ],
             [
              0.3333333333333333,
              "#9c179e"
             ],
             [
              0.4444444444444444,
              "#bd3786"
             ],
             [
              0.5555555555555556,
              "#d8576b"
             ],
             [
              0.6666666666666666,
              "#ed7953"
             ],
             [
              0.7777777777777778,
              "#fb9f3a"
             ],
             [
              0.8888888888888888,
              "#fdca26"
             ],
             [
              1,
              "#f0f921"
             ]
            ],
            "type": "histogram2d"
           }
          ],
          "histogram2dcontour": [
           {
            "colorbar": {
             "outlinewidth": 0,
             "ticks": ""
            },
            "colorscale": [
             [
              0,
              "#0d0887"
             ],
             [
              0.1111111111111111,
              "#46039f"
             ],
             [
              0.2222222222222222,
              "#7201a8"
             ],
             [
              0.3333333333333333,
              "#9c179e"
             ],
             [
              0.4444444444444444,
              "#bd3786"
             ],
             [
              0.5555555555555556,
              "#d8576b"
             ],
             [
              0.6666666666666666,
              "#ed7953"
             ],
             [
              0.7777777777777778,
              "#fb9f3a"
             ],
             [
              0.8888888888888888,
              "#fdca26"
             ],
             [
              1,
              "#f0f921"
             ]
            ],
            "type": "histogram2dcontour"
           }
          ],
          "mesh3d": [
           {
            "colorbar": {
             "outlinewidth": 0,
             "ticks": ""
            },
            "type": "mesh3d"
           }
          ],
          "parcoords": [
           {
            "line": {
             "colorbar": {
              "outlinewidth": 0,
              "ticks": ""
             }
            },
            "type": "parcoords"
           }
          ],
          "pie": [
           {
            "automargin": true,
            "type": "pie"
           }
          ],
          "scatter": [
           {
            "fillpattern": {
             "fillmode": "overlay",
             "size": 10,
             "solidity": 0.2
            },
            "type": "scatter"
           }
          ],
          "scatter3d": [
           {
            "line": {
             "colorbar": {
              "outlinewidth": 0,
              "ticks": ""
             }
            },
            "marker": {
             "colorbar": {
              "outlinewidth": 0,
              "ticks": ""
             }
            },
            "type": "scatter3d"
           }
          ],
          "scattercarpet": [
           {
            "marker": {
             "colorbar": {
              "outlinewidth": 0,
              "ticks": ""
             }
            },
            "type": "scattercarpet"
           }
          ],
          "scattergeo": [
           {
            "marker": {
             "colorbar": {
              "outlinewidth": 0,
              "ticks": ""
             }
            },
            "type": "scattergeo"
           }
          ],
          "scattergl": [
           {
            "marker": {
             "colorbar": {
              "outlinewidth": 0,
              "ticks": ""
             }
            },
            "type": "scattergl"
           }
          ],
          "scattermapbox": [
           {
            "marker": {
             "colorbar": {
              "outlinewidth": 0,
              "ticks": ""
             }
            },
            "type": "scattermapbox"
           }
          ],
          "scatterpolar": [
           {
            "marker": {
             "colorbar": {
              "outlinewidth": 0,
              "ticks": ""
             }
            },
            "type": "scatterpolar"
           }
          ],
          "scatterpolargl": [
           {
            "marker": {
             "colorbar": {
              "outlinewidth": 0,
              "ticks": ""
             }
            },
            "type": "scatterpolargl"
           }
          ],
          "scatterternary": [
           {
            "marker": {
             "colorbar": {
              "outlinewidth": 0,
              "ticks": ""
             }
            },
            "type": "scatterternary"
           }
          ],
          "surface": [
           {
            "colorbar": {
             "outlinewidth": 0,
             "ticks": ""
            },
            "colorscale": [
             [
              0,
              "#0d0887"
             ],
             [
              0.1111111111111111,
              "#46039f"
             ],
             [
              0.2222222222222222,
              "#7201a8"
             ],
             [
              0.3333333333333333,
              "#9c179e"
             ],
             [
              0.4444444444444444,
              "#bd3786"
             ],
             [
              0.5555555555555556,
              "#d8576b"
             ],
             [
              0.6666666666666666,
              "#ed7953"
             ],
             [
              0.7777777777777778,
              "#fb9f3a"
             ],
             [
              0.8888888888888888,
              "#fdca26"
             ],
             [
              1,
              "#f0f921"
             ]
            ],
            "type": "surface"
           }
          ],
          "table": [
           {
            "cells": {
             "fill": {
              "color": "#EBF0F8"
             },
             "line": {
              "color": "white"
             }
            },
            "header": {
             "fill": {
              "color": "#C8D4E3"
             },
             "line": {
              "color": "white"
             }
            },
            "type": "table"
           }
          ]
         },
         "layout": {
          "annotationdefaults": {
           "arrowcolor": "#2a3f5f",
           "arrowhead": 0,
           "arrowwidth": 1
          },
          "autotypenumbers": "strict",
          "coloraxis": {
           "colorbar": {
            "outlinewidth": 0,
            "ticks": ""
           }
          },
          "colorscale": {
           "diverging": [
            [
             0,
             "#8e0152"
            ],
            [
             0.1,
             "#c51b7d"
            ],
            [
             0.2,
             "#de77ae"
            ],
            [
             0.3,
             "#f1b6da"
            ],
            [
             0.4,
             "#fde0ef"
            ],
            [
             0.5,
             "#f7f7f7"
            ],
            [
             0.6,
             "#e6f5d0"
            ],
            [
             0.7,
             "#b8e186"
            ],
            [
             0.8,
             "#7fbc41"
            ],
            [
             0.9,
             "#4d9221"
            ],
            [
             1,
             "#276419"
            ]
           ],
           "sequential": [
            [
             0,
             "#0d0887"
            ],
            [
             0.1111111111111111,
             "#46039f"
            ],
            [
             0.2222222222222222,
             "#7201a8"
            ],
            [
             0.3333333333333333,
             "#9c179e"
            ],
            [
             0.4444444444444444,
             "#bd3786"
            ],
            [
             0.5555555555555556,
             "#d8576b"
            ],
            [
             0.6666666666666666,
             "#ed7953"
            ],
            [
             0.7777777777777778,
             "#fb9f3a"
            ],
            [
             0.8888888888888888,
             "#fdca26"
            ],
            [
             1,
             "#f0f921"
            ]
           ],
           "sequentialminus": [
            [
             0,
             "#0d0887"
            ],
            [
             0.1111111111111111,
             "#46039f"
            ],
            [
             0.2222222222222222,
             "#7201a8"
            ],
            [
             0.3333333333333333,
             "#9c179e"
            ],
            [
             0.4444444444444444,
             "#bd3786"
            ],
            [
             0.5555555555555556,
             "#d8576b"
            ],
            [
             0.6666666666666666,
             "#ed7953"
            ],
            [
             0.7777777777777778,
             "#fb9f3a"
            ],
            [
             0.8888888888888888,
             "#fdca26"
            ],
            [
             1,
             "#f0f921"
            ]
           ]
          },
          "colorway": [
           "#636efa",
           "#EF553B",
           "#00cc96",
           "#ab63fa",
           "#FFA15A",
           "#19d3f3",
           "#FF6692",
           "#B6E880",
           "#FF97FF",
           "#FECB52"
          ],
          "font": {
           "color": "#2a3f5f"
          },
          "geo": {
           "bgcolor": "white",
           "lakecolor": "white",
           "landcolor": "#E5ECF6",
           "showlakes": true,
           "showland": true,
           "subunitcolor": "white"
          },
          "hoverlabel": {
           "align": "left"
          },
          "hovermode": "closest",
          "mapbox": {
           "style": "light"
          },
          "paper_bgcolor": "white",
          "plot_bgcolor": "#E5ECF6",
          "polar": {
           "angularaxis": {
            "gridcolor": "white",
            "linecolor": "white",
            "ticks": ""
           },
           "bgcolor": "#E5ECF6",
           "radialaxis": {
            "gridcolor": "white",
            "linecolor": "white",
            "ticks": ""
           }
          },
          "scene": {
           "xaxis": {
            "backgroundcolor": "#E5ECF6",
            "gridcolor": "white",
            "gridwidth": 2,
            "linecolor": "white",
            "showbackground": true,
            "ticks": "",
            "zerolinecolor": "white"
           },
           "yaxis": {
            "backgroundcolor": "#E5ECF6",
            "gridcolor": "white",
            "gridwidth": 2,
            "linecolor": "white",
            "showbackground": true,
            "ticks": "",
            "zerolinecolor": "white"
           },
           "zaxis": {
            "backgroundcolor": "#E5ECF6",
            "gridcolor": "white",
            "gridwidth": 2,
            "linecolor": "white",
            "showbackground": true,
            "ticks": "",
            "zerolinecolor": "white"
           }
          },
          "shapedefaults": {
           "line": {
            "color": "#2a3f5f"
           }
          },
          "ternary": {
           "aaxis": {
            "gridcolor": "white",
            "linecolor": "white",
            "ticks": ""
           },
           "baxis": {
            "gridcolor": "white",
            "linecolor": "white",
            "ticks": ""
           },
           "bgcolor": "#E5ECF6",
           "caxis": {
            "gridcolor": "white",
            "linecolor": "white",
            "ticks": ""
           }
          },
          "title": {
           "x": 0.05
          },
          "xaxis": {
           "automargin": true,
           "gridcolor": "white",
           "linecolor": "white",
           "ticks": "",
           "title": {
            "standoff": 15
           },
           "zerolinecolor": "white",
           "zerolinewidth": 2
          },
          "yaxis": {
           "automargin": true,
           "gridcolor": "white",
           "linecolor": "white",
           "ticks": "",
           "title": {
            "standoff": 15
           },
           "zerolinecolor": "white",
           "zerolinewidth": 2
          }
         }
        },
        "title": {
         "text": "Updated Probability Vector"
        },
        "xaxis": {
         "title": {
          "text": "Price"
         }
        },
        "yaxis": {
         "title": {
          "text": "Probability"
         }
        }
       }
      }
     },
     "metadata": {},
     "output_type": "display_data"
    },
    {
     "name": "stdout",
     "output_type": "stream",
     "text": [
      "EV:  85.04904233302375\n",
      "Bid price:  84\n",
      "Ask price:  86\n"
     ]
    }
   ],
   "source": [
    "# See what happens when 75% of the orders are buy and 25% are sell\n",
    "\n",
    "# update the probability vector given a sell order\n",
    "last_probability_vector = initial_probability_vector\n",
    "\n",
    "for i in range(100):\n",
    "\n",
    "    updated_probability_vector = np.zeros(101)\n",
    "\n",
    "    # generate a random number between 1 and 4\n",
    "    random_number = np.random.randint(1, 5)\n",
    "\n",
    "    if random_number in [1, 2, 3]:\n",
    "        # 75% chance of a buy order\n",
    "        Pa = calculate_ask(last_probability_vector, calculate_expected_value(last_probability_vector, PRICES), PRICES)\n",
    "        total_buy_probability = sum(probability_buy_given_V(Vi, Pa, ALPHA, ETA, SIGMA_W) * last_probability_vector[Vi]\n",
    "                                    for Vi in range(101))\n",
    "\n",
    "        for i in range(len(last_probability_vector)):\n",
    "            previous_probability = last_probability_vector[i]\n",
    "            Vi = i\n",
    "            p_buy = probability_buy_given_V(Vi, Pa, ALPHA, ETA, SIGMA_W)\n",
    "\n",
    "            new_probability = probability_V_given_buy(Vi, last_probability_vector, p_buy, total_buy_probability)\n",
    "            updated_probability_vector[i] = new_probability\n",
    "\n",
    "    else:\n",
    "        # 25% chance of a sell order\n",
    "        Pb = calculate_bid(last_probability_vector, calculate_expected_value(last_probability_vector, PRICES), PRICES)\n",
    "        total_sell_probability = sum(probability_sell_given_V(Vi, Pb, ALPHA, ETA, SIGMA_W) * last_probability_vector[Vi]\n",
    "                                    for Vi in range(101))\n",
    "\n",
    "        for i in range(len(last_probability_vector)):\n",
    "            previous_probability = last_probability_vector[i]\n",
    "            Vi = i\n",
    "            p_sell = probability_sell_given_V(Vi, Pb, ALPHA, ETA, SIGMA_W)\n",
    "\n",
    "            new_probability = probability_V_given_sell(Vi, last_probability_vector, p_sell, total_sell_probability)\n",
    "            updated_probability_vector[i] = new_probability\n",
    "\n",
    "    last_probability_vector = updated_probability_vector\n",
    "\n",
    "# Plot the updated probability vector\n",
    "fig = go.Figure(data=[go.Scatter(x=np.arange(101), y=last_probability_vector)])\n",
    "fig.update_layout(title=\"Updated Probability Vector\", xaxis_title=\"Price\", yaxis_title=\"Probability\")\n",
    "fig.show()\n",
    "\n",
    "# UPDATE BID AND ASK\n",
    "\n",
    "Pb = calculate_bid(last_probability_vector, calculate_expected_value(last_probability_vector, PRICES), PRICES)\n",
    "Pa = calculate_ask(last_probability_vector, calculate_expected_value(last_probability_vector, PRICES), PRICES)\n",
    "\n",
    "print(\"EV: \", calculate_expected_value(last_probability_vector, PRICES))\n",
    "print(\"Bid price: \", Pb)\n",
    "print(\"Ask price: \", Pa)"
   ]
  }
 ],
 "metadata": {
  "kernelspec": {
   "display_name": "base",
   "language": "python",
   "name": "python3"
  },
  "language_info": {
   "codemirror_mode": {
    "name": "ipython",
    "version": 3
   },
   "file_extension": ".py",
   "mimetype": "text/x-python",
   "name": "python",
   "nbconvert_exporter": "python",
   "pygments_lexer": "ipython3",
   "version": "3.9.12"
  },
  "orig_nbformat": 4
 },
 "nbformat": 4,
 "nbformat_minor": 2
}
